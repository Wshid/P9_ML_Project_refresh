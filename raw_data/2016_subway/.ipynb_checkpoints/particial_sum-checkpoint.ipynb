{
 "cells": [
  {
   "cell_type": "code",
   "execution_count": 1,
   "metadata": {
    "collapsed": false
   },
   "outputs": [
    {
     "name": "stdout",
     "output_type": "stream",
     "text": [
      "Populating the interactive namespace from numpy and matplotlib\n"
     ]
    }
   ],
   "source": [
    "%pylab inline"
   ]
  },
  {
   "cell_type": "code",
   "execution_count": 4,
   "metadata": {
    "collapsed": false
   },
   "outputs": [
    {
     "data": {
      "text/plain": [
       "'서울역(150),2016-01-01,일반,298,243,490,909,1347,1618,2399,2763,2656,2019,2885,2871,2550,2520,2129,1924,2038,1766,868,52,0'"
      ]
     },
     "execution_count": 4,
     "metadata": {},
     "output_type": "execute_result"
    }
   ],
   "source": [
    "raw_data=sc.textFile(\"/home/ubuntu/workspace/project/download/raw_data/2016_subway/m_1601.csv\")\n",
    "raw_data.first()"
   ]
  },
  {
   "cell_type": "code",
   "execution_count": 74,
   "metadata": {
    "collapsed": false
   },
   "outputs": [
    {
     "data": {
      "text/plain": [
       "[(('서울역(150)', '2016-01-01'),\n",
       "  ['298',\n",
       "   '243',\n",
       "   '490',\n",
       "   '909',\n",
       "   '1347',\n",
       "   '1618',\n",
       "   '2399',\n",
       "   '2763',\n",
       "   '2656',\n",
       "   '2019',\n",
       "   '2885',\n",
       "   '2871',\n",
       "   '2550',\n",
       "   '2520',\n",
       "   '2129',\n",
       "   '1924',\n",
       "   '2038',\n",
       "   '1766',\n",
       "   '868',\n",
       "   '52',\n",
       "   '0'])]"
      ]
     },
     "execution_count": 74,
     "metadata": {},
     "output_type": "execute_result"
    }
   ],
   "source": [
    "data=raw_data.map(lambda line:line.split(\",\"))\n",
    "map_data=data.map(lambda line:((line[0], line[1]),[line[i] for i in range(3, len(line))]))\n",
    "#일단 먹긴 먹음.. 올\n",
    "# float부분을 tuple로 묶으면, 튜플형으로 전환됨\n",
    "map_data.take(1)"
   ]
  },
  {
   "cell_type": "code",
   "execution_count": 83,
   "metadata": {
    "collapsed": false
   },
   "outputs": [
    {
     "data": {
      "text/plain": [
       "PythonRDD[257] at RDD at PythonRDD.scala:48"
      ]
     },
     "execution_count": 83,
     "metadata": {},
     "output_type": "execute_result"
    }
   ],
   "source": [
    "map_data.cache()"
   ]
  },
  {
   "cell_type": "code",
   "execution_count": 88,
   "metadata": {
    "collapsed": false
   },
   "outputs": [],
   "source": [
    "#temp=map_data.groupByKey().mapValues(lambda x:(x[i] for i in range(3, len(x))))\n",
    "#temp.first()\n",
    "#map_data.reduceByKey(lambda x,y:[float(x[i]+y[i]) for i in range(3,len(x))]).take(3)\n",
    "\n",
    "#map_data.reduceByKey(lambda x,y:x+y).take(2) # 이렇게 하면 이어 붙여짐\n",
    "\n",
    "#map_data.groupByKey().map(lambda x:(x[0], list(x[1]))).collect() #resultiterable을 보게 하는 방법\n",
    "\n",
    "\n",
    "partial_data=map_data.reduceByKey(lambda x,y:[float(x[i])+float(y[i]) for i in range(len(x))])\n",
    "#완료!! 뒤에 filter구문을 사용하여, 일자별로 확인 가능\n",
    "#.filter(lambda k : k[0][1]=='2016-01-01')\n"
   ]
  },
  {
   "cell_type": "code",
   "execution_count": 112,
   "metadata": {
    "collapsed": false
   },
   "outputs": [],
   "source": [
    "partial_data.saveAsTextFile(\"/home/ubuntu/workspace/project/download/raw_data/1601_partial\")"
   ]
  }
 ],
 "metadata": {
  "kernelspec": {
   "display_name": "Python 3",
   "language": "python",
   "name": "python3"
  },
  "language_info": {
   "codemirror_mode": {
    "name": "ipython",
    "version": 3
   },
   "file_extension": ".py",
   "mimetype": "text/x-python",
   "name": "python",
   "nbconvert_exporter": "python",
   "pygments_lexer": "ipython3",
   "version": "3.4.3"
  }
 },
 "nbformat": 4,
 "nbformat_minor": 2
}
