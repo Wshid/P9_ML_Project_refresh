{
 "cells": [
  {
   "cell_type": "markdown",
   "metadata": {
    "deletable": true,
    "editable": true
   },
   "source": [
    "# Project(9) : Machine Learning with Spark\n",
    "\n",
    "## * Model Testing\n",
    "\n",
    "### 1) Same code_01_model_RDD(crawl raw_data)\n"
   ]
  },
  {
   "cell_type": "code",
   "execution_count": 13,
   "metadata": {
    "collapsed": false,
    "deletable": true,
    "editable": true
   },
   "outputs": [
    {
     "name": "stdout",
     "output_type": "stream",
     "text": [
      "Populating the interactive namespace from numpy and matplotlib\n"
     ]
    }
   ],
   "source": [
    "%pylab inline\n",
    "import numpy as np\n",
    "from pyspark.mllib.regression import LabeledPoint\n",
    "from pyspark.mllib.linalg import Vectors\n",
    "\n",
    "from pyspark.mllib.regression import LinearRegressionWithSGD\n",
    "from pyspark.mllib.tree import DecisionTree\n",
    "\n",
    "# for loading model\n",
    "from pyspark.mllib.regression import LinearRegressionModel\n",
    "from pyspark.mllib.tree import DecisionTreeModel"
   ]
  },
  {
   "cell_type": "code",
   "execution_count": 14,
   "metadata": {
    "collapsed": false,
    "deletable": true,
    "editable": true
   },
   "outputs": [
    {
     "data": {
      "text/plain": [
       "<bound method RDD.cache of PythonRDD[84] at RDD at PythonRDD.scala:48>"
      ]
     },
     "execution_count": 14,
     "metadata": {},
     "output_type": "execute_result"
    }
   ],
   "source": [
    "raw_data=sc.textFile(\"/home/csxion/Desktop/project/data/p9_data_11_16_2q_sed.csv\")\n",
    "#raw_data=sc.textFile(\"/home/csxion/Desktop/project/data/p9_data_11_*\")\n",
    "records=raw_data.map(lambda line:line.split(\",\"))\n",
    "subway_dict=records.map(lambda r:r[0]).distinct().zipWithIndex().collectAsMap() # distinct 꼭 사용할 것\n",
    "time_dict=records.map(lambda r:r[2]).distinct().zipWithIndex().collectAsMap()\n",
    "\n",
    "# r[0] : subway station name // Category feature => binary vector\n",
    "# r[1] : Date(Not used)\n",
    "# r[2] : Time(5~23) # Category feature => binary vector\n",
    "\n",
    "def check_error_float(data, econd, subt): #data가 equal_cond와 같을때, subt로 치환한다.\n",
    "    if(data==econd):\n",
    "        return subt\n",
    "    else:\n",
    "        return float(data)\n",
    "\n",
    "def extract_features_linear(r): #line별\n",
    "    name_vec=np.zeros(len(subway_dict)) # 역 이름에 대하여 카테고리 특징을 바이너리 벡터 형태로 변환한다.\n",
    "    name_vec[subway_dict[r[0]]]=1\n",
    "    time_vec=np.zeros(len(time_dict)) # 시간 데이터에 대하여(5~23) 카테고리 특징을 바이너리 벡터 형태로 변환한다.\n",
    "    time_vec[time_dict[r[2]]]=1\n",
    "    #numbers=np.array([float(r[i]) for i in range(3,len(r)-1)])\n",
    "    #numbers=np.array([float(e) for e in r[3:]])\n",
    "    for i in range(3,len(r)-1):\n",
    "        r[i]=check_error_float(r[i], \"#N/A\", 0.0)\n",
    "    numbers=np.array([float(d) for d in r[3:len(r)-1]])\n",
    "    return np.concatenate((name_vec, time_vec, numbers)) # 역 + 시간 + 특징벡터 값으로 구성되는 numpy.array를 반환한다.\n",
    "#flatMap을 사용할 필요가 없음\n",
    "\n",
    "def extract_label(r):\n",
    "    return float(r[len(r)-1]) # int는 소문자로 지정해야 함\n",
    "#float\n",
    "\n",
    "def extract_features_dt(r): # dt모델에 적용할 특징벡터를 추출하는 함수. 여기서는 바이너리 벡터를 생성하지 않는다.\n",
    "    name=float(subway_dict[r[0]])\n",
    "    time=float(time_dict[r[2]])\n",
    "    for i in range(3,len(r)-1):\n",
    "        r[i]=check_error_float(r[i], \"#N/A\", 0.0)\n",
    "    numbers=np.array([float(d) for d in r[3:len(r)-1]])\n",
    "    return np.concatenate((np.array([name, time]), numbers))\n",
    "\n",
    "# np.concatenate 함수는 꼭 이중괄호를 해주어야 index 에러가 나지 않는다.\n",
    "# extract_label 함수의 경우 linearRegression Model과 DecisionTree 모두 동일하게 사용한다\n",
    "\n",
    "data=records.map(lambda r:LabeledPoint(extract_label(r), Vectors.dense(np.array(extract_features_linear(r)))))\n",
    "data.cache\n",
    "data_dt=records.map(lambda r:LabeledPoint(extract_label(r), Vectors.dense(extract_features_dt(r))))\n",
    "data_dt.cache"
   ]
  },
  {
   "cell_type": "code",
   "execution_count": 15,
   "metadata": {
    "collapsed": false,
    "deletable": true,
    "editable": true
   },
   "outputs": [
    {
     "data": {
      "text/plain": [
       "LabeledPoint(124.0, [0.0,0.0,0.0,0.0,0.0,0.0,0.0,0.0,0.0,0.0,0.0,0.0,0.0,0.0,0.0,0.0,0.0,0.0,0.0,0.0,0.0,0.0,0.0,0.0,0.0,0.0,0.0,0.0,0.0,0.0,0.0,0.0,0.0,0.0,0.0,0.0,0.0,0.0,0.0,1.0,0.0,0.0,0.0,0.0,0.0,0.0,0.0,0.0,0.0,0.0,0.0,0.0,0.0,0.0,0.0,0.0,0.0,0.0,0.0,0.0,0.0,0.0,0.0,0.0,0.0,0.0,0.0,0.0,0.0,0.0,0.0,0.0,0.0,0.0,0.0,0.0,0.0,0.0,0.0,0.0,0.0,0.0,0.0,0.0,0.0,0.0,0.0,0.0,0.0,0.0,0.0,0.0,0.0,0.0,0.0,0.0,0.0,0.0,0.0,0.0,0.0,0.0,0.0,0.0,0.0,0.0,0.0,0.0,0.0,0.0,0.0,0.0,0.0,0.0,0.0,0.0,0.0,0.0,0.0,0.0,0.0,0.0,1.0,0.0,0.0,0.0,0.0,0.0,0.0,0.357227455,0.420556606,0.072329177,0.08771192,0.127294678,0.119684128,0.131010076])"
      ]
     },
     "execution_count": 15,
     "metadata": {},
     "output_type": "execute_result"
    }
   ],
   "source": [
    "data.first()"
   ]
  },
  {
   "cell_type": "code",
   "execution_count": 16,
   "metadata": {
    "collapsed": false,
    "deletable": true,
    "editable": true
   },
   "outputs": [
    {
     "data": {
      "text/plain": [
       "LabeledPoint(124.0, [39.0,12.0,0.357227455,0.420556606,0.072329177,0.08771192,0.127294678,0.119684128,0.131010076])"
      ]
     },
     "execution_count": 16,
     "metadata": {},
     "output_type": "execute_result"
    }
   ],
   "source": [
    "data_dt.first()"
   ]
  },
  {
   "cell_type": "code",
   "execution_count": 17,
   "metadata": {
    "collapsed": false,
    "deletable": true,
    "editable": true
   },
   "outputs": [],
   "source": [
    "#model loading\n",
    "linear_model = LinearRegressionModel.load(sc, \"/home/csxion/Desktop/project/code/model/model_01_RDD_LinearRegressionModel\")\n",
    "model_dt=DecisionTreeModel.load(sc, \"/home/csxion/Desktop/project/code/model/model_01_RDD_DecistionTreeModel\")"
   ]
  },
  {
   "cell_type": "code",
   "execution_count": 18,
   "metadata": {
    "collapsed": false,
    "deletable": true,
    "editable": true
   },
   "outputs": [
    {
     "data": {
      "text/plain": [
       "[(124.0, 1016.3322457054286),\n",
       " (535.0, 1108.0368036826742),\n",
       " (1447.0, 1115.2961900655287),\n",
       " (2356.0, 1336.610459397742),\n",
       " (1250.0, 1205.2968261718579),\n",
       " (980.0, 1108.8287060324021),\n",
       " (957.0, 1201.5069001960933),\n",
       " (914.0, 1256.2110298343514),\n",
       " (980.0, 1368.4288035344528),\n",
       " (988.0, 1387.0256287896595),\n",
       " (1039.0, 1473.0377363431921),\n",
       " (1231.0, 1426.3626690739438),\n",
       " (1311.0, 1503.1199293754057),\n",
       " (2114.0, 1460.1403184465667),\n",
       " (1652.0, 1412.124302394036),\n",
       " (980.0, 1371.9688448968095),\n",
       " (880.0, 1308.6209361579199),\n",
       " (887.0, 1105.1122296708481),\n",
       " (538.0, 1071.7379078260662),\n",
       " (977.0, 1072.0749766345386),\n",
       " (3476.0, 1090.6556711039304),\n",
       " (9690.0, 1134.9402205436445),\n",
       " (18569.0, 1217.6149242246108),\n",
       " (15013.0, 1180.1796158952839),\n",
       " (8528.0, 1165.583124220095),\n",
       " (7861.0, 1257.8693240256816),\n",
       " (8149.0, 1271.5843634395023),\n",
       " (10348.0, 1283.3601378849253),\n",
       " (10077.0, 1388.1200660768382),\n",
       " (11074.0, 1429.8500145944545),\n",
       " (11979.0, 1444.5889925016272),\n",
       " (15073.0, 1383.093076651347),\n",
       " (25783.0, 1387.9855505778778),\n",
       " (22915.0, 1377.7328978752482),\n",
       " (13241.0, 1226.0610865612402),\n",
       " (12915.0, 1206.3475508794843),\n",
       " (14700.0, 1174.0835825089466),\n",
       " (9064.0, 1139.7867092028416),\n",
       " (499.0, 1122.425287423903),\n",
       " (2314.0, 1083.6680431836146),\n",
       " (6157.0, 1152.1608601951191),\n",
       " (9302.0, 1241.8388474077667),\n",
       " (6323.0, 1172.124054374297),\n",
       " (5324.0, 1156.2104914106071),\n",
       " (4901.0, 1209.2262102926206),\n",
       " (4834.0, 1235.1909714070821),\n",
       " (5303.0, 1421.5350662006799),\n",
       " (6026.0, 1424.1644529280343),\n",
       " (6089.0, 1502.2030533474806),\n",
       " (7143.0, 1415.0162095696883),\n",
       " (8402.0, 1493.2914651375957),\n",
       " (11091.0, 1453.5820028191865),\n",
       " (10375.0, 1389.2850108240546),\n",
       " (7380.0, 1360.2647516608117),\n",
       " (6177.0, 1279.3034495772895),\n",
       " (5915.0, 1287.2227384897537),\n",
       " (3514.0, 1105.2219149697507),\n",
       " (749.0, 1029.2795802056705),\n",
       " (1782.0, 1120.984138182916),\n",
       " (4594.0, 1128.2435245657707),\n",
       " (8874.0, 1349.5577938979841),\n",
       " (5125.0, 1218.2441606720997),\n",
       " (3833.0, 1121.7760405326442),\n",
       " (3500.0, 1214.4542346963351),\n",
       " (3948.0, 1269.1583643345934),\n",
       " (4431.0, 1381.3761380346948),\n",
       " (4289.0, 1399.9729632899016),\n",
       " (4855.0, 1485.985070843434),\n",
       " (5648.0, 1439.3100035741859),\n",
       " (7585.0, 1516.0672638756478),\n",
       " (11976.0, 1473.0876529468087),\n",
       " (11974.0, 1425.0716368942781),\n",
       " (7978.0, 1384.9161793970513),\n",
       " (7628.0, 1321.568270658162),\n",
       " (8373.0, 1118.0595641710902),\n",
       " (5941.0, 1084.6852423263081),\n",
       " (170.0, 1045.1959077637523),\n",
       " (909.0, 1063.7766022331441),\n",
       " (3506.0, 1108.0611516728582),\n",
       " (7573.0, 1190.7358553538247),\n",
       " (4407.0, 1153.3005470244975),\n",
       " (3339.0, 1138.7040553493086),\n",
       " (2977.0, 1230.9902551548953),\n",
       " (2954.0, 1244.705294568716),\n",
       " (3395.0, 1256.4810690141392),\n",
       " (3633.0, 1361.2409972060518),\n",
       " (4065.0, 1402.9709457236681),\n",
       " (4087.0, 1417.7099236308409),\n",
       " (4422.0, 1356.2140077805607),\n",
       " (7345.0, 1361.1064817070915),\n",
       " (4305.0, 1350.8538290044619),\n",
       " (2532.0, 1199.1820176904539),\n",
       " (2491.0, 1179.4684820086979),\n",
       " (2109.0, 1147.2045136381603),\n",
       " (1050.0, 1112.9076403320553),\n",
       " (105.0, 1108.3865953996715),\n",
       " (434.0, 1069.6293511593831),\n",
       " (1549.0, 1138.1221681708876),\n",
       " (2736.0, 1227.8001553835352),\n",
       " (1222.0, 1158.0853623500652)]"
      ]
     },
     "execution_count": 18,
     "metadata": {},
     "output_type": "execute_result"
    }
   ],
   "source": [
    "true_vs_predicted=data.map(lambda p:(p.label, linear_model.predict(p.features)))\n",
    "true_vs_predicted.take(100)"
   ]
  },
  {
   "cell_type": "code",
   "execution_count": 19,
   "metadata": {
    "collapsed": false,
    "deletable": true,
    "editable": true
   },
   "outputs": [
    {
     "data": {
      "text/plain": [
       "[(124.0, 118.02083333333333),\n",
       " (535.0, 118.02083333333333),\n",
       " (1447.0, 118.02083333333333),\n",
       " (2356.0, 118.02083333333333),\n",
       " (1250.0, 118.02083333333333),\n",
       " (980.0, 118.02083333333333),\n",
       " (957.0, 118.02083333333333),\n",
       " (914.0, 118.02083333333333),\n",
       " (980.0, 118.02083333333333),\n",
       " (988.0, 118.02083333333333),\n",
       " (1039.0, 118.02083333333333),\n",
       " (1231.0, 118.02083333333333),\n",
       " (1311.0, 118.02083333333333),\n",
       " (2114.0, 118.02083333333333),\n",
       " (1652.0, 118.02083333333333),\n",
       " (980.0, 118.02083333333333),\n",
       " (880.0, 118.02083333333333),\n",
       " (887.0, 118.02083333333333),\n",
       " (538.0, 118.02083333333333),\n",
       " (977.0, 118.02083333333333)]"
      ]
     },
     "execution_count": 19,
     "metadata": {},
     "output_type": "execute_result"
    }
   ],
   "source": [
    "preds=model_dt.predict(data.map(lambda d:d.features))\n",
    "actual=data_dt.map(lambda d:d.label)\n",
    "true_vs_predicted_dt=actual.zip(preds)\n",
    "true_vs_predicted_dt.take(20)\n",
    "\n",
    "# 너무나 당연하게도, 제대로 예측하지 못함. 표준 분포 자체는 전체 데이터를 기준으로 정규화 되어있는 반면에, 트레이닝 한 데이터와 테스트 데이터 간의 이격이 크다고 판단됨"
   ]
  },
  {
   "cell_type": "markdown",
   "metadata": {
    "collapsed": true,
    "deletable": true,
    "editable": true
   },
   "source": [
    "# Conclusion\n",
    "\n",
    "Training된 모델의 Data(1/4분기 학습)와 Test Data(2/4분기)에서 다루는 데이터의 범위가 일정량 겹치기는 하지만, 전체적으로 범위 내에 들어오지 않음. 따라서 모델에 비해 새로들어오는 데이터는 '예상치 못한 데이터'로 간주, 정확한 값을 리턴할 수가 없음\n",
    "\n",
    "모델 저장 및 로드 기능에 대해 확인해보았지만, 실제 사용을 할 수는 없었음"
   ]
  },
  {
   "cell_type": "code",
   "execution_count": null,
   "metadata": {
    "collapsed": true
   },
   "outputs": [],
   "source": []
  }
 ],
 "metadata": {
  "kernelspec": {
   "display_name": "Python 3",
   "language": "python",
   "name": "python3"
  },
  "language_info": {
   "codemirror_mode": {
    "name": "ipython",
    "version": 3
   },
   "file_extension": ".py",
   "mimetype": "text/x-python",
   "name": "python",
   "nbconvert_exporter": "python",
   "pygments_lexer": "ipython3",
   "version": "3.5.2"
  }
 },
 "nbformat": 4,
 "nbformat_minor": 2
}
