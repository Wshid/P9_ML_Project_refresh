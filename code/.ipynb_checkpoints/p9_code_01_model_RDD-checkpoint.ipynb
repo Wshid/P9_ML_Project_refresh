{
 "cells": [
  {
   "cell_type": "markdown",
   "metadata": {
    "deletable": true,
    "editable": true
   },
   "source": [
    "# Project(9) : Machine Learning with Spark\n",
    "## 1. Regression Model on RDD(LinearRegression, DecisionTree)\n",
    "---\n",
    "### 0) Previous Settings\n",
    "- Import some library\n",
    "- Load raw data\n",
    "- Extract Functions\n",
    "\n",
    "### 1) LinearRegressionWithSGD Model\n",
    "- Training LinearRegressionWithSGD Model\n",
    "- Optimizing Target variables\n",
    "\n",
    "### 2) DecisionTree Model\n",
    "-  Training DecisionTree Model\n",
    "\n",
    "### 3) Evaluation and Optimization\n",
    "- Define evaluate function\n",
    "- DecisionTree Optimizaiton\n",
    "- LinearRegressionWithSGD Optimization\n",
    "\n",
    "### 4) Store Model\n",
    "- Store Model on local directory\n",
    "\n",
    "### * Conclusion\n",
    "---"
   ]
  },
  {
   "cell_type": "markdown",
   "metadata": {
    "deletable": true,
    "editable": true
   },
   "source": [
    "## 0) Previous Settings\n",
    "- Import some library\n",
    "- Load raw data\n",
    "- Extract Functions\n",
    "---"
   ]
  },
  {
   "cell_type": "markdown",
   "metadata": {
    "deletable": true,
    "editable": true
   },
   "source": [
    "### 0-1) Import some Library"
   ]
  },
  {
   "cell_type": "code",
   "execution_count": 1,
   "metadata": {
    "collapsed": false,
    "deletable": true,
    "editable": true
   },
   "outputs": [
    {
     "name": "stdout",
     "output_type": "stream",
     "text": [
      "Populating the interactive namespace from numpy and matplotlib\n"
     ]
    }
   ],
   "source": [
    "%pylab inline\n",
    "import numpy as np\n",
    "from pyspark.mllib.regression import LabeledPoint\n",
    "from pyspark.mllib.linalg import Vectors\n",
    "\n",
    "#model saving\n",
    "#model.save(sc, \"target/tmp/scalaLinearRegressionWithSGDModel\")\n",
    "#val sameModel = LinearRegressionModel.load(sc, \"target/tmp/scalaLinearRegressionWithSGDModel\")"
   ]
  },
  {
   "cell_type": "markdown",
   "metadata": {
    "deletable": true,
    "editable": true
   },
   "source": [
    "### 0-2) Load raw data"
   ]
  },
  {
   "cell_type": "code",
   "execution_count": 2,
   "metadata": {
    "collapsed": false,
    "deletable": true,
    "editable": true
   },
   "outputs": [
    {
     "data": {
      "text/plain": [
       "['가락시장역',\n",
       " '2016-01-01',\n",
       " '5',\n",
       " '0.077606673',\n",
       " '0.420556606',\n",
       " '0.414592146',\n",
       " '0.820293973',\n",
       " '0.553426589',\n",
       " '0.549782942',\n",
       " '0.99369488',\n",
       " '78']"
      ]
     },
     "execution_count": 2,
     "metadata": {},
     "output_type": "execute_result"
    }
   ],
   "source": [
    "#raw_data=sc.textFile(\"/home/ubuntu/workspace/project/data/1601/1601_05_merge_1d.csv\")\n",
    "#raw_data=sc.textFile(\"/home/ubuntu/workspace/project/data/1601/1601_06_del_date.csv\") #date가 제거된 데이터\n",
    "raw_data=sc.textFile(\"/home/csxion/Desktop/project/data/p9_data_11_16_1q_sed.csv\")\n",
    "#raw_data=sc.textFile(\"/home/csxion/Desktop/project/data/p9_data_11_*\")\n",
    "records=raw_data.map(lambda line:line.split(\",\"))\n",
    "records.first()"
   ]
  },
  {
   "cell_type": "code",
   "execution_count": 3,
   "metadata": {
    "collapsed": false,
    "deletable": true,
    "editable": true
   },
   "outputs": [],
   "source": [
    "subway_dict=records.map(lambda r:r[0]).distinct().zipWithIndex().collectAsMap() # distinct 꼭 사용할 것\n",
    "time_dict=records.map(lambda r:r[2]).distinct().zipWithIndex().collectAsMap()\n",
    "#date_dict=records.map(lambda r:r[1]).distinct().zipWithIndex().collectAsMap()"
   ]
  },
  {
   "cell_type": "code",
   "execution_count": 4,
   "metadata": {
    "collapsed": true,
    "deletable": true,
    "editable": true
   },
   "outputs": [
    {
     "data": {
      "text/plain": [
       "{'가락시장역': 39,\n",
       " '강남역': 53,\n",
       " '강변역': 29,\n",
       " '건대입구역': 16,\n",
       " '경복궁역': 18,\n",
       " '경찰병원역': 34,\n",
       " '고속터미널역': 107,\n",
       " '교대역': 47,\n",
       " '구로디지털단지역': 9,\n",
       " '구의역': 5,\n",
       " '구파발역': 87,\n",
       " '금호역': 25,\n",
       " '길음역': 98,\n",
       " '낙성대역': 103,\n",
       " '남부터미널역': 56,\n",
       " '남태령역': 43,\n",
       " '노원역': 99,\n",
       " '녹번역': 42,\n",
       " '당고개역': 75,\n",
       " '당산역': 60,\n",
       " '대림역': 35,\n",
       " '대청역': 70,\n",
       " '대치역': 86,\n",
       " '도곡역': 14,\n",
       " '도림천역': 94,\n",
       " '독립문역': 28,\n",
       " '동대문역': 12,\n",
       " '동대문역사문화공원역': 90,\n",
       " '동대입구역': 4,\n",
       " '동묘앞역': 38,\n",
       " '동작역': 59,\n",
       " '뚝섬역': 7,\n",
       " '매봉역': 97,\n",
       " '명동역': 67,\n",
       " '무악재역': 106,\n",
       " '문래역': 79,\n",
       " '미아사거리역': 48,\n",
       " '미아역': 64,\n",
       " '방배역': 66,\n",
       " '봉천역': 95,\n",
       " '불광역': 19,\n",
       " '사당역': 49,\n",
       " '삼각지역': 82,\n",
       " '삼성역': 84,\n",
       " '상계역': 32,\n",
       " '상왕십리역': 68,\n",
       " '서울대입구역': 100,\n",
       " '서울역': 58,\n",
       " '서초역': 92,\n",
       " '선릉역': 52,\n",
       " '성수역': 31,\n",
       " '성신여대입구역': 89,\n",
       " '수서역': 61,\n",
       " '수유(강북구청)역': 41,\n",
       " '숙대입구역': 36,\n",
       " '시청역': 96,\n",
       " '신답역': 0,\n",
       " '신당역': 71,\n",
       " '신대방역': 6,\n",
       " '신도림역': 13,\n",
       " '신림역': 15,\n",
       " '신사역': 8,\n",
       " '신설동역': 72,\n",
       " '신용산역': 88,\n",
       " '신정네거리역': 20,\n",
       " '신천역': 104,\n",
       " '신촌역': 85,\n",
       " '쌍문역': 55,\n",
       " '아현역': 63,\n",
       " '안국역': 81,\n",
       " '압구정역': 45,\n",
       " '약수역': 65,\n",
       " '양재역': 26,\n",
       " '양천구청역': 23,\n",
       " '역삼역': 10,\n",
       " '연신내역': 24,\n",
       " '영등포구청역': 78,\n",
       " '오금역': 101,\n",
       " '옥수역': 77,\n",
       " '왕십리(성동구청)역': 3,\n",
       " '용답역': 62,\n",
       " '용두역': 80,\n",
       " '을지로3가역': 108,\n",
       " '을지로4가역': 2,\n",
       " '을지로입구역': 30,\n",
       " '이대역': 51,\n",
       " '이촌역': 91,\n",
       " '일원역': 102,\n",
       " '잠실나루역': 37,\n",
       " '잠실역': 44,\n",
       " '잠원역': 33,\n",
       " '제기동역': 74,\n",
       " '종각역': 83,\n",
       " '종로3가역': 1,\n",
       " '종로5가역': 109,\n",
       " '종합운동장역': 21,\n",
       " '지축역': 93,\n",
       " '창동역': 54,\n",
       " '청량리(지하)역': 40,\n",
       " '총신대입구역': 73,\n",
       " '충무로역': 46,\n",
       " '충정로역': 69,\n",
       " '학여울역': 11,\n",
       " '한성대입구역': 105,\n",
       " '한양대역': 27,\n",
       " '합정역': 57,\n",
       " '혜화역': 17,\n",
       " '홍대입구역': 22,\n",
       " '홍제역': 50,\n",
       " '회현역': 76}"
      ]
     },
     "execution_count": 4,
     "metadata": {},
     "output_type": "execute_result"
    }
   ],
   "source": [
    "subway_dict"
   ]
  },
  {
   "cell_type": "markdown",
   "metadata": {
    "deletable": true,
    "editable": true
   },
   "source": [
    "### 0-3) Extract Functions"
   ]
  },
  {
   "cell_type": "code",
   "execution_count": 5,
   "metadata": {
    "collapsed": false,
    "deletable": true,
    "editable": true
   },
   "outputs": [],
   "source": [
    "# r[0] : subway station name // Category feature => binary vector\n",
    "# r[1] : Date(Not used)\n",
    "# r[2] : Time(5~23) # Category feature => binary vector\n",
    "\n",
    "def check_error_float(data, econd, subt): #data가 equal_cond와 같을때, subt로 치환한다.\n",
    "    if(data==econd):\n",
    "        return subt\n",
    "    else:\n",
    "        return float(data)\n",
    "\n",
    "def extract_features_linear(r): #line별\n",
    "    name_vec=np.zeros(len(subway_dict)) # 역 이름에 대하여 카테고리 특징을 바이너리 벡터 형태로 변환한다.\n",
    "    name_vec[subway_dict[r[0]]]=1\n",
    "    time_vec=np.zeros(len(time_dict)) # 시간 데이터에 대하여(5~23) 카테고리 특징을 바이너리 벡터 형태로 변환한다.\n",
    "    time_vec[time_dict[r[2]]]=1\n",
    "    #numbers=np.array([float(r[i]) for i in range(3,len(r)-1)])\n",
    "    #numbers=np.array([float(e) for e in r[3:]])\n",
    "    for i in range(3,len(r)-1):\n",
    "        r[i]=check_error_float(r[i], \"#N/A\", 0.0)\n",
    "    numbers=np.array([float(d) for d in r[3:len(r)-1]])\n",
    "    return np.concatenate((name_vec, time_vec, numbers)) # 역 + 시간 + 특징벡터 값으로 구성되는 numpy.array를 반환한다.\n",
    "#flatMap을 사용할 필요가 없음\n",
    "\n",
    "def extract_label(r):\n",
    "    return float(r[len(r)-1]) # int는 소문자로 지정해야 함\n",
    "#float\n",
    "\n",
    "def extract_features_dt(r): # dt모델에 적용할 특징벡터를 추출하는 함수. 여기서는 바이너리 벡터를 생성하지 않는다.\n",
    "    name=float(subway_dict[r[0]])\n",
    "    time=float(time_dict[r[2]])\n",
    "    for i in range(3,len(r)-1):\n",
    "        r[i]=check_error_float(r[i], \"#N/A\", 0.0)\n",
    "    numbers=np.array([float(d) for d in r[3:len(r)-1]])\n",
    "    return np.concatenate((np.array([name, time]), numbers))\n",
    "\n",
    "# np.concatenate 함수는 꼭 이중괄호를 해주어야 index 에러가 나지 않는다.\n",
    "# extract_label 함수의 경우 linearRegression Model과 DecisionTree 모두 동일하게 사용한다"
   ]
  },
  {
   "cell_type": "code",
   "execution_count": 6,
   "metadata": {
    "collapsed": false,
    "deletable": true,
    "editable": true
   },
   "outputs": [
    {
     "name": "stdout",
     "output_type": "stream",
     "text": [
      "1.0\n",
      "2.0\n",
      "3.0\n",
      "0.0\n",
      "4.0\n"
     ]
    }
   ],
   "source": [
    "## test code\n",
    "a=[1,2,3,\"#N/A\",4]\n",
    "for i in a:\n",
    "    print(check_error_float(i, \"#N/A\", 0.0))"
   ]
  },
  {
   "cell_type": "code",
   "execution_count": 7,
   "metadata": {
    "collapsed": false,
    "deletable": true,
    "editable": true
   },
   "outputs": [
    {
     "data": {
      "text/plain": [
       "<bound method RDD.cache of PythonRDD[15] at RDD at PythonRDD.scala:48>"
      ]
     },
     "execution_count": 7,
     "metadata": {},
     "output_type": "execute_result"
    }
   ],
   "source": [
    "data=records.map(lambda r:LabeledPoint(extract_label(r), Vectors.dense(np.array(extract_features_linear(r)))))\n",
    "data.cache"
   ]
  },
  {
   "cell_type": "code",
   "execution_count": 8,
   "metadata": {
    "collapsed": false,
    "deletable": true,
    "editable": true
   },
   "outputs": [
    {
     "data": {
      "text/plain": [
       "LabeledPoint(78.0, [0.0,0.0,0.0,0.0,0.0,0.0,0.0,0.0,0.0,0.0,0.0,0.0,0.0,0.0,0.0,0.0,0.0,0.0,0.0,0.0,0.0,0.0,0.0,0.0,0.0,0.0,0.0,0.0,0.0,0.0,0.0,0.0,0.0,0.0,0.0,0.0,0.0,0.0,0.0,1.0,0.0,0.0,0.0,0.0,0.0,0.0,0.0,0.0,0.0,0.0,0.0,0.0,0.0,0.0,0.0,0.0,0.0,0.0,0.0,0.0,0.0,0.0,0.0,0.0,0.0,0.0,0.0,0.0,0.0,0.0,0.0,0.0,0.0,0.0,0.0,0.0,0.0,0.0,0.0,0.0,0.0,0.0,0.0,0.0,0.0,0.0,0.0,0.0,0.0,0.0,0.0,0.0,0.0,0.0,0.0,0.0,0.0,0.0,0.0,0.0,0.0,0.0,0.0,0.0,0.0,0.0,0.0,0.0,0.0,0.0,0.0,0.0,0.0,0.0,0.0,0.0,0.0,0.0,0.0,0.0,0.0,0.0,1.0,0.0,0.0,0.0,0.0,0.0,0.0,0.077606673,0.420556606,0.414592146,0.820293973,0.553426589,0.549782942,0.99369488])"
      ]
     },
     "execution_count": 8,
     "metadata": {},
     "output_type": "execute_result"
    }
   ],
   "source": [
    "data.first()\n",
    "#카테고리 특징을 바이너리 벡터형태로 바꾼뒤, 실 사용할 특징벡터로 변환한다."
   ]
  },
  {
   "cell_type": "markdown",
   "metadata": {
    "deletable": true,
    "editable": true
   },
   "source": [
    "## 1) LinearRegressionWithSGD Model\n",
    "- Training LinearRegressionWithSGD Model\n",
    "- Optimizing Target variables\n",
    "---"
   ]
  },
  {
   "cell_type": "markdown",
   "metadata": {
    "deletable": true,
    "editable": true
   },
   "source": [
    "### 1-1) Training LinearRegressionWithSGD Model\n",
    "- Learning Model\n",
    "- Compare two values, true and prediction value"
   ]
  },
  {
   "cell_type": "code",
   "execution_count": 9,
   "metadata": {
    "collapsed": false,
    "deletable": true,
    "editable": true
   },
   "outputs": [
    {
     "name": "stderr",
     "output_type": "stream",
     "text": [
      "/usr/local/spark/python/pyspark/mllib/regression.py:281: UserWarning: Deprecated in 2.0.0. Use ml.regression.LinearRegression.\n",
      "  warnings.warn(\"Deprecated in 2.0.0. Use ml.regression.LinearRegression.\")\n"
     ]
    }
   ],
   "source": [
    "from pyspark.mllib.regression import LinearRegressionWithSGD\n",
    "from pyspark.mllib.tree import DecisionTree\n",
    "# Linear모델의 train / DT모델의 trainRegressor를 이용한다\n",
    "\n",
    "linear_model=LinearRegressionWithSGD.train(data, iterations=1000, step=0.00001)\n",
    "#에러값이 발생 실제 #N/A라는 엑셀 수식상의 오류가 있었던 듯\n",
    "#에러값을 우선적으로 처리하는게 맞을 듯, #N/A는 0으로 치환\n",
    "# check_error_float 함수를 새로 작성하도록 한다"
   ]
  },
  {
   "cell_type": "code",
   "execution_count": 10,
   "metadata": {
    "collapsed": false,
    "deletable": true,
    "editable": true
   },
   "outputs": [
    {
     "data": {
      "text/plain": [
       "[(78.0, 1.4123712204374006),\n",
       " (183.0, 1.2746059724889105),\n",
       " (143.0, 1.3723517283719588),\n",
       " (261.0, 1.5167706978645725),\n",
       " (286.0, 1.2969988537387991),\n",
       " (316.0, 1.2924171901635639),\n",
       " (393.0, 1.3981319136320725),\n",
       " (424.0, 1.4323131265491575),\n",
       " (452.0, 1.3970699383620615),\n",
       " (467.0, 1.3000450307531155),\n",
       " (459.0, 1.3320648143369467),\n",
       " (506.0, 1.4602343659005808),\n",
       " (490.0, 1.4496227311763503),\n",
       " (436.0, 1.4808527643925617),\n",
       " (305.0, 1.4113830639414058),\n",
       " (317.0, 1.4254685782112966),\n",
       " (299.0, 1.3793221600937668),\n",
       " (291.0, 1.3321677666115668),\n",
       " (186.0, 1.2915405707223249),\n",
       " (1555.0, 1.2693115732287388)]"
      ]
     },
     "execution_count": 10,
     "metadata": {},
     "output_type": "execute_result"
    }
   ],
   "source": [
    "true_vs_predicted=data.map(lambda p:(p.label, linear_model.predict(p.features)))\n",
    "true_vs_predicted.take(20)"
   ]
  },
  {
   "cell_type": "markdown",
   "metadata": {
    "deletable": true,
    "editable": true
   },
   "source": [
    "### 1-2) Optiming Target variables\n",
    "- Find Raw data distribution\n",
    "- Apply Gaussian Distribution on raw data(log, sqrt)"
   ]
  },
  {
   "cell_type": "code",
   "execution_count": 11,
   "metadata": {
    "collapsed": false,
    "deletable": true,
    "editable": true
   },
   "outputs": [
    {
     "data": {
      "image/png": "[encoded data removed]",
      "text/plain": [
       "<matplotlib.figure.Figure at 0x7f555da7fd68>"
      ]
     },
     "metadata": {},
     "output_type": "display_data"
    }
   ],
   "source": [
    "#타켓 변수 변환\n",
    "targets=records.map(lambda r:float(r[-1])).collect()\n",
    "hist(targets, bins=40, color='lightblue', normed='True')\n",
    "fig=matplotlib.pyplot.gcf()\n",
    "fig.set_size_inches(16,10)"
   ]
  },
  {
   "cell_type": "code",
   "execution_count": 12,
   "metadata": {
    "collapsed": false,
    "deletable": true,
    "editable": true
   },
   "outputs": [
    {
     "data": {
      "image/png": "[encoded data removed]",
      "text/plain": [
       "<matplotlib.figure.Figure at 0x7f555d63e940>"
      ]
     },
     "metadata": {},
     "output_type": "display_data"
    }
   ],
   "source": [
    "# range parameter must be finite. : 실제 로그화 된 값에 0이 포함되면 발생한다.\n",
    "# +1을 해주어, log(0)가 되는 상황을 회피한다.\n",
    "log_targets=records.map(lambda r:np.log(float(r[-1])+1)).collect()\n",
    "#print(log_targets)\n",
    "hist(log_targets, bins=40, color=\"lightblue\", normed=True)\n",
    "fig=matplotlib.pyplot.gcf()\n",
    "fig.set_size_inches(16,10)\n",
    "#실제로 로그화를 하면 보다 정규분포에 가까운것을 볼 수 있다"
   ]
  },
  {
   "cell_type": "code",
   "execution_count": 13,
   "metadata": {
    "collapsed": false,
    "deletable": true,
    "editable": true,
    "scrolled": false
   },
   "outputs": [
    {
     "data": {
      "image/png": "[encoded data removed]",
      "text/plain": [
       "<matplotlib.figure.Figure at 0x7f555c396780>"
      ]
     },
     "metadata": {},
     "output_type": "display_data"
    }
   ],
   "source": [
    "sqrt_targets=records.map(lambda r:np.sqrt(float(r[-1]))).collect()\n",
    "hist(sqrt_targets, bins=40, color='lightblue', normed=True)\n",
    "fig=matplotlib.pyplot.gcf()\n",
    "fig.set_size_inches(16,10)\n",
    "#음수 값이 없는 타켓에만 적용 가능, 타켓 변수의 제곱근 구하기"
   ]
  },
  {
   "cell_type": "code",
   "execution_count": 14,
   "metadata": {
    "collapsed": false,
    "deletable": true,
    "editable": true
   },
   "outputs": [
    {
     "name": "stderr",
     "output_type": "stream",
     "text": [
      "/usr/local/spark/python/pyspark/mllib/regression.py:281: UserWarning: Deprecated in 2.0.0. Use ml.regression.LinearRegression.\n",
      "  warnings.warn(\"Deprecated in 2.0.0. Use ml.regression.LinearRegression.\")\n"
     ]
    },
    {
     "name": "stdout",
     "output_type": "stream",
     "text": [
      "[(79.0, 1.0015122414753039), (184.00000000000006, 1.0013676927453594), (144.0, 1.0014345697068685), (261.99999999999994, 1.0015349153176669), (287.00000000000006, 1.0013460434517087), (316.99999999999989, 1.0013625263429293), (394.00000000000006, 1.0014686157171286), (425.00000000000017, 1.0014997486153374), (453.00000000000011, 1.0014583292681742), (468.00000000000017, 1.0013602907198826), (460.00000000000011, 1.0013900002966809), (507.00000000000017, 1.0015150995201241), (490.99999999999989, 1.0014934052505688), (436.99999999999989, 1.0014942619234426), (306.0, 1.0014476168630815), (318.0, 1.0014880983930674), (299.99999999999994, 1.0014444317246463), (292.0, 1.0014012982201934), (187.00000000000003, 1.0013795720323837), (1555.9999999999995, 1.0013318928560435), (1891.0000000000002, 1.0012903768286487), (1437.0, 1.0013678563788606), (1878.9999999999993, 1.0015453026998704), (2684.0000000000009, 1.0014493755772336), (2674.0000000000005, 1.0013744612255289), (2885.0000000000009, 1.0014202508013523), (3885.0, 1.0014059376573226), (4411.9999999999982, 1.0015670496303777), (4786.0000000000027, 1.0015960344593191), (4903.9999999999982, 1.0015925177021157)]\n"
     ]
    }
   ],
   "source": [
    "# log(0)상황을 피하기 위해, 1을 더한다\n",
    "data_log=data.map(lambda lp:LabeledPoint(np.log(lp.label+1), lp.features))\n",
    "data_log.collect()\n",
    "model_log=LinearRegressionWithSGD.train(data_log, iterations=1000, step=0.0001) #iterations에 특정 변화가 없음\n",
    "true_vs_predicted_log=data_log.map(lambda p:(np.exp(p.label),np.exp(model_log.predict(p.features))))\n",
    "print(true_vs_predicted_log.take(30))"
   ]
  },
  {
   "cell_type": "code",
   "execution_count": 15,
   "metadata": {
    "collapsed": false,
    "deletable": true,
    "editable": true
   },
   "outputs": [],
   "source": [
    "#특징 표준화를 위한 RowMatrix\n",
    "from pyspark.mllib.linalg.distributed import RowMatrix\n",
    "vectors=data.map(lambda lp:lp.features)\n",
    "matrix=RowMatrix(vectors)\n",
    "matrixSummary=matrix.computeColumnSummaryStatistics()"
   ]
  },
  {
   "cell_type": "code",
   "execution_count": 16,
   "metadata": {
    "collapsed": false,
    "deletable": true,
    "editable": true
   },
   "outputs": [
    {
     "data": {
      "text/plain": [
       "array([ 1.        ,  1.        ,  1.        ,  1.        ,  1.        ,\n",
       "        1.        ,  1.        ,  1.        ,  1.        ,  1.        ,\n",
       "        1.        ,  1.        ,  1.        ,  1.        ,  1.        ,\n",
       "        1.        ,  1.        ,  1.        ,  1.        ,  1.        ,\n",
       "        1.        ,  1.        ,  1.        ,  1.        ,  1.        ,\n",
       "        1.        ,  1.        ,  1.        ,  1.        ,  1.        ,\n",
       "        1.        ,  1.        ,  1.        ,  1.        ,  1.        ,\n",
       "        1.        ,  1.        ,  1.        ,  1.        ,  1.        ,\n",
       "        1.        ,  1.        ,  1.        ,  1.        ,  1.        ,\n",
       "        1.        ,  1.        ,  1.        ,  1.        ,  1.        ,\n",
       "        1.        ,  1.        ,  1.        ,  1.        ,  1.        ,\n",
       "        1.        ,  1.        ,  1.        ,  1.        ,  1.        ,\n",
       "        1.        ,  1.        ,  1.        ,  1.        ,  1.        ,\n",
       "        1.        ,  1.        ,  1.        ,  1.        ,  1.        ,\n",
       "        1.        ,  1.        ,  1.        ,  1.        ,  1.        ,\n",
       "        1.        ,  1.        ,  1.        ,  1.        ,  1.        ,\n",
       "        1.        ,  1.        ,  1.        ,  1.        ,  1.        ,\n",
       "        1.        ,  1.        ,  1.        ,  1.        ,  1.        ,\n",
       "        1.        ,  1.        ,  1.        ,  1.        ,  1.        ,\n",
       "        1.        ,  1.        ,  1.        ,  1.        ,  1.        ,\n",
       "        1.        ,  1.        ,  1.        ,  1.        ,  1.        ,\n",
       "        1.        ,  1.        ,  1.        ,  1.        ,  1.        ,\n",
       "        1.        ,  1.        ,  1.        ,  1.        ,  1.        ,\n",
       "        1.        ,  1.        ,  1.        ,  1.        ,  1.        ,\n",
       "        1.        ,  1.        ,  1.        ,  1.        ,  1.        ,\n",
       "        1.        ,  1.        ,  1.        ,  1.        ,  0.7519053 ,\n",
       "        1.        ,  1.        ,  0.8273417 ,  0.55342659,  0.54978294,\n",
       "        0.99369488])"
      ]
     },
     "execution_count": 16,
     "metadata": {},
     "output_type": "execute_result"
    }
   ],
   "source": [
    "#matrixSummary.mean()\n",
    "matrixSummary.variance()\n",
    "matrixSummary.max()"
   ]
  },
  {
   "cell_type": "code",
   "execution_count": 17,
   "metadata": {
    "collapsed": false,
    "deletable": true,
    "editable": true
   },
   "outputs": [],
   "source": [
    "# 이미 정규화가 된 데이터이기 때문에, StandardScaler를 사용할 필요가 없다.\n",
    "# 분산값과 평균값을 확인하였을때, 큰 차이가 나지 않는 것을 볼 수 있다.\n",
    "from pyspark.mllib.feature import StandardScaler\n",
    "scaler=StandardScaler(withMean=True, withStd=True).fit(vectors)\n",
    "scaledData=data.map(lambda lp:LabeledPoint(lp.label, lp.features))\n",
    "scaledData.take(2)\n",
    "scaler.transform(data.first().features) #이렇게 하면 잘 실행됨, 리턴값은 DenseVector 형태\n",
    "label=records.map(lambda lb:extract_label(lb))\n",
    "scaled_raw_data=label.zip(scaler.transform(vectors))\n",
    "scaled_data=scaled_raw_data.map(lambda lp:LabeledPoint(lp[0], Vectors.dense(lp[1].toArray())))\n",
    "#scaledData=data.map(lambda lp:LabeledPoint(lp.label, scaler.transform(lp.features))) #이렇게 하면 에러가 나고"
   ]
  },
  {
   "cell_type": "code",
   "execution_count": 18,
   "metadata": {
    "collapsed": false,
    "deletable": true,
    "editable": true
   },
   "outputs": [
    {
     "data": {
      "text/plain": [
       "[LabeledPoint(78.0, [-0.095782376714,-0.095782376714,-0.095782376714,-0.095782376714,-0.095782376714,-0.095782376714,-0.095782376714,-0.095782376714,-0.095782376714,-0.095782376714,-0.095782376714,-0.095782376714,-0.095782376714,-0.095782376714,-0.095782376714,-0.095782376714,-0.095782376714,-0.095782376714,-0.095782376714,-0.095782376714,-0.095782376714,-0.095782376714,-0.095782376714,-0.095782376714,-0.095782376714,-0.095782376714,-0.095782376714,-0.095782376714,-0.095782376714,-0.095782376714,-0.095782376714,-0.095782376714,-0.095782376714,-0.095782376714,-0.095782376714,-0.095782376714,-0.095782376714,-0.095782376714,-0.095782376714,10.4402790618,-0.095782376714,-0.095782376714,-0.095782376714,-0.095782376714,-0.095782376714,-0.095782376714,-0.095782376714,-0.095782376714,-0.095782376714,-0.095782376714,-0.095782376714,-0.095782376714,-0.095782376714,-0.095782376714,-0.095782376714,-0.095782376714,-0.095782376714,-0.095782376714,-0.095782376714,-0.095782376714,-0.095782376714,-0.095782376714,-0.095782376714,-0.095782376714,-0.095782376714,-0.095782376714,-0.095782376714,-0.095782376714,-0.095782376714,-0.095782376714,-0.095782376714,-0.095782376714,-0.095782376714,-0.095782376714,-0.095782376714,-0.095782376714,-0.095782376714,-0.095782376714,-0.095782376714,-0.095782376714,-0.095782376714,-0.095782376714,-0.095782376714,-0.095782376714,-0.095782376714,-0.095782376714,-0.095782376714,-0.095782376714,-0.095782376714,-0.095782376714,-0.095782376714,-0.095782376714,-0.095782376714,-0.095782376714,-0.095782376714,-0.095782376714,-0.095782376714,-0.095782376714,-0.095782376714,-0.095782376714,-0.095782376714,-0.095782376714,-0.095782376714,-0.095782376714,-0.095782376714,-0.095782376714,-0.095782376714,-0.095782376714,-0.095782376714,-0.095782376714,-0.235701640745,-0.235701640745,-0.235701640745,-0.235701640745,-0.235701640745,-0.235701640745,-0.235701640745,-0.235701640745,-0.235701640745,-0.235701640745,-0.235701640745,-0.235701640745,4.24262953341,-0.235701640745,-0.235701640745,-0.235701640745,-0.235701640745,-0.235701640745,-0.235701640745,-0.785066849189,-0.17720437693,-0.46188437526,2.14342462833,2.7433932942,2.58310007427,1.85231715611]),\n",
       " LabeledPoint(183.0, [-0.095782376714,-0.095782376714,-0.095782376714,-0.095782376714,-0.095782376714,-0.095782376714,-0.095782376714,-0.095782376714,-0.095782376714,-0.095782376714,-0.095782376714,-0.095782376714,-0.095782376714,-0.095782376714,-0.095782376714,-0.095782376714,-0.095782376714,-0.095782376714,-0.095782376714,-0.095782376714,-0.095782376714,-0.095782376714,-0.095782376714,-0.095782376714,-0.095782376714,-0.095782376714,-0.095782376714,-0.095782376714,-0.095782376714,-0.095782376714,-0.095782376714,-0.095782376714,-0.095782376714,-0.095782376714,-0.095782376714,-0.095782376714,-0.095782376714,-0.095782376714,-0.095782376714,10.4402790618,-0.095782376714,-0.095782376714,-0.095782376714,-0.095782376714,-0.095782376714,-0.095782376714,-0.095782376714,-0.095782376714,-0.095782376714,-0.095782376714,-0.095782376714,-0.095782376714,-0.095782376714,-0.095782376714,-0.095782376714,-0.095782376714,-0.095782376714,-0.095782376714,-0.095782376714,-0.095782376714,-0.095782376714,-0.095782376714,-0.095782376714,-0.095782376714,-0.095782376714,-0.095782376714,-0.095782376714,-0.095782376714,-0.095782376714,-0.095782376714,-0.095782376714,-0.095782376714,-0.095782376714,-0.095782376714,-0.095782376714,-0.095782376714,-0.095782376714,-0.095782376714,-0.095782376714,-0.095782376714,-0.095782376714,-0.095782376714,-0.095782376714,-0.095782376714,-0.095782376714,-0.095782376714,-0.095782376714,-0.095782376714,-0.095782376714,-0.095782376714,-0.095782376714,-0.095782376714,-0.095782376714,-0.095782376714,-0.095782376714,-0.095782376714,-0.095782376714,-0.095782376714,-0.095782376714,-0.095782376714,-0.095782376714,-0.095782376714,-0.095782376714,-0.095782376714,-0.095782376714,-0.095782376714,-0.095782376714,-0.095782376714,-0.095782376714,-0.095782376714,-0.235701640745,-0.235701640745,-0.235701640745,-0.235701640745,-0.235701640745,-0.235701640745,-0.235701640745,-0.235701640745,-0.235701640745,-0.235701640745,-0.235701640745,-0.235701640745,-0.235701640745,-0.235701640745,-0.235701640745,-0.235701640745,-0.235701640745,4.24262953341,-0.235701640745,-0.785066849189,-0.17720437693,-1.29081244277,2.14342462833,2.7433932942,2.58310007427,1.85231715611]),\n",
       " LabeledPoint(143.0, [-0.095782376714,-0.095782376714,-0.095782376714,-0.095782376714,-0.095782376714,-0.095782376714,-0.095782376714,-0.095782376714,-0.095782376714,-0.095782376714,-0.095782376714,-0.095782376714,-0.095782376714,-0.095782376714,-0.095782376714,-0.095782376714,-0.095782376714,-0.095782376714,-0.095782376714,-0.095782376714,-0.095782376714,-0.095782376714,-0.095782376714,-0.095782376714,-0.095782376714,-0.095782376714,-0.095782376714,-0.095782376714,-0.095782376714,-0.095782376714,-0.095782376714,-0.095782376714,-0.095782376714,-0.095782376714,-0.095782376714,-0.095782376714,-0.095782376714,-0.095782376714,-0.095782376714,10.4402790618,-0.095782376714,-0.095782376714,-0.095782376714,-0.095782376714,-0.095782376714,-0.095782376714,-0.095782376714,-0.095782376714,-0.095782376714,-0.095782376714,-0.095782376714,-0.095782376714,-0.095782376714,-0.095782376714,-0.095782376714,-0.095782376714,-0.095782376714,-0.095782376714,-0.095782376714,-0.095782376714,-0.095782376714,-0.095782376714,-0.095782376714,-0.095782376714,-0.095782376714,-0.095782376714,-0.095782376714,-0.095782376714,-0.095782376714,-0.095782376714,-0.095782376714,-0.095782376714,-0.095782376714,-0.095782376714,-0.095782376714,-0.095782376714,-0.095782376714,-0.095782376714,-0.095782376714,-0.095782376714,-0.095782376714,-0.095782376714,-0.095782376714,-0.095782376714,-0.095782376714,-0.095782376714,-0.095782376714,-0.095782376714,-0.095782376714,-0.095782376714,-0.095782376714,-0.095782376714,-0.095782376714,-0.095782376714,-0.095782376714,-0.095782376714,-0.095782376714,-0.095782376714,-0.095782376714,-0.095782376714,-0.095782376714,-0.095782376714,-0.095782376714,-0.095782376714,-0.095782376714,-0.095782376714,-0.095782376714,-0.095782376714,-0.095782376714,-0.095782376714,-0.235701640745,-0.235701640745,-0.235701640745,-0.235701640745,-0.235701640745,-0.235701640745,-0.235701640745,-0.235701640745,-0.235701640745,-0.235701640745,-0.235701640745,-0.235701640745,-0.235701640745,-0.235701640745,4.24262953341,-0.235701640745,-0.235701640745,-0.235701640745,-0.235701640745,-0.776211548555,-0.17720437693,-0.973232832232,2.14342462833,2.7433932942,2.58310007427,1.85231715611])]"
      ]
     },
     "execution_count": 18,
     "metadata": {},
     "output_type": "execute_result"
    }
   ],
   "source": [
    "scaled_data.take(3) #에러 안나게 완료"
   ]
  },
  {
   "cell_type": "code",
   "execution_count": 19,
   "metadata": {
    "collapsed": false,
    "deletable": true,
    "editable": true
   },
   "outputs": [
    {
     "name": "stderr",
     "output_type": "stream",
     "text": [
      "/usr/local/spark/python/pyspark/mllib/regression.py:281: UserWarning: Deprecated in 2.0.0. Use ml.regression.LinearRegression.\n",
      "  warnings.warn(\"Deprecated in 2.0.0. Use ml.regression.LinearRegression.\")\n"
     ]
    },
    {
     "data": {
      "text/plain": [
       "[(78.0, -0.00093085453665166229),\n",
       " (183.0, -0.0008248489437194048),\n",
       " (143.0, -0.00051819228808733838),\n",
       " (261.0, -0.00011689445732362487),\n",
       " (286.0, -0.00041033231772160598)]"
      ]
     },
     "execution_count": 19,
     "metadata": {},
     "output_type": "execute_result"
    }
   ],
   "source": [
    "# 정규화된 데이터를 억지로 초기화 하여 사용하게 되면, 어이 없는 에러값을 확인할 수 있다.\n",
    "linear_model_scaled=LinearRegressionWithSGD.train(scaled_data, iterations=100000, step=0.0000001)\n",
    "true_vs_predicted_scaled=scaled_data.map(lambda p:(p.label, linear_model_scaled.predict(p.features)))\n",
    "true_vs_predicted_scaled.take(5)"
   ]
  },
  {
   "cell_type": "markdown",
   "metadata": {
    "deletable": true,
    "editable": true
   },
   "source": [
    "## 2) DecisionTree Model with RDD\n",
    "- Training DecisionTree Model\n",
    "\n",
    "---"
   ]
  },
  {
   "cell_type": "markdown",
   "metadata": {
    "deletable": true,
    "editable": true
   },
   "source": [
    "### 2-1) Training DecisionTree Model\n",
    "- Make data_dt that optimized Tree Model\n",
    "- Data Split, Training and Test data"
   ]
  },
  {
   "cell_type": "code",
   "execution_count": 20,
   "metadata": {
    "collapsed": false,
    "deletable": true,
    "editable": true
   },
   "outputs": [
    {
     "data": {
      "text/plain": [
       "[(78.0, 311.8069666182874),\n",
       " (183.0, 2684.3137166816414),\n",
       " (143.0, 2684.3137166816414),\n",
       " (261.0, 2684.3137166816414),\n",
       " (286.0, 2684.3137166816414)]"
      ]
     },
     "execution_count": 20,
     "metadata": {},
     "output_type": "execute_result"
    }
   ],
   "source": [
    "#dt model 학습 시작\n",
    "data_dt=records.map(lambda r:LabeledPoint(extract_label(r), Vectors.dense(extract_features_dt(r))))\n",
    "dt_model=DecisionTree.trainRegressor(data, {})\n",
    "preds=dt_model.predict(data.map(lambda d:d.features))\n",
    "actual=data.map(lambda d:d.label)\n",
    "true_vs_predicted_dt=actual.zip(preds)\n",
    "true_vs_predicted_dt.take(5)"
   ]
  },
  {
   "cell_type": "code",
   "execution_count": 21,
   "metadata": {
    "collapsed": false,
    "deletable": true,
    "editable": true
   },
   "outputs": [
    {
     "data": {
      "text/plain": [
       "<bound method RDD.cache of PythonRDD[1140] at RDD at PythonRDD.scala:48>"
      ]
     },
     "execution_count": 21,
     "metadata": {},
     "output_type": "execute_result"
    }
   ],
   "source": [
    "# data_dt에서 train_data_dt와 test_data_dt로 분기\n",
    "data_with_idx_dt=data_dt.zipWithIndex().map(lambda p:(p[1], p[0]))\n",
    "test_dt=data_with_idx_dt.sample(False, 0.2, 42)\n",
    "train_dt=data_with_idx_dt.subtractByKey(test_dt)\n",
    "train_data_dt=train_dt.map(lambda p:p[1])\n",
    "test_data_dt=test_dt.map(lambda p:p[1])\n",
    "train_data_dt.cache\n",
    "test_data_dt.cache\n",
    "#train_size=train_data_dt.count()\n",
    "#test_size=test_data_dt.count()\n",
    "#print(\"Training data Size : %d\"%train_size)\n",
    "#print(\"Test data Size : %d\"%test_size)"
   ]
  },
  {
   "cell_type": "code",
   "execution_count": 22,
   "metadata": {
    "collapsed": true,
    "deletable": true,
    "editable": true
   },
   "outputs": [],
   "source": [
    "def squared_error(actual, pred):\n",
    "    return (pred-actual)**2\n",
    "def abs_error(actual,pred):\n",
    "    return np.abs(actual-pred)\n",
    "def squared_log_error(actual, pred):\n",
    "    return (np.log(pred+1)-np.log(actual+1))**2"
   ]
  },
  {
   "cell_type": "markdown",
   "metadata": {
    "deletable": true,
    "editable": true
   },
   "source": [
    "## 3) Evaluation and Optimization\n",
    "- Define evaluate function\n",
    "- DecisionTree Optimization\n",
    "- LinearRegressionwithSGD Optimization\n",
    "---"
   ]
  },
  {
   "cell_type": "markdown",
   "metadata": {
    "deletable": true,
    "editable": true
   },
   "source": [
    "### 3-1) Define evaluate function"
   ]
  },
  {
   "cell_type": "code",
   "execution_count": 23,
   "metadata": {
    "collapsed": false,
    "deletable": true,
    "editable": true
   },
   "outputs": [],
   "source": [
    "#LinearRegression 모델 테스트 메소드\n",
    "def evaluate(train, test, iterations, step, regParam, regType, intercept):\n",
    "    model=LinearRegressionWithSGD.train(train, iterations, step, regParam=regParam, regType=regType, intercept=intercept)\n",
    "    tp=test.map(lambda p:(p.label, model.predict(p.features)))\n",
    "    rmsle=np.sqrt(tp.map(lambda p:squared_log_error(p[0], p[1])).mean())\n",
    "    return rmsle"
   ]
  },
  {
   "cell_type": "code",
   "execution_count": 24,
   "metadata": {
    "collapsed": true,
    "deletable": true,
    "editable": true
   },
   "outputs": [],
   "source": [
    "#DecisionTree 모델 테스트 메소드\n",
    "def evaluate_dt(train, test, maxDepth, maxBins):\n",
    "    model=DecisionTree.trainRegressor(train, {}, impurity='variance', maxDepth=maxDepth, maxBins=maxBins)\n",
    "    preds=model.predict(test.map(lambda p:p.features))\n",
    "    actual=test.map(lambda p:p.label)\n",
    "    tp=actual.zip(preds)\n",
    "    rmsle=np.sqrt(tp.map(lambda p:squared_log_error(p[0], p[1])).mean())\n",
    "    return rmsle"
   ]
  },
  {
   "cell_type": "markdown",
   "metadata": {
    "deletable": true,
    "editable": true
   },
   "source": [
    "### 3-2) DecisionTree Optimizaiton\n",
    "- maxDepth, maxBins"
   ]
  },
  {
   "cell_type": "markdown",
   "metadata": {
    "deletable": true,
    "editable": true
   },
   "source": [
    "#### 3-2-1) Parameter : maxDepth"
   ]
  },
  {
   "cell_type": "code",
   "execution_count": 25,
   "metadata": {
    "collapsed": false,
    "deletable": true,
    "editable": true
   },
   "outputs": [
    {
     "name": "stdout",
     "output_type": "stream",
     "text": [
      "[1, 2, 3, 4, 5, 10, 20]\n",
      "[1.3072994639425719, 1.2260011361879974, 1.1684012041410961, 1.1383132369163125, 1.1125850625603833, 1.0078055835545834, 1.1017210399983226]\n"
     ]
    },
    {
     "data": {
      "image/png": "[encoded data removed]",
      "text/plain": [
       "<matplotlib.figure.Figure at 0x7f555c463550>"
      ]
     },
     "metadata": {},
     "output_type": "display_data"
    }
   ],
   "source": [
    "params=[1,2,3,4,5,10,20]\n",
    "metrics=[evaluate_dt(train_data_dt, test_data_dt, param, 32) for param in params]\n",
    "print(params)\n",
    "print(metrics)\n",
    "plot(params,metrics)\n",
    "fig=matplotlib.pyplot.gcf()"
   ]
  },
  {
   "cell_type": "markdown",
   "metadata": {
    "deletable": true,
    "editable": true
   },
   "source": [
    "##### ∴ Optimized Value 'maxDepth' is 10"
   ]
  },
  {
   "cell_type": "markdown",
   "metadata": {
    "deletable": true,
    "editable": true
   },
   "source": [
    "#### 3-2-2) Parameter : maxBins"
   ]
  },
  {
   "cell_type": "code",
   "execution_count": 26,
   "metadata": {
    "collapsed": false,
    "deletable": true,
    "editable": true
   },
   "outputs": [
    {
     "name": "stdout",
     "output_type": "stream",
     "text": [
      "[16, 32, 64, 128, 256]\n",
      "[1.0937861034171537, 1.0078055835545834, 0.85897321510883828, 0.62091971789393807, 0.62086356194041692]\n"
     ]
    },
    {
     "data": {
      "image/png": "[encoded data removed]",
      "text/plain": [
       "<matplotlib.figure.Figure at 0x7f555c3cca90>"
      ]
     },
     "metadata": {},
     "output_type": "display_data"
    }
   ],
   "source": [
    "#depth=10로 했을때, depth의 변화량에 따라..\n",
    "# 많은 저장소를 사용하면, 모델을 더 정교하게 트레이닝 할 수 있어야 하며, 실제 테스트 데이터 집합에 따라 과도하게 변형될 수 있음\n",
    "params=[16,32,64,128,256]\n",
    "metrics=[evaluate_dt(train_data_dt, test_data_dt, 10, param) for param in params]\n",
    "print(params)\n",
    "print(metrics)\n",
    "plot(params, metrics)\n",
    "fig=matplotlib.pyplot.gcf()"
   ]
  },
  {
   "cell_type": "markdown",
   "metadata": {
    "deletable": true,
    "editable": true
   },
   "source": [
    "##### ∴ Optimized Value 'maxBins' is 128"
   ]
  },
  {
   "cell_type": "markdown",
   "metadata": {
    "deletable": true,
    "editable": true
   },
   "source": [
    "#### 3-3-3) Optimized DecisionTree Model\n",
    "- Optimized model\n",
    "- Real value test"
   ]
  },
  {
   "cell_type": "code",
   "execution_count": 27,
   "metadata": {
    "collapsed": false,
    "deletable": true,
    "editable": true
   },
   "outputs": [
    {
     "data": {
      "text/plain": [
       "0.62091971789393807"
      ]
     },
     "execution_count": 27,
     "metadata": {},
     "output_type": "execute_result"
    }
   ],
   "source": [
    "#bins=128, depth=10\n",
    "\n",
    "evaluate_dt(train_data_dt, test_data_dt, maxBins=128, maxDepth=10)"
   ]
  },
  {
   "cell_type": "code",
   "execution_count": 28,
   "metadata": {
    "collapsed": false,
    "deletable": true,
    "editable": true
   },
   "outputs": [],
   "source": [
    "final_model_dt=DecisionTree.trainRegressor(train_data_dt, {}, impurity='variance', maxDepth=10, maxBins=128)"
   ]
  },
  {
   "cell_type": "code",
   "execution_count": 29,
   "metadata": {
    "collapsed": false,
    "deletable": true,
    "editable": true
   },
   "outputs": [
    {
     "data": {
      "text/plain": [
       "[(78.0, 311.8069666182874),\n",
       " (183.0, 2684.3137166816414),\n",
       " (143.0, 2684.3137166816414),\n",
       " (261.0, 2684.3137166816414),\n",
       " (286.0, 2684.3137166816414),\n",
       " (316.0, 2684.3137166816414),\n",
       " (393.0, 2684.3137166816414),\n",
       " (424.0, 2684.3137166816414),\n",
       " (452.0, 2684.3137166816414),\n",
       " (467.0, 2684.3137166816414),\n",
       " (459.0, 2684.3137166816414),\n",
       " (506.0, 2684.3137166816414),\n",
       " (490.0, 2684.3137166816414),\n",
       " (436.0, 2684.3137166816414),\n",
       " (305.0, 2684.3137166816414),\n",
       " (317.0, 2684.3137166816414),\n",
       " (299.0, 2684.3137166816414),\n",
       " (291.0, 2684.3137166816414),\n",
       " (186.0, 2684.3137166816414),\n",
       " (1555.0, 997.5777777777778),\n",
       " (1890.0, 1576.3333333333333),\n",
       " (1436.0, 11568.01978021978),\n",
       " (1878.0, 11568.01978021978),\n",
       " (2683.0, 11568.01978021978),\n",
       " (2673.0, 11568.01978021978),\n",
       " (2884.0, 11568.01978021978),\n",
       " (3884.0, 11568.01978021978),\n",
       " (4411.0, 11568.01978021978),\n",
       " (4785.0, 11568.01978021978),\n",
       " (4903.0, 11568.01978021978)]"
      ]
     },
     "execution_count": 29,
     "metadata": {},
     "output_type": "execute_result"
    }
   ],
   "source": [
    "#최적값 확보 후 모델 성립. 이후 테스트\n",
    "final_preds_vs_actual=test_data_dt.map(lambda p:(p.label, final_model_dt.predict(p.features)))\n",
    "final_preds_dt=final_model_dt.predict(test_data_dt.map(lambda d:d.features))\n",
    "final_actual_dt=test_data_dt.map(lambda d:d.label)\n",
    "final_true_vs_predicted_dt=actual.zip(preds)\n",
    "final_true_vs_predicted_dt.take(30)"
   ]
  },
  {
   "cell_type": "markdown",
   "metadata": {
    "deletable": true,
    "editable": true
   },
   "source": [
    "### ∴ Optimized DecisionTree Model\n",
    "RMSLE(Root Mean Squared Log Error)가 최대 1.3 -> 0.6까지 줄어든 것을 확인할 수 있다"
   ]
  },
  {
   "cell_type": "markdown",
   "metadata": {
    "deletable": true,
    "editable": true
   },
   "source": [
    "### 3-3) LinearRegressionModel Optimization\n",
    "- Data Split, Training and Test data"
   ]
  },
  {
   "cell_type": "markdown",
   "metadata": {
    "deletable": true,
    "editable": true
   },
   "source": [
    "#### 3-3-1) Split data, train data and test data"
   ]
  },
  {
   "cell_type": "code",
   "execution_count": 30,
   "metadata": {
    "collapsed": false,
    "deletable": true,
    "editable": true
   },
   "outputs": [
    {
     "data": {
      "text/plain": [
       "<bound method RDD.cache of PythonRDD[1761] at RDD at PythonRDD.scala:48>"
      ]
     },
     "execution_count": 30,
     "metadata": {},
     "output_type": "execute_result"
    }
   ],
   "source": [
    "# data에서 train_data, test_data로 분기\n",
    "data_with_idx=data.zipWithIndex().map(lambda p:(p[1], p[0]))\n",
    "test=data_with_idx.sample(False, 0.2, 42)\n",
    "train=data_with_idx.subtractByKey(test)\n",
    "train_data=train.map(lambda p:p[1])\n",
    "test_data=test.map(lambda p:p[1])\n",
    "train_data.cache\n",
    "test_data.cache\n",
    "#train_size=train_data_dt.count()\n",
    "#test_size=test_data_dt.count()\n",
    "#print(\"Training data Size : %d\"%train_size)\n",
    "#print(\"Test data Size : %d\"%test_size)"
   ]
  },
  {
   "cell_type": "markdown",
   "metadata": {
    "deletable": true,
    "editable": true
   },
   "source": [
    "#### 3-3-2) Parameter : Iterations"
   ]
  },
  {
   "cell_type": "code",
   "execution_count": 31,
   "metadata": {
    "collapsed": false,
    "deletable": true,
    "editable": true
   },
   "outputs": [
    {
     "name": "stderr",
     "output_type": "stream",
     "text": [
      "/usr/local/spark/python/pyspark/mllib/regression.py:281: UserWarning: Deprecated in 2.0.0. Use ml.regression.LinearRegression.\n",
      "  warnings.warn(\"Deprecated in 2.0.0. Use ml.regression.LinearRegression.\")\n"
     ]
    },
    {
     "name": "stdout",
     "output_type": "stream",
     "text": [
      "[10, 50, 100, 500, 1000, 10000]\n",
      "[7.3559742360221625, 7.2123340232848738, 7.117024703765356, 6.7956577077273597, 6.7873799577477927, 6.7873799577477927]\n"
     ]
    },
    {
     "data": {
      "image/png": "[encoded data removed]",
      "text/plain": [
       "<matplotlib.figure.Figure at 0x7f555c3d2b38>"
      ]
     },
     "metadata": {},
     "output_type": "display_data"
    }
   ],
   "source": [
    "#LinearRegressionModel\n",
    "##iterations 변수 설정\n",
    "params=[10,50,100,500,1000,10000]\n",
    "metrics=[evaluate(train_data, test_data, param, 0.00001, 0.0, 'l2', False) for param in params]\n",
    "print(params)\n",
    "print(metrics)\n",
    "plot(params, metrics)\n",
    "fig=matplotlib.pyplot.gcf()\n",
    "pyplot.xscale('log') # x좌표의 기준단위를 log로 전환"
   ]
  },
  {
   "cell_type": "markdown",
   "metadata": {
    "deletable": true,
    "editable": true
   },
   "source": [
    "##### ∴ Optimized Value 'Iterations' is 500"
   ]
  },
  {
   "cell_type": "markdown",
   "metadata": {
    "deletable": true,
    "editable": true
   },
   "source": [
    "#### 3-3-3) Parameter : stepSize"
   ]
  },
  {
   "cell_type": "code",
   "execution_count": 32,
   "metadata": {
    "collapsed": false,
    "deletable": true,
    "editable": true
   },
   "outputs": [
    {
     "name": "stderr",
     "output_type": "stream",
     "text": [
      "/usr/local/spark/python/pyspark/mllib/regression.py:281: UserWarning: Deprecated in 2.0.0. Use ml.regression.LinearRegression.\n",
      "  warnings.warn(\"Deprecated in 2.0.0. Use ml.regression.LinearRegression.\")\n"
     ]
    },
    {
     "name": "stdout",
     "output_type": "stream",
     "text": [
      "[0.0005, 0.0001, 0.005, 0.001, 0.01]\n",
      "[3.6958434409525216, 5.1486888628639855, 1.8112154340014799, 3.0747832341381969, 1.4468742367028713]\n"
     ]
    },
    {
     "data": {
      "image/png": "[encoded data removed]",
      "text/plain": [
       "<matplotlib.figure.Figure at 0x7f5551a0bfd0>"
      ]
     },
     "metadata": {},
     "output_type": "display_data"
    }
   ],
   "source": [
    "#LinearRegressionModel\n",
    "##stepSize설정\n",
    "params=[0.0005, 0.0001, 0.005, 0.001, 0.01]\n",
    "metrics=[evaluate(train_data, test_data, 1000, param, 0.0, 'l2', False) for param in params]\n",
    "print(params)\n",
    "print(metrics)\n",
    "plot(params, metrics)\n",
    "fig=matplotlib.pyplot.gcf()\n",
    "pyplot.xscale('log')\n",
    "#예상외로 치고 올라가는 그래프가 나오지 않음\n",
    "# 대신에 nan값으로, 수치를 벗어남"
   ]
  },
  {
   "cell_type": "markdown",
   "metadata": {
    "deletable": true,
    "editable": true
   },
   "source": [
    "##### ∴ Optimized Value 'stepSize' is 0.01"
   ]
  },
  {
   "cell_type": "markdown",
   "metadata": {
    "deletable": true,
    "editable": true
   },
   "source": [
    "#### 3-3-4) Parameter : regParam on L2"
   ]
  },
  {
   "cell_type": "code",
   "execution_count": 33,
   "metadata": {
    "collapsed": false,
    "deletable": true,
    "editable": true
   },
   "outputs": [
    {
     "name": "stderr",
     "output_type": "stream",
     "text": [
      "/usr/local/spark/python/pyspark/mllib/regression.py:281: UserWarning: Deprecated in 2.0.0. Use ml.regression.LinearRegression.\n",
      "  warnings.warn(\"Deprecated in 2.0.0. Use ml.regression.LinearRegression.\")\n"
     ]
    },
    {
     "name": "stdout",
     "output_type": "stream",
     "text": [
      "[0.0, 0.01, 0.1, 1.0, 5.0, 10.0, 20.0]\n",
      "[3.0747832341381969, 3.0749785976414215, 3.0776393990048518, 3.104109623865587, 3.2138950582593409, 3.3378581558717122, 3.5542643241309486]\n"
     ]
    },
    {
     "data": {
      "image/png": "[encoded data removed]",
      "text/plain": [
       "<matplotlib.figure.Figure at 0x7f55557c1128>"
      ]
     },
     "metadata": {},
     "output_type": "display_data"
    }
   ],
   "source": [
    "#LinearRegressionModel\n",
    "##L2 규칙화 정도\n",
    "# 규칙화를 증가시키면 training set의 성능이 약화되나, 테스트 데이터 집합에서 최적의 성능을 낼 수 있음\n",
    "\n",
    "params=[0.0, 0.01, 0.1, 1.0, 5.0, 10.0, 20.0]\n",
    "#50.0, 100.0, 200.0, 500.0, 600.0, 1000.0] #기존보다 상당히 높임\n",
    "metrics=[evaluate(train_data, test_data, 1000, 0.001, param, 'l2', False) for param in params]\n",
    "print(params)\n",
    "print(metrics)\n",
    "plot(params, metrics)\n",
    "fig=matplotlib.pyplot.gcf()\n",
    "pyplot.xscale('log')"
   ]
  },
  {
   "cell_type": "markdown",
   "metadata": {
    "deletable": true,
    "editable": true
   },
   "source": [
    "##### ∴ Optimized Value 'regParam' on L2 is 0.1"
   ]
  },
  {
   "cell_type": "markdown",
   "metadata": {
    "deletable": true,
    "editable": true
   },
   "source": [
    "#### 3-3-5) Parameter : regParam on L1"
   ]
  },
  {
   "cell_type": "code",
   "execution_count": 34,
   "metadata": {
    "collapsed": false,
    "deletable": true,
    "editable": true
   },
   "outputs": [
    {
     "name": "stderr",
     "output_type": "stream",
     "text": [
      "/usr/local/spark/python/pyspark/mllib/regression.py:281: UserWarning: Deprecated in 2.0.0. Use ml.regression.LinearRegression.\n",
      "  warnings.warn(\"Deprecated in 2.0.0. Use ml.regression.LinearRegression.\")\n"
     ]
    },
    {
     "name": "stdout",
     "output_type": "stream",
     "text": [
      "[10000.0, 1000000.0, 10000000.0, 100000000.0]\n",
      "[7.4631316620692605, 7.4631316620692605, 7.4631316620692605, 7.4631316620692605]\n"
     ]
    },
    {
     "data": {
      "image/png": "[encoded data removed]",
      "text/plain": [
       "<matplotlib.figure.Figure at 0x7f55556d9e48>"
      ]
     },
     "metadata": {},
     "output_type": "display_data"
    }
   ],
   "source": [
    "#LinearRegressionModel\n",
    "##L1규칙화정도\n",
    "###L1 규칙화이 필요한 레벨은 L2규칙화 보다 높으나, 전체적인 성능은 낮음\n",
    "\n",
    "params=[10000.0, 1000000.0, 10000000.0, 100000000.0]\n",
    "metrics=[evaluate(train_data, test_data, 10, 0.1, param, 'l1', False) for param in params]\n",
    "print(params)\n",
    "print(metrics)\n",
    "plot(params, metrics)\n",
    "fig=matplotlib.pyplot.gcf()\n",
    "pyplot.xscale('log')\n",
    "#모든 값이 nan으로 뜸 확인할 것\n",
    "#L1 규칙화를 상사용할때는 가중치 벡터가 산발적으로 나타내게 가능함"
   ]
  },
  {
   "cell_type": "markdown",
   "metadata": {
    "deletable": true,
    "editable": true
   },
   "source": [
    "##### ∴ Optimized Value 'regParam' on L1 is undefined, L2 is better than L1"
   ]
  },
  {
   "cell_type": "markdown",
   "metadata": {
    "deletable": true,
    "editable": true
   },
   "source": [
    "#### 3-3-6) Parameter : intercept"
   ]
  },
  {
   "cell_type": "code",
   "execution_count": 35,
   "metadata": {
    "collapsed": false,
    "deletable": true,
    "editable": true
   },
   "outputs": [
    {
     "name": "stderr",
     "output_type": "stream",
     "text": [
      "/usr/local/spark/python/pyspark/mllib/regression.py:281: UserWarning: Deprecated in 2.0.0. Use ml.regression.LinearRegression.\n",
      "  warnings.warn(\"Deprecated in 2.0.0. Use ml.regression.LinearRegression.\")\n"
     ]
    },
    {
     "name": "stdout",
     "output_type": "stream",
     "text": [
      "[False, True]\n",
      "[7.462938174925589, 6.7803091235616266]\n"
     ]
    },
    {
     "data": {
      "image/png": "[encoded data removed]",
      "text/plain": [
       "<matplotlib.figure.Figure at 0x7f5555687ac8>"
      ]
     },
     "metadata": {},
     "output_type": "display_data"
    }
   ],
   "source": [
    "#LinearRegressionModel\n",
    "##Intercept\n",
    "\n",
    "params=[False, True]\n",
    "metrics=[evaluate(train_data, test_data, 10, 0.00000005, 1.0, 'l2', param) for param in params]\n",
    "print(params)\n",
    "print(metrics)\n",
    "bar(params, metrics, color='lightblue')\n",
    "fig=matplotlib.pyplot.gcf()"
   ]
  },
  {
   "cell_type": "markdown",
   "metadata": {
    "deletable": true,
    "editable": true
   },
   "source": [
    "##### ∴ Optimized Value 'intercept' is True"
   ]
  },
  {
   "cell_type": "markdown",
   "metadata": {
    "deletable": true,
    "editable": true
   },
   "source": [
    "#### 3-3-7) Optimized Model"
   ]
  },
  {
   "cell_type": "code",
   "execution_count": 36,
   "metadata": {
    "collapsed": false,
    "deletable": true,
    "editable": true
   },
   "outputs": [
    {
     "name": "stderr",
     "output_type": "stream",
     "text": [
      "/usr/local/spark/python/pyspark/mllib/regression.py:281: UserWarning: Deprecated in 2.0.0. Use ml.regression.LinearRegression.\n",
      "  warnings.warn(\"Deprecated in 2.0.0. Use ml.regression.LinearRegression.\")\n"
     ]
    }
   ],
   "source": [
    "#optimized_linear_model=evaluate(train_data, test_data, 1000, 0.001, 0.1, 'l2', True)\n",
    "optimized_linear_model=LinearRegressionWithSGD.train(train_data, 1000, 0.01, regParam=0.1, regType='l2', intercept=True)"
   ]
  },
  {
   "cell_type": "code",
   "execution_count": 37,
   "metadata": {
    "collapsed": false,
    "deletable": true,
    "editable": true
   },
   "outputs": [],
   "source": [
    "op_true_vs_pred=test_data.map(lambda t:(t.label, optimized_linear_model.predict(t.features)))"
   ]
  },
  {
   "cell_type": "code",
   "execution_count": 38,
   "metadata": {
    "collapsed": false,
    "deletable": true,
    "editable": true,
    "scrolled": true
   },
   "outputs": [
    {
     "data": {
      "text/plain": [
       "[(78.0, 1531.633819818562),\n",
       " (261.0, 1614.175957819974),\n",
       " (286.0, 1477.5279117973998),\n",
       " (459.0, 1495.5471926266209),\n",
       " (305.0, 1548.4240241475309),\n",
       " (291.0, 1493.9009645463957),\n",
       " (186.0, 1464.6729993327685),\n",
       " (6518.0, 1698.840258387328),\n",
       " (5554.0, 1606.8154929874672),\n",
       " (3309.0, 1584.1681909737063),\n",
       " (4952.0, 1515.2902476964687),\n",
       " (4981.0, 1599.8842930333176),\n",
       " (1661.0, 1466.5576565103638),\n",
       " (683.0, 1623.4400137868397),\n",
       " (1184.0, 1541.3796565237644),\n",
       " (1659.0, 1479.8820072255598),\n",
       " (3115.0, 1617.331543923206),\n",
       " (756.0, 1583.0079530645835),\n",
       " (177.0, 1484.3183521279043),\n",
       " (369.0, 1501.5269979689838)]"
      ]
     },
     "execution_count": 38,
     "metadata": {},
     "output_type": "execute_result"
    }
   ],
   "source": [
    "op_true_vs_pred.take(20)"
   ]
  },
  {
   "cell_type": "code",
   "execution_count": 39,
   "metadata": {
    "collapsed": true,
    "deletable": true,
    "editable": true
   },
   "outputs": [
    {
     "data": {
      "text/plain": [
       "[(78.0, 311.8069666182874),\n",
       " (183.0, 2684.3137166816414),\n",
       " (143.0, 2684.3137166816414),\n",
       " (261.0, 2684.3137166816414),\n",
       " (286.0, 2684.3137166816414),\n",
       " (316.0, 2684.3137166816414),\n",
       " (393.0, 2684.3137166816414),\n",
       " (424.0, 2684.3137166816414),\n",
       " (452.0, 2684.3137166816414),\n",
       " (467.0, 2684.3137166816414),\n",
       " (459.0, 2684.3137166816414),\n",
       " (506.0, 2684.3137166816414),\n",
       " (490.0, 2684.3137166816414),\n",
       " (436.0, 2684.3137166816414),\n",
       " (305.0, 2684.3137166816414),\n",
       " (317.0, 2684.3137166816414),\n",
       " (299.0, 2684.3137166816414),\n",
       " (291.0, 2684.3137166816414),\n",
       " (186.0, 2684.3137166816414),\n",
       " (1555.0, 997.5777777777778),\n",
       " (1890.0, 1576.3333333333333),\n",
       " (1436.0, 11568.01978021978),\n",
       " (1878.0, 11568.01978021978),\n",
       " (2683.0, 11568.01978021978),\n",
       " (2673.0, 11568.01978021978),\n",
       " (2884.0, 11568.01978021978),\n",
       " (3884.0, 11568.01978021978),\n",
       " (4411.0, 11568.01978021978),\n",
       " (4785.0, 11568.01978021978),\n",
       " (4903.0, 11568.01978021978)]"
      ]
     },
     "execution_count": 39,
     "metadata": {},
     "output_type": "execute_result"
    }
   ],
   "source": [
    "#test code- decision tree\n",
    "final_preds_dt=final_model_dt.predict(test_data_dt.map(lambda d:d.features))\n",
    "final_actual_dt=test_data_dt.map(lambda d:d.label)\n",
    "final_true_vs_predicted_dt=actual.zip(preds)\n",
    "final_true_vs_predicted_dt.take(30)"
   ]
  },
  {
   "cell_type": "code",
   "execution_count": 42,
   "metadata": {
    "collapsed": true,
    "deletable": true,
    "editable": true
   },
   "outputs": [
    {
     "data": {
      "text/plain": [
       "[(78.0, 311.8069666182874),\n",
       " (183.0, 2684.3137166816414),\n",
       " (143.0, 2684.3137166816414),\n",
       " (261.0, 2684.3137166816414),\n",
       " (286.0, 2684.3137166816414),\n",
       " (316.0, 2684.3137166816414),\n",
       " (393.0, 2684.3137166816414),\n",
       " (424.0, 2684.3137166816414),\n",
       " (452.0, 2684.3137166816414),\n",
       " (467.0, 2684.3137166816414),\n",
       " (459.0, 2684.3137166816414),\n",
       " (506.0, 2684.3137166816414),\n",
       " (490.0, 2684.3137166816414),\n",
       " (436.0, 2684.3137166816414),\n",
       " (305.0, 2684.3137166816414),\n",
       " (317.0, 2684.3137166816414),\n",
       " (299.0, 2684.3137166816414),\n",
       " (291.0, 2684.3137166816414),\n",
       " (186.0, 2684.3137166816414),\n",
       " (1555.0, 997.5777777777778),\n",
       " (1890.0, 1576.3333333333333),\n",
       " (1436.0, 11568.01978021978),\n",
       " (1878.0, 11568.01978021978),\n",
       " (2683.0, 11568.01978021978),\n",
       " (2673.0, 11568.01978021978),\n",
       " (2884.0, 11568.01978021978),\n",
       " (3884.0, 11568.01978021978),\n",
       " (4411.0, 11568.01978021978),\n",
       " (4785.0, 11568.01978021978),\n",
       " (4903.0, 11568.01978021978),\n",
       " (6092.0, 11568.01978021978),\n",
       " (6634.0, 11568.01978021978),\n",
       " (6518.0, 6518.0),\n",
       " (5547.0, 11568.01978021978),\n",
       " (5027.0, 11568.01978021978),\n",
       " (5554.0, 11568.01978021978),\n",
       " (5445.0, 11568.01978021978),\n",
       " (3309.0, 5615.263736263736),\n",
       " (647.0, 311.8069666182874),\n",
       " (2136.0, 2684.3137166816414),\n",
       " (2009.0, 2684.3137166816414),\n",
       " (2600.0, 2684.3137166816414),\n",
       " (3462.0, 2684.3137166816414),\n",
       " (4046.0, 2684.3137166816414),\n",
       " (4437.0, 2684.3137166816414),\n",
       " (4549.0, 2684.3137166816414),\n",
       " (4669.0, 2684.3137166816414),\n",
       " (4952.0, 2684.3137166816414),\n",
       " (4889.0, 2684.3137166816414),\n",
       " (4981.0, 2684.3137166816414),\n",
       " (4998.0, 2684.3137166816414),\n",
       " (4259.0, 2684.3137166816414),\n",
       " (3807.0, 2684.3137166816414),\n",
       " (3510.0, 2684.3137166816414),\n",
       " (3281.0, 2684.3137166816414),\n",
       " (2841.0, 2684.3137166816414),\n",
       " (1442.0, 2684.3137166816414),\n",
       " (1767.0, 311.8069666182874),\n",
       " (1661.0, 2684.3137166816414),\n",
       " (1240.0, 2684.3137166816414),\n",
       " (1491.0, 2684.3137166816414),\n",
       " (1870.0, 2684.3137166816414),\n",
       " (1892.0, 2684.3137166816414),\n",
       " (2570.0, 2684.3137166816414),\n",
       " (3187.0, 2684.3137166816414),\n",
       " (3495.0, 2684.3137166816414),\n",
       " (3644.0, 2684.3137166816414),\n",
       " (4360.0, 2684.3137166816414),\n",
       " (4861.0, 2684.3137166816414),\n",
       " (5370.0, 2684.3137166816414),\n",
       " (5788.0, 2684.3137166816414),\n",
       " (4807.0, 2684.3137166816414),\n",
       " (4321.0, 2684.3137166816414),\n",
       " (4476.0, 2684.3137166816414),\n",
       " (4802.0, 2684.3137166816414),\n",
       " (2933.0, 2684.3137166816414),\n",
       " (107.0, 311.8069666182874),\n",
       " (433.0, 2684.3137166816414),\n",
       " (405.0, 2684.3137166816414),\n",
       " (683.0, 2684.3137166816414),\n",
       " (1184.0, 2684.3137166816414),\n",
       " (1659.0, 2684.3137166816414),\n",
       " (2160.0, 2684.3137166816414),\n",
       " (2630.0, 2684.3137166816414),\n",
       " (2721.0, 2684.3137166816414),\n",
       " (3115.0, 2684.3137166816414),\n",
       " (2901.0, 2684.3137166816414),\n",
       " (2465.0, 2684.3137166816414),\n",
       " (2286.0, 2684.3137166816414),\n",
       " (1397.0, 2684.3137166816414),\n",
       " (890.0, 2684.3137166816414),\n",
       " (756.0, 2684.3137166816414),\n",
       " (745.0, 2684.3137166816414),\n",
       " (596.0, 2684.3137166816414),\n",
       " (299.0, 2684.3137166816414),\n",
       " (59.0, 311.8069666182874),\n",
       " (173.0, 2684.3137166816414),\n",
       " (177.0, 2684.3137166816414),\n",
       " (247.0, 2684.3137166816414),\n",
       " (281.0, 2684.3137166816414),\n",
       " (271.0, 2684.3137166816414),\n",
       " (291.0, 2684.3137166816414),\n",
       " (303.0, 2684.3137166816414),\n",
       " (337.0, 2684.3137166816414),\n",
       " (369.0, 2684.3137166816414),\n",
       " (362.0, 2684.3137166816414),\n",
       " (413.0, 2684.3137166816414),\n",
       " (379.0, 2684.3137166816414),\n",
       " (352.0, 2684.3137166816414),\n",
       " (262.0, 2684.3137166816414),\n",
       " (263.0, 2684.3137166816414),\n",
       " (242.0, 2684.3137166816414),\n",
       " (223.0, 2684.3137166816414),\n",
       " (169.0, 2684.3137166816414),\n",
       " (513.0, 311.8069666182874),\n",
       " (1818.0, 2684.3137166816414),\n",
       " (2049.0, 2684.3137166816414),\n",
       " (2626.0, 2684.3137166816414),\n",
       " (3830.0, 2684.3137166816414),\n",
       " (3946.0, 2684.3137166816414),\n",
       " (4468.0, 2684.3137166816414),\n",
       " (5438.0, 2684.3137166816414),\n",
       " (5754.0, 2684.3137166816414),\n",
       " (6026.0, 2684.3137166816414),\n",
       " (6061.0, 2684.3137166816414),\n",
       " (6374.0, 2684.3137166816414),\n",
       " (6159.0, 2684.3137166816414),\n",
       " (5615.0, 2684.3137166816414),\n",
       " (4362.0, 2684.3137166816414),\n",
       " (3729.0, 2684.3137166816414),\n",
       " (3398.0, 2684.3137166816414),\n",
       " (2555.0, 2684.3137166816414),\n",
       " (1092.0, 2684.3137166816414),\n",
       " (268.0, 311.8069666182874),\n",
       " (788.0, 2684.3137166816414),\n",
       " (660.0, 2684.3137166816414),\n",
       " (1037.0, 2684.3137166816414),\n",
       " (1303.0, 2684.3137166816414),\n",
       " (1158.0, 2684.3137166816414),\n",
       " (1158.0, 2684.3137166816414),\n",
       " (1395.0, 2684.3137166816414),\n",
       " (1485.0, 2684.3137166816414),\n",
       " (1616.0, 2684.3137166816414),\n",
       " (1479.0, 2684.3137166816414),\n",
       " (1702.0, 2684.3137166816414),\n",
       " (1946.0, 2684.3137166816414),\n",
       " (1794.0, 2684.3137166816414),\n",
       " (1487.0, 2684.3137166816414),\n",
       " (1294.0, 2684.3137166816414),\n",
       " (1448.0, 2684.3137166816414),\n",
       " (1567.0, 2684.3137166816414),\n",
       " (823.0, 2684.3137166816414),\n",
       " (675.0, 311.8069666182874),\n",
       " (1452.0, 2684.3137166816414),\n",
       " (1390.0, 2684.3137166816414),\n",
       " (2044.0, 2684.3137166816414),\n",
       " (2588.0, 2684.3137166816414),\n",
       " (2568.0, 2684.3137166816414),\n",
       " (3004.0, 2684.3137166816414),\n",
       " (3102.0, 2684.3137166816414),\n",
       " (3303.0, 2684.3137166816414),\n",
       " (3488.0, 2684.3137166816414),\n",
       " (3479.0, 2684.3137166816414),\n",
       " (3523.0, 2684.3137166816414),\n",
       " (3964.0, 2684.3137166816414),\n",
       " (3881.0, 2684.3137166816414),\n",
       " (3378.0, 2684.3137166816414),\n",
       " (3127.0, 2684.3137166816414),\n",
       " (3023.0, 2684.3137166816414),\n",
       " (3125.0, 2684.3137166816414),\n",
       " (2049.0, 2684.3137166816414),\n",
       " (263.0, 311.8069666182874),\n",
       " (609.0, 2684.3137166816414),\n",
       " (529.0, 2684.3137166816414),\n",
       " (860.0, 2684.3137166816414),\n",
       " (1043.0, 2684.3137166816414),\n",
       " (973.0, 2684.3137166816414),\n",
       " (1107.0, 2684.3137166816414),\n",
       " (1209.0, 2684.3137166816414),\n",
       " (1295.0, 2684.3137166816414),\n",
       " (1318.0, 2684.3137166816414),\n",
       " (1263.0, 2684.3137166816414),\n",
       " (1494.0, 2684.3137166816414),\n",
       " (1464.0, 2684.3137166816414),\n",
       " (1516.0, 2684.3137166816414),\n",
       " (1238.0, 2684.3137166816414),\n",
       " (1049.0, 2684.3137166816414),\n",
       " (1083.0, 2684.3137166816414),\n",
       " (1110.0, 2684.3137166816414),\n",
       " (747.0, 2684.3137166816414),\n",
       " (188.0, 311.8069666182874),\n",
       " (399.0, 2684.3137166816414),\n",
       " (448.0, 2684.3137166816414),\n",
       " (624.0, 2684.3137166816414),\n",
       " (959.0, 2684.3137166816414),\n",
       " (1088.0, 2684.3137166816414),\n",
       " (1034.0, 2684.3137166816414),\n",
       " (966.0, 2684.3137166816414),\n",
       " (1069.0, 2684.3137166816414),\n",
       " (873.0, 2684.3137166816414),\n",
       " (1027.0, 2684.3137166816414),\n",
       " (1024.0, 2684.3137166816414),\n",
       " (1109.0, 2684.3137166816414),\n",
       " (874.0, 2684.3137166816414),\n",
       " (635.0, 2684.3137166816414),\n",
       " (522.0, 2684.3137166816414),\n",
       " (576.0, 2684.3137166816414),\n",
       " (499.0, 2684.3137166816414),\n",
       " (493.0, 2684.3137166816414),\n",
       " (107.0, 311.8069666182874),\n",
       " (208.0, 2684.3137166816414),\n",
       " (188.0, 2684.3137166816414),\n",
       " (293.0, 2684.3137166816414),\n",
       " (373.0, 2684.3137166816414),\n",
       " (388.0, 2684.3137166816414),\n",
       " (419.0, 2684.3137166816414),\n",
       " (465.0, 2684.3137166816414),\n",
       " (506.0, 2684.3137166816414),\n",
       " (534.0, 2684.3137166816414),\n",
       " (501.0, 2684.3137166816414),\n",
       " (485.0, 2684.3137166816414),\n",
       " (560.0, 2684.3137166816414),\n",
       " (491.0, 2684.3137166816414),\n",
       " (328.0, 2684.3137166816414),\n",
       " (392.0, 2684.3137166816414),\n",
       " (323.0, 2684.3137166816414),\n",
       " (317.0, 2684.3137166816414),\n",
       " (203.0, 2684.3137166816414),\n",
       " (300.0, 311.8069666182874),\n",
       " (640.0, 2684.3137166816414),\n",
       " (655.0, 2684.3137166816414),\n",
       " (842.0, 2684.3137166816414),\n",
       " (1083.0, 2684.3137166816414),\n",
       " (1222.0, 2684.3137166816414),\n",
       " (1391.0, 2684.3137166816414),\n",
       " (1572.0, 2684.3137166816414),\n",
       " (1563.0, 2684.3137166816414),\n",
       " (1612.0, 2684.3137166816414),\n",
       " (1627.0, 2684.3137166816414),\n",
       " (1717.0, 2684.3137166816414),\n",
       " (1889.0, 2684.3137166816414),\n",
       " (1504.0, 2684.3137166816414),\n",
       " (1254.0, 2684.3137166816414),\n",
       " (1286.0, 2684.3137166816414),\n",
       " (1090.0, 2684.3137166816414),\n",
       " (1089.0, 2684.3137166816414),\n",
       " (739.0, 2684.3137166816414),\n",
       " (366.0, 311.8069666182874),\n",
       " (747.0, 2684.3137166816414),\n",
       " (615.0, 2684.3137166816414),\n",
       " (926.0, 2684.3137166816414),\n",
       " (1291.0, 2684.3137166816414),\n",
       " (1395.0, 2684.3137166816414),\n",
       " (1460.0, 2684.3137166816414),\n",
       " (1588.0, 2684.3137166816414),\n",
       " (1812.0, 2684.3137166816414),\n",
       " (1746.0, 2684.3137166816414),\n",
       " (1828.0, 2684.3137166816414),\n",
       " (1888.0, 2684.3137166816414),\n",
       " (2066.0, 2684.3137166816414),\n",
       " (1995.0, 2684.3137166816414),\n",
       " (1756.0, 2684.3137166816414),\n",
       " (1465.0, 2684.3137166816414),\n",
       " (1496.0, 2684.3137166816414),\n",
       " (1548.0, 2684.3137166816414),\n",
       " (1085.0, 2684.3137166816414),\n",
       " (145.0, 311.8069666182874),\n",
       " (1154.0, 2684.3137166816414),\n",
       " (1070.0, 2684.3137166816414),\n",
       " (1439.0, 2684.3137166816414),\n",
       " (1904.0, 2684.3137166816414),\n",
       " (2318.0, 2684.3137166816414),\n",
       " (2364.0, 2684.3137166816414),\n",
       " (2709.0, 2684.3137166816414),\n",
       " (2694.0, 2684.3137166816414),\n",
       " (2922.0, 2684.3137166816414),\n",
       " (2622.0, 2684.3137166816414),\n",
       " (2607.0, 2684.3137166816414),\n",
       " (2715.0, 2684.3137166816414),\n",
       " (2425.0, 2684.3137166816414),\n",
       " (1894.0, 2684.3137166816414),\n",
       " (1420.0, 2684.3137166816414),\n",
       " (1478.0, 2684.3137166816414),\n",
       " (1396.0, 2684.3137166816414),\n",
       " (495.0, 2684.3137166816414),\n",
       " (6.0, 311.8069666182874),\n",
       " (15.0, 2684.3137166816414),\n",
       " (29.0, 2684.3137166816414),\n",
       " (77.0, 2684.3137166816414),\n",
       " (48.0, 2684.3137166816414),\n",
       " (59.0, 2684.3137166816414),\n",
       " (62.0, 2684.3137166816414),\n",
       " (95.0, 2684.3137166816414),\n",
       " (75.0, 2684.3137166816414),\n",
       " (73.0, 2684.3137166816414),\n",
       " (72.0, 2684.3137166816414),\n",
       " (94.0, 2684.3137166816414),\n",
       " (71.0, 2684.3137166816414),\n",
       " (47.0, 2684.3137166816414),\n",
       " (51.0, 2684.3137166816414),\n",
       " (41.0, 2684.3137166816414),\n",
       " (24.0, 2684.3137166816414),\n",
       " (30.0, 2684.3137166816414),\n",
       " (22.0, 2684.3137166816414),\n",
       " (425.0, 311.8069666182874),\n",
       " (644.0, 2684.3137166816414),\n",
       " (614.0, 2684.3137166816414),\n",
       " (764.0, 2684.3137166816414),\n",
       " (938.0, 2684.3137166816414),\n",
       " (1068.0, 2684.3137166816414),\n",
       " (1266.0, 2684.3137166816414),\n",
       " (1417.0, 2684.3137166816414),\n",
       " (1629.0, 2684.3137166816414),\n",
       " (1598.0, 2684.3137166816414),\n",
       " (1848.0, 2684.3137166816414),\n",
       " (2067.0, 2684.3137166816414),\n",
       " (2183.0, 2684.3137166816414),\n",
       " (2333.0, 2684.3137166816414),\n",
       " (1913.0, 2684.3137166816414),\n",
       " (1720.0, 2684.3137166816414),\n",
       " (1751.0, 2684.3137166816414),\n",
       " (1605.0, 2684.3137166816414),\n",
       " (1228.0, 2684.3137166816414),\n",
       " (197.0, 311.8069666182874),\n",
       " (428.0, 2684.3137166816414),\n",
       " (401.0, 2684.3137166816414),\n",
       " (469.0, 2684.3137166816414),\n",
       " (670.0, 2684.3137166816414),\n",
       " (635.0, 2684.3137166816414),\n",
       " (656.0, 2684.3137166816414),\n",
       " (714.0, 2684.3137166816414),\n",
       " (778.0, 2684.3137166816414),\n",
       " (757.0, 2684.3137166816414),\n",
       " (768.0, 2684.3137166816414),\n",
       " (824.0, 2684.3137166816414),\n",
       " (770.0, 2684.3137166816414),\n",
       " (753.0, 2684.3137166816414),\n",
       " (664.0, 2684.3137166816414),\n",
       " (566.0, 2684.3137166816414),\n",
       " (524.0, 2684.3137166816414),\n",
       " (541.0, 2684.3137166816414),\n",
       " (351.0, 2684.3137166816414),\n",
       " (150.0, 311.8069666182874),\n",
       " (528.0, 2684.3137166816414),\n",
       " (423.0, 2684.3137166816414),\n",
       " (652.0, 2684.3137166816414),\n",
       " (851.0, 2684.3137166816414),\n",
       " (889.0, 2684.3137166816414),\n",
       " (952.0, 2684.3137166816414),\n",
       " (981.0, 2684.3137166816414),\n",
       " (1023.0, 2684.3137166816414),\n",
       " (1109.0, 2684.3137166816414),\n",
       " (1019.0, 2684.3137166816414),\n",
       " (1101.0, 2684.3137166816414),\n",
       " (1103.0, 2684.3137166816414),\n",
       " (949.0, 2684.3137166816414),\n",
       " (694.0, 2684.3137166816414),\n",
       " (679.0, 2684.3137166816414),\n",
       " (708.0, 2684.3137166816414),\n",
       " (643.0, 2684.3137166816414),\n",
       " (533.0, 2684.3137166816414),\n",
       " (240.0, 311.8069666182874),\n",
       " (524.0, 2684.3137166816414),\n",
       " (519.0, 2684.3137166816414),\n",
       " (811.0, 2684.3137166816414),\n",
       " (964.0, 2684.3137166816414),\n",
       " (851.0, 2684.3137166816414),\n",
       " (979.0, 2684.3137166816414),\n",
       " (1020.0, 2684.3137166816414),\n",
       " (1071.0, 2684.3137166816414),\n",
       " (1112.0, 2684.3137166816414),\n",
       " (1208.0, 2684.3137166816414),\n",
       " (1211.0, 2684.3137166816414),\n",
       " (1297.0, 2684.3137166816414),\n",
       " (1142.0, 2684.3137166816414),\n",
       " (866.0, 2684.3137166816414),\n",
       " (959.0, 2684.3137166816414),\n",
       " (937.0, 2684.3137166816414),\n",
       " (871.0, 2684.3137166816414),\n",
       " (708.0, 2684.3137166816414),\n",
       " (444.0, 311.8069666182874),\n",
       " (799.0, 2684.3137166816414),\n",
       " (906.0, 2684.3137166816414),\n",
       " (1541.0, 2684.3137166816414),\n",
       " (2123.0, 2684.3137166816414),\n",
       " (2092.0, 2684.3137166816414),\n",
       " (2893.0, 2684.3137166816414),\n",
       " (2720.0, 2684.3137166816414),\n",
       " (2512.0, 2684.3137166816414),\n",
       " (2591.0, 2684.3137166816414),\n",
       " (2703.0, 2684.3137166816414),\n",
       " (2764.0, 2684.3137166816414),\n",
       " (2809.0, 2684.3137166816414),\n",
       " (2496.0, 2684.3137166816414),\n",
       " (2243.0, 2684.3137166816414),\n",
       " (2021.0, 2684.3137166816414),\n",
       " (2096.0, 2684.3137166816414),\n",
       " (2142.0, 2684.3137166816414),\n",
       " (1206.0, 2684.3137166816414),\n",
       " (88.0, 311.8069666182874),\n",
       " (248.0, 2684.3137166816414),\n",
       " (243.0, 2684.3137166816414),\n",
       " (407.0, 2684.3137166816414),\n",
       " (541.0, 2684.3137166816414),\n",
       " (436.0, 2684.3137166816414),\n",
       " (392.0, 2684.3137166816414),\n",
       " (466.0, 2684.3137166816414),\n",
       " (547.0, 2684.3137166816414),\n",
       " (583.0, 2684.3137166816414),\n",
       " (615.0, 2684.3137166816414),\n",
       " (550.0, 2684.3137166816414),\n",
       " (585.0, 2684.3137166816414),\n",
       " (504.0, 2684.3137166816414),\n",
       " (434.0, 2684.3137166816414),\n",
       " (387.0, 2684.3137166816414),\n",
       " (380.0, 2684.3137166816414),\n",
       " (354.0, 2684.3137166816414),\n",
       " (268.0, 2684.3137166816414),\n",
       " (84.0, 311.8069666182874),\n",
       " (323.0, 2684.3137166816414),\n",
       " (240.0, 2684.3137166816414),\n",
       " (490.0, 2684.3137166816414),\n",
       " (469.0, 2684.3137166816414),\n",
       " (358.0, 2684.3137166816414),\n",
       " (431.0, 2684.3137166816414),\n",
       " (513.0, 2684.3137166816414),\n",
       " (650.0, 2684.3137166816414),\n",
       " (487.0, 2684.3137166816414),\n",
       " (548.0, 2684.3137166816414),\n",
       " (583.0, 2684.3137166816414),\n",
       " (748.0, 2684.3137166816414),\n",
       " (620.0, 2684.3137166816414),\n",
       " (482.0, 2684.3137166816414),\n",
       " (366.0, 2684.3137166816414),\n",
       " (503.0, 2684.3137166816414),\n",
       " (698.0, 2684.3137166816414),\n",
       " (246.0, 2684.3137166816414),\n",
       " (41.0, 311.8069666182874),\n",
       " (133.0, 2684.3137166816414),\n",
       " (134.0, 2684.3137166816414),\n",
       " (229.0, 2684.3137166816414),\n",
       " (300.0, 2684.3137166816414),\n",
       " (207.0, 2684.3137166816414),\n",
       " (251.0, 2684.3137166816414),\n",
       " (277.0, 2684.3137166816414),\n",
       " (279.0, 2684.3137166816414),\n",
       " (264.0, 2684.3137166816414),\n",
       " (279.0, 2684.3137166816414),\n",
       " (297.0, 2684.3137166816414),\n",
       " (329.0, 2684.3137166816414),\n",
       " (354.0, 2684.3137166816414),\n",
       " (276.0, 2684.3137166816414),\n",
       " (222.0, 2684.3137166816414),\n",
       " (207.0, 2684.3137166816414),\n",
       " (227.0, 2684.3137166816414),\n",
       " (109.0, 2684.3137166816414),\n",
       " (14.0, 311.8069666182874),\n",
       " (22.0, 2684.3137166816414),\n",
       " (31.0, 2684.3137166816414),\n",
       " (30.0, 2684.3137166816414),\n",
       " (29.0, 2684.3137166816414),\n",
       " (23.0, 2684.3137166816414),\n",
       " (34.0, 2684.3137166816414),\n",
       " (33.0, 2684.3137166816414),\n",
       " (40.0, 2684.3137166816414),\n",
       " (30.0, 2684.3137166816414),\n",
       " (32.0, 2684.3137166816414),\n",
       " (42.0, 2684.3137166816414),\n",
       " (39.0, 2684.3137166816414),\n",
       " (42.0, 2684.3137166816414),\n",
       " (25.0, 2684.3137166816414),\n",
       " (17.0, 2684.3137166816414),\n",
       " (29.0, 2684.3137166816414),\n",
       " (25.0, 2684.3137166816414),\n",
       " (17.0, 2684.3137166816414),\n",
       " (109.0, 311.8069666182874),\n",
       " (263.0, 2684.3137166816414),\n",
       " (178.0, 2684.3137166816414),\n",
       " (324.0, 2684.3137166816414),\n",
       " (423.0, 2684.3137166816414),\n",
       " (456.0, 2684.3137166816414),\n",
       " (487.0, 2684.3137166816414),\n",
       " (530.0, 2684.3137166816414),\n",
       " (585.0, 2684.3137166816414),\n",
       " (659.0, 2684.3137166816414),\n",
       " (516.0, 2684.3137166816414),\n",
       " (583.0, 2684.3137166816414),\n",
       " (529.0, 2684.3137166816414),\n",
       " (400.0, 2684.3137166816414),\n",
       " (304.0, 2684.3137166816414),\n",
       " (264.0, 2684.3137166816414),\n",
       " (251.0, 2684.3137166816414),\n",
       " (207.0, 2684.3137166816414),\n",
       " (149.0, 2684.3137166816414),\n",
       " (377.0, 311.8069666182874),\n",
       " (499.0, 2684.3137166816414),\n",
       " (503.0, 2684.3137166816414),\n",
       " (679.0, 2684.3137166816414),\n",
       " (1288.0, 2684.3137166816414),\n",
       " (1586.0, 2684.3137166816414),\n",
       " (2343.0, 2684.3137166816414),\n",
       " (2822.0, 2684.3137166816414),\n",
       " (3460.0, 2684.3137166816414),\n",
       " (3834.0, 2684.3137166816414),\n",
       " (4218.0, 2684.3137166816414),\n",
       " (4181.0, 2684.3137166816414),\n",
       " (4113.0, 2684.3137166816414),\n",
       " (3161.0, 2684.3137166816414),\n",
       " (3018.0, 2684.3137166816414),\n",
       " (2580.0, 2684.3137166816414),\n",
       " (2029.0, 2684.3137166816414),\n",
       " (1571.0, 2684.3137166816414),\n",
       " (995.0, 2684.3137166816414),\n",
       " (402.0, 311.8069666182874),\n",
       " (693.0, 2684.3137166816414),\n",
       " (656.0, 2684.3137166816414),\n",
       " (983.0, 2684.3137166816414),\n",
       " (1603.0, 2684.3137166816414),\n",
       " (2000.0, 2684.3137166816414),\n",
       " (2343.0, 2684.3137166816414),\n",
       " (2864.0, 2684.3137166816414),\n",
       " (3300.0, 2684.3137166816414),\n",
       " (3764.0, 2684.3137166816414),\n",
       " (4241.0, 2684.3137166816414),\n",
       " (4489.0, 2684.3137166816414),\n",
       " (4917.0, 2684.3137166816414),\n",
       " (4494.0, 2684.3137166816414),\n",
       " (4241.0, 2684.3137166816414),\n",
       " (3465.0, 2684.3137166816414),\n",
       " (3344.0, 2684.3137166816414),\n",
       " (3115.0, 2684.3137166816414),\n",
       " (2072.0, 2684.3137166816414),\n",
       " (121.0, 311.8069666182874),\n",
       " (836.0, 2684.3137166816414),\n",
       " (433.0, 2684.3137166816414),\n",
       " (1035.0, 2684.3137166816414),\n",
       " (760.0, 2684.3137166816414),\n",
       " (705.0, 2684.3137166816414),\n",
       " (909.0, 2684.3137166816414),\n",
       " (805.0, 2684.3137166816414),\n",
       " (818.0, 2684.3137166816414),\n",
       " (1022.0, 2684.3137166816414),\n",
       " (826.0, 2684.3137166816414),\n",
       " (835.0, 2684.3137166816414),\n",
       " (1048.0, 2684.3137166816414),\n",
       " (1092.0, 2684.3137166816414),\n",
       " (735.0, 2684.3137166816414),\n",
       " (519.0, 2684.3137166816414),\n",
       " (678.0, 2684.3137166816414),\n",
       " (492.0, 2684.3137166816414),\n",
       " (184.0, 2684.3137166816414),\n",
       " (56.0, 311.8069666182874),\n",
       " (140.0, 2684.3137166816414),\n",
       " (154.0, 2684.3137166816414),\n",
       " (257.0, 2684.3137166816414),\n",
       " (360.0, 2684.3137166816414),\n",
       " (604.0, 2684.3137166816414),\n",
       " (1005.0, 2684.3137166816414),\n",
       " (1450.0, 2684.3137166816414),\n",
       " (1666.0, 2684.3137166816414),\n",
       " (1983.0, 2684.3137166816414),\n",
       " (1943.0, 2684.3137166816414),\n",
       " (1716.0, 2684.3137166816414),\n",
       " (1328.0, 2684.3137166816414),\n",
       " (635.0, 2684.3137166816414),\n",
       " (363.0, 2684.3137166816414),\n",
       " (288.0, 2684.3137166816414),\n",
       " (282.0, 2684.3137166816414),\n",
       " (257.0, 2684.3137166816414),\n",
       " (196.0, 2684.3137166816414),\n",
       " (14.0, 311.8069666182874),\n",
       " (63.0, 2684.3137166816414),\n",
       " (99.0, 2684.3137166816414),\n",
       " (185.0, 2684.3137166816414),\n",
       " (137.0, 2684.3137166816414),\n",
       " (173.0, 2684.3137166816414),\n",
       " (127.0, 2684.3137166816414),\n",
       " (179.0, 2684.3137166816414),\n",
       " (181.0, 2684.3137166816414),\n",
       " (161.0, 2684.3137166816414),\n",
       " (182.0, 2684.3137166816414),\n",
       " (177.0, 2684.3137166816414),\n",
       " (200.0, 2684.3137166816414),\n",
       " (166.0, 2684.3137166816414),\n",
       " (110.0, 2684.3137166816414),\n",
       " (111.0, 2684.3137166816414),\n",
       " (75.0, 2684.3137166816414),\n",
       " (72.0, 2684.3137166816414),\n",
       " (51.0, 2684.3137166816414),\n",
       " (163.0, 311.8069666182874),\n",
       " (346.0, 2684.3137166816414),\n",
       " (359.0, 2684.3137166816414),\n",
       " (444.0, 2684.3137166816414),\n",
       " (465.0, 2684.3137166816414),\n",
       " (440.0, 2684.3137166816414),\n",
       " (618.0, 2684.3137166816414),\n",
       " (657.0, 2684.3137166816414),\n",
       " (648.0, 2684.3137166816414),\n",
       " (716.0, 2684.3137166816414),\n",
       " (716.0, 2684.3137166816414),\n",
       " (760.0, 2684.3137166816414),\n",
       " (810.0, 2684.3137166816414),\n",
       " (786.0, 2684.3137166816414),\n",
       " (577.0, 2684.3137166816414),\n",
       " (562.0, 2684.3137166816414),\n",
       " (553.0, 2684.3137166816414),\n",
       " (525.0, 2684.3137166816414),\n",
       " (334.0, 2684.3137166816414),\n",
       " (63.0, 311.8069666182874),\n",
       " (229.0, 2684.3137166816414),\n",
       " (160.0, 2684.3137166816414),\n",
       " (235.0, 2684.3137166816414),\n",
       " (381.0, 2684.3137166816414),\n",
       " (351.0, 2684.3137166816414),\n",
       " (372.0, 2684.3137166816414),\n",
       " (487.0, 2684.3137166816414),\n",
       " (494.0, 2684.3137166816414),\n",
       " (442.0, 2684.3137166816414),\n",
       " (464.0, 2684.3137166816414),\n",
       " (461.0, 2684.3137166816414),\n",
       " (424.0, 2684.3137166816414),\n",
       " (445.0, 2684.3137166816414),\n",
       " (317.0, 2684.3137166816414),\n",
       " (293.0, 2684.3137166816414),\n",
       " (379.0, 2684.3137166816414),\n",
       " (305.0, 2684.3137166816414),\n",
       " (150.0, 2684.3137166816414),\n",
       " (188.0, 311.8069666182874),\n",
       " (905.0, 2684.3137166816414),\n",
       " (855.0, 2684.3137166816414),\n",
       " (1293.0, 2684.3137166816414),\n",
       " (2467.0, 2684.3137166816414),\n",
       " (3348.0, 2684.3137166816414),\n",
       " (4314.0, 2684.3137166816414),\n",
       " (5316.0, 2684.3137166816414),\n",
       " (6294.0, 2684.3137166816414),\n",
       " (6387.0, 2684.3137166816414),\n",
       " (7543.0, 2684.3137166816414),\n",
       " (8004.0, 2684.3137166816414),\n",
       " (8307.0, 2684.3137166816414),\n",
       " (7504.0, 2684.3137166816414),\n",
       " (6300.0, 2684.3137166816414),\n",
       " (5526.0, 2684.3137166816414),\n",
       " (4927.0, 2684.3137166816414),\n",
       " (4522.0, 2684.3137166816414),\n",
       " (2236.0, 2684.3137166816414),\n",
       " (54.0, 311.8069666182874),\n",
       " (205.0, 2684.3137166816414),\n",
       " (122.0, 2684.3137166816414),\n",
       " (165.0, 2684.3137166816414),\n",
       " (217.0, 2684.3137166816414),\n",
       " (230.0, 2684.3137166816414),\n",
       " (238.0, 2684.3137166816414),\n",
       " (255.0, 2684.3137166816414),\n",
       " (259.0, 2684.3137166816414),\n",
       " (228.0, 2684.3137166816414),\n",
       " (249.0, 2684.3137166816414),\n",
       " (276.0, 2684.3137166816414),\n",
       " (232.0, 2684.3137166816414),\n",
       " (229.0, 2684.3137166816414),\n",
       " (207.0, 2684.3137166816414),\n",
       " (197.0, 2684.3137166816414),\n",
       " (166.0, 2684.3137166816414),\n",
       " (165.0, 2684.3137166816414),\n",
       " (132.0, 2684.3137166816414),\n",
       " (133.0, 311.8069666182874),\n",
       " (344.0, 2684.3137166816414),\n",
       " (371.0, 2684.3137166816414),\n",
       " (442.0, 2684.3137166816414),\n",
       " (624.0, 2684.3137166816414),\n",
       " (511.0, 2684.3137166816414),\n",
       " (633.0, 2684.3137166816414),\n",
       " (700.0, 2684.3137166816414),\n",
       " (820.0, 2684.3137166816414),\n",
       " (779.0, 2684.3137166816414),\n",
       " (816.0, 2684.3137166816414),\n",
       " (870.0, 2684.3137166816414),\n",
       " (964.0, 2684.3137166816414),\n",
       " (838.0, 2684.3137166816414),\n",
       " (687.0, 2684.3137166816414),\n",
       " (635.0, 2684.3137166816414),\n",
       " (610.0, 2684.3137166816414),\n",
       " (654.0, 2684.3137166816414),\n",
       " (395.0, 2684.3137166816414),\n",
       " (362.0, 311.8069666182874),\n",
       " (825.0, 2684.3137166816414),\n",
       " (773.0, 2684.3137166816414),\n",
       " (1132.0, 2684.3137166816414),\n",
       " (1479.0, 2684.3137166816414),\n",
       " (1714.0, 2684.3137166816414),\n",
       " (1849.0, 2684.3137166816414),\n",
       " (2110.0, 2684.3137166816414),\n",
       " (2213.0, 2684.3137166816414),\n",
       " (2110.0, 2684.3137166816414),\n",
       " (2401.0, 2684.3137166816414),\n",
       " (2400.0, 2684.3137166816414),\n",
       " (2636.0, 2684.3137166816414),\n",
       " (2446.0, 2684.3137166816414),\n",
       " (2096.0, 2684.3137166816414),\n",
       " (1833.0, 2684.3137166816414),\n",
       " (1698.0, 2684.3137166816414),\n",
       " (1611.0, 2684.3137166816414),\n",
       " (1110.0, 2684.3137166816414),\n",
       " (234.0, 311.8069666182874),\n",
       " (428.0, 2684.3137166816414),\n",
       " (487.0, 2684.3137166816414),\n",
       " (674.0, 2684.3137166816414),\n",
       " (876.0, 2684.3137166816414),\n",
       " (928.0, 2684.3137166816414),\n",
       " (1012.0, 2684.3137166816414),\n",
       " (1166.0, 2684.3137166816414),\n",
       " (1146.0, 2684.3137166816414),\n",
       " (1184.0, 2684.3137166816414),\n",
       " (1155.0, 2684.3137166816414),\n",
       " (1257.0, 2684.3137166816414),\n",
       " (1329.0, 2684.3137166816414),\n",
       " (1169.0, 2684.3137166816414),\n",
       " (954.0, 2684.3137166816414),\n",
       " (857.0, 2684.3137166816414),\n",
       " (833.0, 2684.3137166816414),\n",
       " (770.0, 2684.3137166816414),\n",
       " (491.0, 2684.3137166816414),\n",
       " (170.0, 311.8069666182874),\n",
       " (397.0, 2684.3137166816414),\n",
       " (267.0, 2684.3137166816414),\n",
       " (442.0, 2684.3137166816414),\n",
       " (583.0, 2684.3137166816414),\n",
       " (597.0, 2684.3137166816414),\n",
       " (557.0, 2684.3137166816414),\n",
       " (693.0, 2684.3137166816414),\n",
       " (771.0, 2684.3137166816414),\n",
       " (765.0, 2684.3137166816414),\n",
       " (708.0, 2684.3137166816414),\n",
       " (840.0, 2684.3137166816414),\n",
       " (904.0, 2684.3137166816414),\n",
       " (887.0, 2684.3137166816414),\n",
       " (668.0, 2684.3137166816414),\n",
       " (714.0, 2684.3137166816414),\n",
       " (647.0, 2684.3137166816414),\n",
       " (693.0, 2684.3137166816414),\n",
       " (456.0, 2684.3137166816414),\n",
       " (309.0, 311.8069666182874),\n",
       " (560.0, 2684.3137166816414),\n",
       " (566.0, 2684.3137166816414),\n",
       " (756.0, 2684.3137166816414),\n",
       " (1224.0, 2684.3137166816414),\n",
       " (1165.0, 2684.3137166816414),\n",
       " (1303.0, 2684.3137166816414),\n",
       " (1327.0, 2684.3137166816414),\n",
       " (1392.0, 2684.3137166816414),\n",
       " (1339.0, 2684.3137166816414),\n",
       " (1346.0, 2684.3137166816414),\n",
       " (1557.0, 2684.3137166816414),\n",
       " (1594.0, 2684.3137166816414),\n",
       " (1480.0, 2684.3137166816414),\n",
       " (1302.0, 2684.3137166816414),\n",
       " (1155.0, 2684.3137166816414),\n",
       " (1116.0, 2684.3137166816414),\n",
       " (1107.0, 2684.3137166816414),\n",
       " (709.0, 2684.3137166816414),\n",
       " (208.0, 311.8069666182874),\n",
       " (650.0, 2684.3137166816414),\n",
       " (480.0, 2684.3137166816414),\n",
       " (758.0, 2684.3137166816414),\n",
       " (1181.0, 2684.3137166816414),\n",
       " (1425.0, 2684.3137166816414),\n",
       " (1405.0, 2684.3137166816414),\n",
       " (1503.0, 2684.3137166816414),\n",
       " (1573.0, 2684.3137166816414),\n",
       " (1693.0, 2684.3137166816414),\n",
       " (1647.0, 2684.3137166816414),\n",
       " (1713.0, 2684.3137166816414),\n",
       " (1684.0, 2684.3137166816414),\n",
       " (1531.0, 2684.3137166816414),\n",
       " (1055.0, 2684.3137166816414),\n",
       " (1001.0, 2684.3137166816414),\n",
       " (798.0, 2684.3137166816414),\n",
       " (794.0, 2684.3137166816414),\n",
       " (475.0, 2684.3137166816414),\n",
       " (734.0, 311.8069666182874),\n",
       " (2123.0, 2684.3137166816414),\n",
       " (1417.0, 2684.3137166816414),\n",
       " (2027.0, 2684.3137166816414),\n",
       " (2966.0, 2684.3137166816414),\n",
       " (3152.0, 2684.3137166816414),\n",
       " (3593.0, 2684.3137166816414),\n",
       " (4055.0, 2684.3137166816414),\n",
       " (4011.0, 2684.3137166816414),\n",
       " (4227.0, 2684.3137166816414),\n",
       " (4430.0, 2684.3137166816414),\n",
       " (4815.0, 2684.3137166816414),\n",
       " (5472.0, 2684.3137166816414),\n",
       " (5055.0, 2684.3137166816414),\n",
       " (4414.0, 2684.3137166816414),\n",
       " (3966.0, 2684.3137166816414),\n",
       " (3994.0, 2684.3137166816414),\n",
       " (4117.0, 2684.3137166816414),\n",
       " (2683.0, 2684.3137166816414),\n",
       " (39.0, 311.8069666182874),\n",
       " (86.0, 2684.3137166816414),\n",
       " (109.0, 2684.3137166816414),\n",
       " (183.0, 2684.3137166816414),\n",
       " (189.0, 2684.3137166816414),\n",
       " (232.0, 2684.3137166816414),\n",
       " (241.0, 2684.3137166816414),\n",
       " (309.0, 2684.3137166816414),\n",
       " (321.0, 2684.3137166816414),\n",
       " (305.0, 2684.3137166816414),\n",
       " (354.0, 2684.3137166816414),\n",
       " (321.0, 2684.3137166816414),\n",
       " (291.0, 2684.3137166816414),\n",
       " (319.0, 2684.3137166816414),\n",
       " (204.0, 2684.3137166816414),\n",
       " (189.0, 2684.3137166816414),\n",
       " (177.0, 2684.3137166816414),\n",
       " (181.0, 2684.3137166816414),\n",
       " (146.0, 2684.3137166816414),\n",
       " (307.0, 311.8069666182874),\n",
       " (681.0, 2684.3137166816414),\n",
       " (686.0, 2684.3137166816414),\n",
       " (987.0, 2684.3137166816414),\n",
       " (1442.0, 2684.3137166816414),\n",
       " (1363.0, 2684.3137166816414),\n",
       " (1807.0, 2684.3137166816414),\n",
       " (2495.0, 2684.3137166816414),\n",
       " (2619.0, 2684.3137166816414),\n",
       " (3043.0, 2684.3137166816414),\n",
       " (3378.0, 2684.3137166816414),\n",
       " (3479.0, 2684.3137166816414),\n",
       " (3663.0, 2684.3137166816414),\n",
       " (3429.0, 2684.3137166816414),\n",
       " (2274.0, 2684.3137166816414),\n",
       " (1967.0, 2684.3137166816414),\n",
       " (1971.0, 2684.3137166816414),\n",
       " (2076.0, 2684.3137166816414),\n",
       " (542.0, 2684.3137166816414),\n",
       " (262.0, 311.8069666182874),\n",
       " (868.0, 2684.3137166816414),\n",
       " (629.0, 2684.3137166816414),\n",
       " (801.0, 2684.3137166816414),\n",
       " (1054.0, 2684.3137166816414),\n",
       " (1072.0, 2684.3137166816414),\n",
       " (1200.0, 2684.3137166816414),\n",
       " (1349.0, 2684.3137166816414),\n",
       " (1346.0, 2684.3137166816414),\n",
       " (1315.0, 2684.3137166816414),\n",
       " (1349.0, 2684.3137166816414),\n",
       " (1395.0, 2684.3137166816414),\n",
       " (1484.0, 2684.3137166816414),\n",
       " (1380.0, 2684.3137166816414),\n",
       " (1142.0, 2684.3137166816414),\n",
       " (990.0, 2684.3137166816414),\n",
       " (980.0, 2684.3137166816414),\n",
       " (940.0, 2684.3137166816414),\n",
       " (737.0, 2684.3137166816414),\n",
       " (124.0, 311.8069666182874),\n",
       " (254.0, 2684.3137166816414),\n",
       " (207.0, 2684.3137166816414),\n",
       " (338.0, 2684.3137166816414),\n",
       " (453.0, 2684.3137166816414),\n",
       " (457.0, 2684.3137166816414),\n",
       " (530.0, 2684.3137166816414),\n",
       " (547.0, 2684.3137166816414),\n",
       " (616.0, 2684.3137166816414),\n",
       " (558.0, 2684.3137166816414),\n",
       " (624.0, 2684.3137166816414),\n",
       " (652.0, 2684.3137166816414),\n",
       " (700.0, 2684.3137166816414),\n",
       " (599.0, 2684.3137166816414),\n",
       " (488.0, 2684.3137166816414),\n",
       " (442.0, 2684.3137166816414),\n",
       " (421.0, 2684.3137166816414),\n",
       " (455.0, 2684.3137166816414),\n",
       " (300.0, 2684.3137166816414),\n",
       " (706.0, 311.8069666182874),\n",
       " (1328.0, 2684.3137166816414),\n",
       " (1095.0, 2684.3137166816414),\n",
       " (1575.0, 2684.3137166816414),\n",
       " (2315.0, 2684.3137166816414),\n",
       " (2541.0, 2684.3137166816414),\n",
       " (2660.0, 2684.3137166816414),\n",
       " (3010.0, 2684.3137166816414),\n",
       " (3179.0, 2684.3137166816414),\n",
       " (3342.0, 2684.3137166816414),\n",
       " (3356.0, 2684.3137166816414),\n",
       " (3604.0, 2684.3137166816414),\n",
       " (3996.0, 2684.3137166816414),\n",
       " (3726.0, 2684.3137166816414),\n",
       " (2946.0, 2684.3137166816414),\n",
       " (2684.0, 2684.3137166816414),\n",
       " (2621.0, 2684.3137166816414),\n",
       " (2782.0, 2684.3137166816414),\n",
       " (1787.0, 2684.3137166816414),\n",
       " (876.0, 311.8069666182874),\n",
       " (2665.0, 8179.457264957265),\n",
       " (2935.0, 8179.457264957265),\n",
       " (3672.0, 8179.457264957265),\n",
       " (5050.0, 8179.457264957265),\n",
       " (5542.0, 8179.457264957265),\n",
       " (6662.0, 8179.457264957265),\n",
       " (7592.0, 8179.457264957265),\n",
       " (7675.0, 8179.457264957265),\n",
       " (6868.0, 8179.457264957265),\n",
       " (8590.0, 8179.457264957265),\n",
       " (8156.0, 8179.457264957265),\n",
       " (7403.0, 8179.457264957265),\n",
       " (6602.0, 8179.457264957265),\n",
       " (5576.0, 8179.457264957265),\n",
       " (4687.0, 8179.457264957265),\n",
       " (4816.0, 8179.457264957265),\n",
       " (4013.0, 8179.457264957265),\n",
       " (2110.0, 8179.457264957265),\n",
       " (81.0, 311.8069666182874),\n",
       " (343.0, 2684.3137166816414),\n",
       " (300.0, 2684.3137166816414),\n",
       " (409.0, 2684.3137166816414),\n",
       " (515.0, 2684.3137166816414),\n",
       " (381.0, 2684.3137166816414),\n",
       " (444.0, 2684.3137166816414),\n",
       " (459.0, 2684.3137166816414),\n",
       " (558.0, 2684.3137166816414),\n",
       " (610.0, 2684.3137166816414),\n",
       " (497.0, 2684.3137166816414),\n",
       " (516.0, 2684.3137166816414),\n",
       " (640.0, 2684.3137166816414),\n",
       " (677.0, 2684.3137166816414),\n",
       " (518.0, 2684.3137166816414),\n",
       " (412.0, 2684.3137166816414),\n",
       " (456.0, 2684.3137166816414),\n",
       " (480.0, 2684.3137166816414),\n",
       " (256.0, 2684.3137166816414),\n",
       " (331.0, 311.8069666182874),\n",
       " (760.0, 2684.3137166816414),\n",
       " (617.0, 2684.3137166816414),\n",
       " (977.0, 2684.3137166816414),\n",
       " (1138.0, 2684.3137166816414),\n",
       " (891.0, 2684.3137166816414),\n",
       " (1012.0, 2684.3137166816414),\n",
       " (1174.0, 2684.3137166816414),\n",
       " (1375.0, 2684.3137166816414),\n",
       " (1112.0, 2684.3137166816414),\n",
       " (1166.0, 2684.3137166816414),\n",
       " (1464.0, 2684.3137166816414),\n",
       " (1453.0, 2684.3137166816414),\n",
       " (1464.0, 2684.3137166816414),\n",
       " (1134.0, 2684.3137166816414),\n",
       " (1196.0, 2684.3137166816414),\n",
       " (1407.0, 2684.3137166816414),\n",
       " (1393.0, 2684.3137166816414),\n",
       " (693.0, 2684.3137166816414),\n",
       " (201.0, 311.8069666182874),\n",
       " (429.0, 2684.3137166816414),\n",
       " (361.0, 2684.3137166816414),\n",
       " (669.0, 2684.3137166816414),\n",
       " (702.0, 2684.3137166816414),\n",
       " (674.0, 2684.3137166816414),\n",
       " (760.0, 2684.3137166816414),\n",
       " (860.0, 2684.3137166816414),\n",
       " (757.0, 2684.3137166816414),\n",
       " (907.0, 2684.3137166816414),\n",
       " (781.0, 2684.3137166816414),\n",
       " (934.0, 2684.3137166816414),\n",
       " (1061.0, 2684.3137166816414),\n",
       " (947.0, 2684.3137166816414),\n",
       " (713.0, 2684.3137166816414),\n",
       " (627.0, 2684.3137166816414),\n",
       " (682.0, 2684.3137166816414),\n",
       " (605.0, 2684.3137166816414),\n",
       " (617.0, 2684.3137166816414),\n",
       " (212.0, 311.8069666182874),\n",
       " (525.0, 2684.3137166816414),\n",
       " (521.0, 2684.3137166816414),\n",
       " (821.0, 2684.3137166816414),\n",
       " (1053.0, 2684.3137166816414),\n",
       " (1219.0, 2684.3137166816414),\n",
       " (1265.0, 2684.3137166816414),\n",
       " (1562.0, 2684.3137166816414),\n",
       " (1622.0, 2684.3137166816414),\n",
       " (1694.0, 2684.3137166816414),\n",
       " (1884.0, 2684.3137166816414),\n",
       " (2035.0, 2684.3137166816414),\n",
       " (2225.0, 2684.3137166816414),\n",
       " (1923.0, 2684.3137166816414),\n",
       " (1633.0, 2684.3137166816414),\n",
       " (1373.0, 2684.3137166816414),\n",
       " (1418.0, 2684.3137166816414),\n",
       " (1560.0, 2684.3137166816414),\n",
       " (869.0, 2684.3137166816414),\n",
       " (90.0, 311.8069666182874),\n",
       " (274.0, 2684.3137166816414),\n",
       " (253.0, 2684.3137166816414),\n",
       " (365.0, 2684.3137166816414),\n",
       " (588.0, 2684.3137166816414),\n",
       " (508.0, 2684.3137166816414),\n",
       " (565.0, 2684.3137166816414),\n",
       " (603.0, 2684.3137166816414),\n",
       " (669.0, 2684.3137166816414),\n",
       " (627.0, 2684.3137166816414),\n",
       " (582.0, 2684.3137166816414),\n",
       " (602.0, 2684.3137166816414)]"
      ]
     },
     "execution_count": 42,
     "metadata": {},
     "output_type": "execute_result"
    }
   ],
   "source": [
    "final_true_vs_predicted_dt.take(1000)"
   ]
  },
  {
   "cell_type": "markdown",
   "metadata": {
    "deletable": true,
    "editable": true
   },
   "source": [
    "### 4) Store Model"
   ]
  },
  {
   "cell_type": "code",
   "execution_count": 45,
   "metadata": {
    "collapsed": false,
    "deletable": true,
    "editable": true
   },
   "outputs": [
    {
     "name": "stderr",
     "output_type": "stream",
     "text": [
      "/usr/local/spark/python/pyspark/mllib/regression.py:281: UserWarning: Deprecated in 2.0.0. Use ml.regression.LinearRegression.\n",
      "  warnings.warn(\"Deprecated in 2.0.0. Use ml.regression.LinearRegression.\")\n"
     ]
    }
   ],
   "source": [
    "# 모든 data에 대해 트레이닝 한 모델을 저장하도록 한다.\n",
    "\n",
    "#model saving\n",
    "#model.save(sc, \"target/tmp/scalaLinearRegressionWithSGDModel\")\n",
    "#val sameModel = LinearRegressionModel.load(sc, \"target/tmp/scalaLinearRegressionWithSGDModel\")\n",
    "\n",
    "save_model_dt=DecisionTree.trainRegressor(data_dt, {}, impurity='variance', maxDepth=10, maxBins=128)\n",
    "save_linear_model=LinearRegressionWithSGD.train(data, 1000, 0.01, regParam=0.1, regType='l2', intercept=True)\n",
    "\n",
    "\n",
    "save_model_dt.save(sc, \"/home/csxion/Desktop/project/code/model/model_01_RDD_DecistionTreeModel\")\n",
    "save_linear_model.save(sc, \"/home/csxion/Desktop/project/code/model/model_01_RDD_LinearRegressionModel\")"
   ]
  },
  {
   "cell_type": "markdown",
   "metadata": {
    "deletable": true,
    "editable": true
   },
   "source": [
    "# Conclusion\n",
    "- Normalized하여 입력데이터를 최적화 할 수 있다.\n",
    "- LinearRegression 및 DecisionTree를 활용하여 모델을 학습, 예측할 수 있었다.\n",
    "- 입력값을 많이 조정했음에도 불구하고, 큰 효과를 얻을 수는 없었다.\n",
    "- 1/4분기 데이터에 모델링 된 Model 2개를 local directory에 저장 후, 타 분기 데이터에서 테스트를 실시해보도록 한다.\n",
    "- RDD외 DataFrame를 이용하여 학습도록 한다.\n",
    "- RDD의 다른 모델인 RandomForest, GradientBoostingTree에 대해 학습하기로 한다."
   ]
  },
  {
   "cell_type": "code",
   "execution_count": null,
   "metadata": {
    "collapsed": true,
    "deletable": true,
    "editable": true
   },
   "outputs": [],
   "source": []
  }
 ],
 "metadata": {
  "kernelspec": {
   "display_name": "Python 3",
   "language": "python",
   "name": "python3"
  },
  "language_info": {
   "codemirror_mode": {
    "name": "ipython",
    "version": 3
   },
   "file_extension": ".py",
   "mimetype": "text/x-python",
   "name": "python",
   "nbconvert_exporter": "python",
   "pygments_lexer": "ipython3",
   "version": "3.5.2"
  }
 },
 "nbformat": 4,
 "nbformat_minor": 2
}
