{
 "cells": [
  {
   "cell_type": "markdown",
   "metadata": {
    "deletable": true,
    "editable": true
   },
   "source": [
    "# Regression Model on RDD(v2)\n",
    "## 1) RandomForest\n",
    "## 2) Gradient-Boosted Tree\n",
    "## 3) NaiveBays\n",
    "## 4) Isotonic Regression"
   ]
  },
  {
   "cell_type": "markdown",
   "metadata": {
    "deletable": true,
    "editable": true
   },
   "source": [
    "### 0) Previous Settings"
   ]
  },
  {
   "cell_type": "code",
   "execution_count": 25,
   "metadata": {
    "collapsed": false,
    "deletable": true,
    "editable": true
   },
   "outputs": [],
   "source": [
    "%matplotlib inline\n",
    "\n",
    "import numpy as np\n",
    "from pyspark.mllib.regression import LabeledPoint\n",
    "from pyspark.mllib.linalg import Vectors\n",
    "from pyspark.mllib.tree import RandomForest, RandomForestModel\n",
    "from pyspark.mllib.tree import GradientBoostedTrees, GradientBoostedTreesModel\n",
    "\n",
    "raw_data=sc.textFile(\"/home/csxion/Desktop/project/data/p9_data_11_16_1q_sed.csv\")\n",
    "records=raw_data.map(lambda line:line.split(\",\"))\n",
    "records.first()\n",
    "\n",
    "subway_dict=records.map(lambda r:r[0]).distinct().zipWithIndex().collectAsMap() # distinct 꼭 사용할 것\n",
    "time_dict=records.map(lambda r:r[2]).distinct().zipWithIndex().collectAsMap()\n",
    "#date_dict=records.map(lambda r:r[1]).distinct().zipWithIndex().collectAsMap()\n",
    "\n",
    "# r[0] : subway station name // Category feature => binary vector\n",
    "# r[1] : Date(Not used)\n",
    "# r[2] : Time(5~23) # Category feature => binary vector\n",
    "\n",
    "def check_error_float(data, econd, subt): #data가 equal_cond와 같을때, subt로 치환한다.\n",
    "    if(data==econd):\n",
    "        return subt\n",
    "    else:\n",
    "        return float(data)\n",
    "\n",
    "def extract_features_linear(r): #line별\n",
    "    name_vec=np.zeros(len(subway_dict)) # 역 이름에 대하여 카테고리 특징을 바이너리 벡터 형태로 변환한다.\n",
    "    name_vec[subway_dict[r[0]]]=1\n",
    "    time_vec=np.zeros(len(time_dict)) # 시간 데이터에 대하여(5~23) 카테고리 특징을 바이너리 벡터 형태로 변환한다.\n",
    "    time_vec[time_dict[r[2]]]=1\n",
    "    #numbers=np.array([float(r[i]) for i in range(3,len(r)-1)])\n",
    "    #numbers=np.array([float(e) for e in r[3:]])\n",
    "    for i in range(3,len(r)-1):\n",
    "        r[i]=check_error_float(r[i], \"#N/A\", 0.0)\n",
    "    numbers=np.array([float(d) for d in r[3:len(r)-1]])\n",
    "    return np.concatenate((name_vec, time_vec, numbers)) # 역 + 시간 + 특징벡터 값으로 구성되는 numpy.array를 반환한다.\n",
    "#flatMap을 사용할 필요가 없음\n",
    "\n",
    "def extract_label(r):\n",
    "    return float(r[len(r)-1]) # int는 소문자로 지정해야 함\n",
    "#float\n",
    "\n",
    "def extract_features_dt(r): # dt모델에 적용할 특징벡터를 추출하는 함수. 여기서는 바이너리 벡터를 생성하지 않는다.\n",
    "    name=float(subway_dict[r[0]])\n",
    "    time=float(time_dict[r[2]])\n",
    "    for i in range(3,len(r)-1):\n",
    "        r[i]=check_error_float(r[i], \"#N/A\", 0.0)\n",
    "    numbers=np.array([float(d) for d in r[3:len(r)-1]])\n",
    "    return np.concatenate((np.array([name, time]), numbers))\n",
    "\n",
    "# np.concatenate 함수는 꼭 이중괄호를 해주어야 index 에러가 나지 않는다.\n",
    "# extract_label 함수의 경우 linearRegression Model과 DecisionTree 모두 동일하게 사용한다\n",
    "\n",
    "def squared_error(actual, pred):\n",
    "    return (actual-pred)**2\n",
    "def abs_error(actual,pred):\n",
    "    return np.abs(actual-pred)\n",
    "def squared_log_error(actual, pred):\n",
    "    return (np.log(pred+1)-np.log(actual+1))**2"
   ]
  },
  {
   "cell_type": "code",
   "execution_count": 2,
   "metadata": {
    "collapsed": false,
    "deletable": true,
    "editable": true
   },
   "outputs": [
    {
     "data": {
      "text/plain": [
       "<bound method RDD.cache of PythonRDD[15] at RDD at PythonRDD.scala:48>"
      ]
     },
     "execution_count": 2,
     "metadata": {},
     "output_type": "execute_result"
    }
   ],
   "source": [
    "#data=records.map(lambda r:LabeledPoint(extract_label(r), Vectors.dense(np.array(extract_features_linear(r)))))\n",
    "#data.cache\n",
    "data_dt=records.map(lambda r:LabeledPoint(extract_label(r), Vectors.dense(np.array(extract_features_dt(r)))))\n",
    "data_dt.cache\n",
    "\n",
    "(train_data_dt, test_data_dt) = data_dt.randomSplit([0.7, 0.3]) #training Data와 Test Data를 7 : 3의 비율로 나눈다\n",
    "train_data_dt.cache\n",
    "test_data_dt.cache"
   ]
  },
  {
   "cell_type": "code",
   "execution_count": 3,
   "metadata": {
    "collapsed": false,
    "deletable": true,
    "editable": true
   },
   "outputs": [
    {
     "data": {
      "text/plain": [
       "LabeledPoint(78.0, [39.0,12.0,0.077606673,0.420556606,0.414592146,0.820293973,0.553426589,0.549782942,0.99369488])"
      ]
     },
     "execution_count": 3,
     "metadata": {},
     "output_type": "execute_result"
    }
   ],
   "source": [
    "data_dt.first()"
   ]
  },
  {
   "cell_type": "code",
   "execution_count": 16,
   "metadata": {
    "collapsed": false,
    "deletable": true,
    "editable": true
   },
   "outputs": [
    {
     "data": {
      "text/plain": [
       "'\\ndef evaluate(train, test, iterations, step, regParam, regType, intercept):\\n    model=LinearRegressionWithSGD.train(train, iterations, step, regParam=regParam, regType=regType, intercept=intercept)\\n    tp=test.map(lambda p:(p.label, model.predict(p.features)))\\n    rmsle=np.sqrt(tp.map(lambda p:squared_log_error(p[0], p[1])).mean())\\n    return rmsle\\n'"
      ]
     },
     "execution_count": 16,
     "metadata": {},
     "output_type": "execute_result"
    }
   ],
   "source": [
    "#LinearRegression 모델 테스트 메소드\n",
    "\"\"\"\n",
    "def evaluate(train, test, iterations, step, regParam, regType, intercept):\n",
    "    model=LinearRegressionWithSGD.train(train, iterations, step, regParam=regParam, regType=regType, intercept=intercept)\n",
    "    tp=test.map(lambda p:(p.label, model.predict(p.features)))\n",
    "    rmsle=np.sqrt(tp.map(lambda p:squared_log_error(p[0], p[1])).mean())\n",
    "    return rmsle\n",
    "\"\"\""
   ]
  },
  {
   "cell_type": "markdown",
   "metadata": {
    "deletable": true,
    "editable": true
   },
   "source": [
    "## 1) RandomForest Model based RDD\n",
    "- 임의성(randomness)에 의해 서로 조금씩 다른 특성을 갖는 트리들로 구성\n",
    "- 부트스트랩 샘플에 임의성을 더함\n",
    "- 랜덤포레스트를 사용하게 되면 더 이상 어떤 과정을 통해 예측이 이뤄지는 지 알 수 없음(DT에서는 확인 가능)\n",
    "- 여러 개의 의사결정트리를 만들고, 투표를 시켜 다수결로 결과를 확인\n",
    "\n",
    "##### Bagging(Bootstrap Aggregation)\n",
    "- Bagging은 Bias-Variance trade off 를 해결하기 위한 방법\n",
    "- 전체 데이터를 전부 이용해서 학습시키는 것이 아니라 샘플의 결과물을 각 트리의 입력 값으로 넣어 학습\n",
    "- (Bias : 예측의 정확도, Variance : 예측의 정확도가 들쭉날쭉하는 정도. 한쪽이 높아지면 한쪽이 낮아지는 관계)\n",
    "- 데이터셋에서 랜덤하게 부분데이터를 뽑아 여러개의 데이터 subset으로 bias를 decision tree의 평균값으로 유지하면서도 variance를 줄이는 방법\n",
    "\n",
    "##### Variable Randomize(Ensemble Learning)\n",
    "- 파티션을 나눌 때 변수에 랜덤성을 부여\n",
    "- 남아있는 모든 변수 중에서 최적의 변수를 선택하는 것이 아니라 변수 중 일부만 선택하고 그 일부 중에서 최적의 변수를 선택\n",
    "\n",
    "\n",
    "\n",
    "[참고] Mycloud http://swalloow.tistory.com/92\n",
    "[참고] 위키백과 https://ko.wikipedia.org/wiki/%EB%9E%9C%EB%8D%A4_%ED%8F%AC%EB%A0%88%EC%8A%A4%ED%8A%B8"
   ]
  },
  {
   "cell_type": "markdown",
   "metadata": {
    "deletable": true,
    "editable": true
   },
   "source": [
    "##### .trainRegressor(data, categoricalFeaturesInfo, numTrees, featureSubsetStrategy='auto', impurity='variance', maxDepth=4, maxBins=32, seed=None)[source]\n",
    "##### Parameters:\t\n",
    "* data – Training dataset: RDD of LabeledPoint. Labels are real numbers.\n",
    "* categoricalFeaturesInfo – Map storing arity of categorical features. An entry (n -> k) indicates that feature n is categorical with k categories indexed from 0: {0, 1, ..., k-1}.\n",
    "* numTrees – Number of trees in the random forest.\n",
    "* featureSubsetStrategy – Number of features to consider for splits at each node. Supported values: “auto”, “all”, “sqrt”, “log2”, “onethird”. If “auto” is set, this parameter is set based on numTrees: if numTrees == 1, set to “all”; if numTrees > 1 (forest) set to “onethird” for regression. (default: “auto”)\n",
    "* impurity – Criterion used for information gain calculation. The only supported value for regression is “variance”. (default: “variance”)\n",
    "* maxDepth – Maximum depth of tree (e.g. depth 0 means 1 leaf node, depth 1 means 1 internal node + 2 leaf nodes). (default: 4)\n",
    "* maxBins – Maximum number of bins used for splitting features. (default: 32)\n",
    "* seed – Random seed for bootstrapping and choosing feature subsets. Set as None to generate seed based on system time. (default: None)"
   ]
  },
  {
   "cell_type": "markdown",
   "metadata": {
    "deletable": true,
    "editable": true
   },
   "source": [
    "### 1-1) RandomForest Test code"
   ]
  },
  {
   "cell_type": "code",
   "execution_count": 17,
   "metadata": {
    "collapsed": true,
    "deletable": true,
    "editable": true
   },
   "outputs": [
    {
     "name": "stdout",
     "output_type": "stream",
     "text": [
      "Test Mean Squared Error = 6671220.357082351\n",
      "Learned regression forest model:\n",
      "TreeEnsembleModel regressor with 3 trees\n",
      "\n",
      "  Tree 0:\n",
      "    If (feature 44 <= 0.0)\n",
      "     If (feature 121 <= 0.0)\n",
      "      If (feature 122 <= 0.0)\n",
      "       If (feature 58 <= 0.0)\n",
      "        Predict: 2693.6871696873786\n",
      "       Else (feature 58 > 0.0)\n",
      "        Predict: 7738.7865771812085\n",
      "      Else (feature 122 > 0.0)\n",
      "       If (feature 15 <= 0.0)\n",
      "        Predict: 334.51809742359444\n",
      "       Else (feature 15 > 0.0)\n",
      "        Predict: 1624.6451612903227\n",
      "     Else (feature 121 > 0.0)\n",
      "      If (feature 53 <= 0.0)\n",
      "       If (feature 58 <= 0.0)\n",
      "        Predict: 4768.405135951662\n",
      "       Else (feature 58 > 0.0)\n",
      "        Predict: 15172.569892473119\n",
      "      Else (feature 53 > 0.0)\n",
      "       If (feature 132 <= 0.817630849)\n",
      "        Predict: 20259.38\n",
      "       Else (feature 132 > 0.817630849)\n",
      "        Predict: 10309.25\n",
      "    Else (feature 44 > 0.0)\n",
      "     If (feature 122 <= 0.0)\n",
      "      If (feature 127 <= 0.0)\n",
      "       If (feature 123 <= 0.0)\n",
      "        Predict: 9319.033678756477\n",
      "       Else (feature 123 > 0.0)\n",
      "        Predict: 3508.5421686746986\n",
      "      Else (feature 127 > 0.0)\n",
      "       If (feature 133 <= 0.515705252)\n",
      "        Predict: 3614.8155339805826\n",
      "       Else (feature 133 > 0.515705252)\n",
      "        Predict: 1398.75\n",
      "     Else (feature 122 > 0.0)\n",
      "      If (feature 132 <= 0.110127756)\n",
      "       If (feature 134 <= 0.033534765)\n",
      "        Predict: 838.8\n",
      "       Else (feature 134 > 0.033534765)\n",
      "        Predict: 735.2647058823529\n",
      "      Else (feature 132 > 0.110127756)\n",
      "       If (feature 134 <= 0.084540655)\n",
      "        Predict: 336.0\n",
      "       Else (feature 134 > 0.084540655)\n",
      "        Predict: 648.5272727272727\n",
      "  Tree 1:\n",
      "    If (feature 58 <= 0.0)\n",
      "     If (feature 122 <= 0.0)\n",
      "      If (feature 53 <= 0.0)\n",
      "       If (feature 49 <= 0.0)\n",
      "        Predict: 2739.62866955831\n",
      "       Else (feature 49 > 0.0)\n",
      "        Predict: 8180.4490543014035\n",
      "      Else (feature 53 > 0.0)\n",
      "       If (feature 127 <= 0.0)\n",
      "        Predict: 11660.01811125485\n",
      "       Else (feature 127 > 0.0)\n",
      "        Predict: 2843.181818181818\n",
      "     Else (feature 122 > 0.0)\n",
      "      If (feature 13 <= 0.0)\n",
      "       If (feature 15 <= 0.0)\n",
      "        Predict: 325.6370754525117\n",
      "       Else (feature 15 > 0.0)\n",
      "        Predict: 1654.0235294117647\n",
      "      Else (feature 13 > 0.0)\n",
      "       If (feature 131 <= 0.307631893)\n",
      "        Predict: 1676.1041666666667\n",
      "       Else (feature 131 > 0.307631893)\n",
      "        Predict: 1384.2\n",
      "    Else (feature 58 > 0.0)\n",
      "     If (feature 127 <= 0.0)\n",
      "      If (feature 122 <= 0.0)\n",
      "       If (feature 123 <= 0.0)\n",
      "        Predict: 8921.01171605789\n",
      "       Else (feature 123 > 0.0)\n",
      "        Predict: 3013.5714285714284\n",
      "      Else (feature 122 > 0.0)\n",
      "       If (feature 132 <= 0.101593689)\n",
      "        Predict: 916.9333333333333\n",
      "       Else (feature 132 > 0.101593689)\n",
      "        Predict: 766.9347826086956\n",
      "     Else (feature 127 > 0.0)\n",
      "      If (feature 130 <= 0.420556606)\n",
      "       If (feature 133 <= 0.515705252)\n",
      "        Predict: 2776.730769230769\n",
      "       Else (feature 133 > 0.515705252)\n",
      "        Predict: 1769.0\n",
      "      Else (feature 130 > 0.420556606)\n",
      "       If (feature 132 <= 0.110127756)\n",
      "        Predict: 1965.5\n",
      "       Else (feature 132 > 0.110127756)\n",
      "        Predict: 1256.0\n",
      "  Tree 2:\n",
      "    If (feature 22 <= 0.0)\n",
      "     If (feature 9 <= 0.0)\n",
      "      If (feature 49 <= 0.0)\n",
      "       If (feature 44 <= 0.0)\n",
      "        Predict: 2606.9728227941378\n",
      "       Else (feature 44 > 0.0)\n",
      "        Predict: 8224.612810155799\n",
      "      Else (feature 49 > 0.0)\n",
      "       If (feature 122 <= 0.0)\n",
      "        Predict: 8177.437463641652\n",
      "       Else (feature 122 > 0.0)\n",
      "        Predict: 928.0405405405405\n",
      "     Else (feature 9 > 0.0)\n",
      "      If (feature 118 <= 0.0)\n",
      "       If (feature 133 <= 0.515705252)\n",
      "        Predict: 6146.481222151496\n",
      "       Else (feature 133 > 0.515705252)\n",
      "        Predict: 2984.4897959183672\n",
      "      Else (feature 118 > 0.0)\n",
      "       If (feature 134 <= 0.527654039)\n",
      "        Predict: 16078.066666666668\n",
      "       Else (feature 134 > 0.527654039)\n",
      "        Predict: 2044.0\n",
      "    Else (feature 22 > 0.0)\n",
      "     If (feature 121 <= 0.0)\n",
      "      If (feature 122 <= 0.0)\n",
      "       If (feature 127 <= 0.0)\n",
      "        Predict: 8447.050881953866\n",
      "       Else (feature 127 > 0.0)\n",
      "        Predict: 1835.3068181818182\n",
      "      Else (feature 122 > 0.0)\n",
      "       If (feature 132 <= 0.817630849)\n",
      "        Predict: 1392.3406593406594\n",
      "       Else (feature 132 > 0.817630849)\n",
      "        Predict: 3195.3333333333335\n",
      "     Else (feature 121 > 0.0)\n",
      "      If (feature 133 <= 0.092798879)\n",
      "       If (feature 132 <= 0.034993393)\n",
      "        Predict: 13227.0\n",
      "       Else (feature 132 > 0.034993393)\n",
      "        Predict: 16553.242424242424\n",
      "      Else (feature 133 > 0.092798879)\n",
      "       If (feature 129 <= 0.137022617)\n",
      "        Predict: 15312.307692307691\n",
      "       Else (feature 129 > 0.137022617)\n",
      "        Predict: 12008.666666666666\n",
      "\n"
     ]
    }
   ],
   "source": [
    "# http://spark.apache.org/docs/latest/api/python/pyspark.mllib.html#pyspark.mllib.tree.RandomForest\n",
    "\n",
    "\n",
    "# Train a RandomForest model.\n",
    "#  Empty categoricalFeaturesInfo indicates all features are continuous.\n",
    "#  Note: Use larger numTrees in practice.\n",
    "#  Setting featureSubsetStrategy=\"auto\" lets the algorithm choose.\n",
    "model = RandomForest.trainRegressor(data_, categoricalFeaturesInfo={},\n",
    "                                    numTrees=3, featureSubsetStrategy=\"auto\",\n",
    "                                    impurity='variance', maxDepth=4, maxBins=32)\n",
    "\n",
    "# Evaluate model on test instances and compute test error\n",
    "predictions = model.predict(data.map(lambda x: x.features))\n",
    "labelsAndPredictions = data.map(lambda lp: lp.label).zip(predictions)\n",
    "testMSE = labelsAndPredictions.map(lambda p: (p[0] - p[1]) * (p[0] - p[1])).sum() /\\\n",
    "float(data.count())\n",
    "print('Test Mean Squared Error = ' + str(testMSE))\n",
    "print('Learned regression forest model:')\n",
    "print(model.toDebugString()) # 새로운걸 확인할 수 있었음\n",
    "\n",
    "# Save and load model\n",
    "##model.save(sc, \"target/tmp/myRandomForestRegressionModel\")\n",
    "##sameModel = RandomForestModel.load(sc, \"target/tmp/myRandomForestRegressionModel\")\n"
   ]
  },
  {
   "cell_type": "markdown",
   "metadata": {
    "deletable": true,
    "editable": true
   },
   "source": [
    "### 1-2) Optimization of RandomForest Model"
   ]
  },
  {
   "cell_type": "code",
   "execution_count": 4,
   "metadata": {
    "collapsed": true,
    "deletable": true,
    "editable": true
   },
   "outputs": [],
   "source": [
    "# RandomForest 모델 테스트 메소드\n",
    "def evaluate_rf(train, test, numTrees, maxDepth, maxBins):\n",
    "    model=RandomForest.trainRegressor(train, categoricalFeaturesInfo={}, numTrees=numTrees, featureSubsetStrategy=\"auto\",\n",
    "                                    impurity='variance', maxDepth=maxDepth, maxBins=maxBins)\n",
    "    preds=model.predict(test.map(lambda p:p.features))\n",
    "    actual=test.map(lambda p:p.label)\n",
    "    tp=actual.zip(preds)\n",
    "    rmse=np.sqrt(tp.map(lambda p:squared_error(p[0], p[1])).mean())\n",
    "    return rmse"
   ]
  },
  {
   "cell_type": "code",
   "execution_count": 5,
   "metadata": {
    "collapsed": false,
    "deletable": true,
    "editable": true
   },
   "outputs": [
    {
     "name": "stdout",
     "output_type": "stream",
     "text": [
      "[3, 5, 10, 20, 30]\n",
      "[2715.1810801667884, 2737.8275090297693, 2669.7713359638915, 2675.7397648624528, 2692.5300754937862]\n"
     ]
    },
    {
     "data": {
      "image/png": "[encoded data removed]",
      "text/plain": [
       "<matplotlib.figure.Figure at 0x7f4e81be05c0>"
      ]
     },
     "metadata": {},
     "output_type": "display_data"
    }
   ],
   "source": [
    "#numTree에 대한 관계 예측하기\n",
    "params=[3,5,10,20,30]\n",
    "metrics=[evaluate_rf(train_data_dt, test_data_dt, param, 4, 32) for param in params]\n",
    "print(params)\n",
    "print(metrics)\n",
    "plot(params, metrics)\n",
    "fig=matplotlib.pyplot.gcf()\n",
    "\n",
    "#실제로 data와 data_dt의 최적 결과값은 다르다. data를 대상으로 진행하였을때, optimized numTree=30"
   ]
  },
  {
   "cell_type": "markdown",
   "metadata": {
    "deletable": true,
    "editable": true
   },
   "source": [
    "##### ∴ Optimized Value 'numTree' is 10"
   ]
  },
  {
   "cell_type": "code",
   "execution_count": 5,
   "metadata": {
    "collapsed": false,
    "deletable": true,
    "editable": true
   },
   "outputs": [
    {
     "name": "stdout",
     "output_type": "stream",
     "text": [
      "[2, 4, 5, 10, 20, 30]\n",
      "[2830.2169679744925, 2766.6425647269543, 2725.9055924566364, 2455.0767508483677, 2454.5624745390442, 2414.2786082853972]\n"
     ]
    },
    {
     "data": {
      "image/png": "[encoded data removed]",
      "text/plain": [
       "<matplotlib.figure.Figure at 0x7f4b24129cf8>"
      ]
     },
     "metadata": {},
     "output_type": "display_data"
    }
   ],
   "source": [
    "#maxDepth에 대한 관계 확인하기\n",
    "\n",
    "params=[2,4,5,10,20,30] # 계속 줄어드는 그래프, 반등이 일어나지 않음. 값을 키우도록 한다.\n",
    "##params=[10, 20,50, 100, 200]\n",
    "##requirement failed: DecisionTree currently only supports maxDepth <= 30\n",
    "\n",
    "metrics=[evaluate_rf(train_data_dt, test_data_dt, 10, param, 32) for param in params]\n",
    "print(params)\n",
    "print(metrics)\n",
    "plot(params, metrics)\n",
    "fig=matplotlib.pyplot.gcf()"
   ]
  },
  {
   "cell_type": "markdown",
   "metadata": {
    "deletable": true,
    "editable": true
   },
   "source": [
    "##### ∴ Optimized Value 'maxDepth' is 30 | 10"
   ]
  },
  {
   "cell_type": "code",
   "execution_count": 6,
   "metadata": {
    "collapsed": true,
    "deletable": true,
    "editable": true
   },
   "outputs": [
    {
     "ename": "Py4JJavaError",
     "evalue": "An error occurred while calling o544.trainRandomForestModel.\n: org.apache.spark.SparkException: Job aborted due to stage failure: Task 1 in stage 371.0 failed 1 times, most recent failure: Lost task 1.0 in stage 371.0 (TID 719, localhost): ExecutorLostFailure (executor driver exited caused by one of the running tasks) Reason: Executor heartbeat timed out after 234804 ms\nDriver stacktrace:\n\tat org.apache.spark.scheduler.DAGScheduler.org$apache$spark$scheduler$DAGScheduler$$failJobAndIndependentStages(DAGScheduler.scala:1454)\n\tat org.apache.spark.scheduler.DAGScheduler$$anonfun$abortStage$1.apply(DAGScheduler.scala:1442)\n\tat org.apache.spark.scheduler.DAGScheduler$$anonfun$abortStage$1.apply(DAGScheduler.scala:1441)\n\tat scala.collection.mutable.ResizableArray$class.foreach(ResizableArray.scala:59)\n\tat scala.collection.mutable.ArrayBuffer.foreach(ArrayBuffer.scala:48)\n\tat org.apache.spark.scheduler.DAGScheduler.abortStage(DAGScheduler.scala:1441)\n\tat org.apache.spark.scheduler.DAGScheduler$$anonfun$handleTaskSetFailed$1.apply(DAGScheduler.scala:811)\n\tat org.apache.spark.scheduler.DAGScheduler$$anonfun$handleTaskSetFailed$1.apply(DAGScheduler.scala:811)\n\tat scala.Option.foreach(Option.scala:257)\n\tat org.apache.spark.scheduler.DAGScheduler.handleTaskSetFailed(DAGScheduler.scala:811)\n\tat org.apache.spark.scheduler.DAGSchedulerEventProcessLoop.doOnReceive(DAGScheduler.scala:1667)\n\tat org.apache.spark.scheduler.DAGSchedulerEventProcessLoop.onReceive(DAGScheduler.scala:1622)\n\tat org.apache.spark.scheduler.DAGSchedulerEventProcessLoop.onReceive(DAGScheduler.scala:1611)\n\tat org.apache.spark.util.EventLoop$$anon$1.run(EventLoop.scala:48)\n\tat org.apache.spark.scheduler.DAGScheduler.runJob(DAGScheduler.scala:632)\n\tat org.apache.spark.SparkContext.runJob(SparkContext.scala:1890)\n\tat org.apache.spark.SparkContext.runJob(SparkContext.scala:1903)\n\tat org.apache.spark.SparkContext.runJob(SparkContext.scala:1916)\n\tat org.apache.spark.SparkContext.runJob(SparkContext.scala:1930)\n\tat org.apache.spark.rdd.RDD$$anonfun$collect$1.apply(RDD.scala:912)\n\tat org.apache.spark.rdd.RDDOperationScope$.withScope(RDDOperationScope.scala:151)\n\tat org.apache.spark.rdd.RDDOperationScope$.withScope(RDDOperationScope.scala:112)\n\tat org.apache.spark.rdd.RDD.withScope(RDD.scala:358)\n\tat org.apache.spark.rdd.RDD.collect(RDD.scala:911)\n\tat org.apache.spark.rdd.PairRDDFunctions$$anonfun$collectAsMap$1.apply(PairRDDFunctions.scala:745)\n\tat org.apache.spark.rdd.PairRDDFunctions$$anonfun$collectAsMap$1.apply(PairRDDFunctions.scala:744)\n\tat org.apache.spark.rdd.RDDOperationScope$.withScope(RDDOperationScope.scala:151)\n\tat org.apache.spark.rdd.RDDOperationScope$.withScope(RDDOperationScope.scala:112)\n\tat org.apache.spark.rdd.RDD.withScope(RDD.scala:358)\n\tat org.apache.spark.rdd.PairRDDFunctions.collectAsMap(PairRDDFunctions.scala:744)\n\tat org.apache.spark.ml.tree.impl.RandomForest$.findBestSplits(RandomForest.scala:550)\n\tat org.apache.spark.ml.tree.impl.RandomForest$.run(RandomForest.scala:187)\n\tat org.apache.spark.mllib.tree.RandomForest.run(RandomForest.scala:93)\n\tat org.apache.spark.mllib.tree.RandomForest$.trainRegressor(RandomForest.scala:217)\n\tat org.apache.spark.mllib.api.python.PythonMLLibAPI.trainRandomForestModel(PythonMLLibAPI.scala:770)\n\tat sun.reflect.NativeMethodAccessorImpl.invoke0(Native Method)\n\tat sun.reflect.NativeMethodAccessorImpl.invoke(NativeMethodAccessorImpl.java:62)\n\tat sun.reflect.DelegatingMethodAccessorImpl.invoke(DelegatingMethodAccessorImpl.java:43)\n\tat java.lang.reflect.Method.invoke(Method.java:498)\n\tat py4j.reflection.MethodInvoker.invoke(MethodInvoker.java:237)\n\tat py4j.reflection.ReflectionEngine.invoke(ReflectionEngine.java:357)\n\tat py4j.Gateway.invoke(Gateway.java:280)\n\tat py4j.commands.AbstractCommand.invokeMethod(AbstractCommand.java:132)\n\tat py4j.commands.CallCommand.execute(CallCommand.java:79)\n\tat py4j.GatewayConnection.run(GatewayConnection.java:214)\n\tat java.lang.Thread.run(Thread.java:745)\n",
     "output_type": "error",
     "traceback": [
      "\u001b[0;31m---------------------------------------------------------------------------\u001b[0m",
      "\u001b[0;31mPy4JJavaError\u001b[0m                             Traceback (most recent call last)",
      "\u001b[0;32m<ipython-input-6-08c4cfcc8a5c>\u001b[0m in \u001b[0;36m<module>\u001b[0;34m()\u001b[0m\n\u001b[1;32m      2\u001b[0m \u001b[0;34m\u001b[0m\u001b[0m\n\u001b[1;32m      3\u001b[0m \u001b[0mparams\u001b[0m\u001b[0;34m=\u001b[0m\u001b[0;34m[\u001b[0m\u001b[0;36m20\u001b[0m\u001b[0;34m,\u001b[0m\u001b[0;36m32\u001b[0m\u001b[0;34m,\u001b[0m \u001b[0;36m50\u001b[0m\u001b[0;34m,\u001b[0m \u001b[0;36m64\u001b[0m\u001b[0;34m,\u001b[0m \u001b[0;36m128\u001b[0m\u001b[0;34m]\u001b[0m\u001b[0;34m\u001b[0m\u001b[0m\n\u001b[0;32m----> 4\u001b[0;31m \u001b[0mmetrics\u001b[0m\u001b[0;34m=\u001b[0m\u001b[0;34m[\u001b[0m\u001b[0mevaluate_rf\u001b[0m\u001b[0;34m(\u001b[0m\u001b[0mtrain_data_dt\u001b[0m\u001b[0;34m,\u001b[0m \u001b[0mtest_data_dt\u001b[0m\u001b[0;34m,\u001b[0m \u001b[0;36m10\u001b[0m\u001b[0;34m,\u001b[0m \u001b[0;36m30\u001b[0m\u001b[0;34m,\u001b[0m \u001b[0mparam\u001b[0m\u001b[0;34m)\u001b[0m \u001b[0;32mfor\u001b[0m \u001b[0mparam\u001b[0m \u001b[0;32min\u001b[0m \u001b[0mparams\u001b[0m\u001b[0;34m]\u001b[0m\u001b[0;34m\u001b[0m\u001b[0m\n\u001b[0m\u001b[1;32m      5\u001b[0m \u001b[0mprint\u001b[0m\u001b[0;34m(\u001b[0m\u001b[0mparams\u001b[0m\u001b[0;34m)\u001b[0m\u001b[0;34m\u001b[0m\u001b[0m\n\u001b[1;32m      6\u001b[0m \u001b[0mprint\u001b[0m\u001b[0;34m(\u001b[0m\u001b[0mmetrics\u001b[0m\u001b[0;34m)\u001b[0m\u001b[0;34m\u001b[0m\u001b[0m\n",
      "\u001b[0;32m<ipython-input-6-08c4cfcc8a5c>\u001b[0m in \u001b[0;36m<listcomp>\u001b[0;34m(.0)\u001b[0m\n\u001b[1;32m      2\u001b[0m \u001b[0;34m\u001b[0m\u001b[0m\n\u001b[1;32m      3\u001b[0m \u001b[0mparams\u001b[0m\u001b[0;34m=\u001b[0m\u001b[0;34m[\u001b[0m\u001b[0;36m20\u001b[0m\u001b[0;34m,\u001b[0m\u001b[0;36m32\u001b[0m\u001b[0;34m,\u001b[0m \u001b[0;36m50\u001b[0m\u001b[0;34m,\u001b[0m \u001b[0;36m64\u001b[0m\u001b[0;34m,\u001b[0m \u001b[0;36m128\u001b[0m\u001b[0;34m]\u001b[0m\u001b[0;34m\u001b[0m\u001b[0m\n\u001b[0;32m----> 4\u001b[0;31m \u001b[0mmetrics\u001b[0m\u001b[0;34m=\u001b[0m\u001b[0;34m[\u001b[0m\u001b[0mevaluate_rf\u001b[0m\u001b[0;34m(\u001b[0m\u001b[0mtrain_data_dt\u001b[0m\u001b[0;34m,\u001b[0m \u001b[0mtest_data_dt\u001b[0m\u001b[0;34m,\u001b[0m \u001b[0;36m10\u001b[0m\u001b[0;34m,\u001b[0m \u001b[0;36m30\u001b[0m\u001b[0;34m,\u001b[0m \u001b[0mparam\u001b[0m\u001b[0;34m)\u001b[0m \u001b[0;32mfor\u001b[0m \u001b[0mparam\u001b[0m \u001b[0;32min\u001b[0m \u001b[0mparams\u001b[0m\u001b[0;34m]\u001b[0m\u001b[0;34m\u001b[0m\u001b[0m\n\u001b[0m\u001b[1;32m      5\u001b[0m \u001b[0mprint\u001b[0m\u001b[0;34m(\u001b[0m\u001b[0mparams\u001b[0m\u001b[0;34m)\u001b[0m\u001b[0;34m\u001b[0m\u001b[0m\n\u001b[1;32m      6\u001b[0m \u001b[0mprint\u001b[0m\u001b[0;34m(\u001b[0m\u001b[0mmetrics\u001b[0m\u001b[0;34m)\u001b[0m\u001b[0;34m\u001b[0m\u001b[0m\n",
      "\u001b[0;32m<ipython-input-4-13cb4d3bb516>\u001b[0m in \u001b[0;36mevaluate_rf\u001b[0;34m(train, test, numTrees, maxDepth, maxBins)\u001b[0m\n\u001b[1;32m      2\u001b[0m \u001b[0;32mdef\u001b[0m \u001b[0mevaluate_rf\u001b[0m\u001b[0;34m(\u001b[0m\u001b[0mtrain\u001b[0m\u001b[0;34m,\u001b[0m \u001b[0mtest\u001b[0m\u001b[0;34m,\u001b[0m \u001b[0mnumTrees\u001b[0m\u001b[0;34m,\u001b[0m \u001b[0mmaxDepth\u001b[0m\u001b[0;34m,\u001b[0m \u001b[0mmaxBins\u001b[0m\u001b[0;34m)\u001b[0m\u001b[0;34m:\u001b[0m\u001b[0;34m\u001b[0m\u001b[0m\n\u001b[1;32m      3\u001b[0m     model=RandomForest.trainRegressor(train, categoricalFeaturesInfo={}, numTrees=numTrees, featureSubsetStrategy=\"auto\",\n\u001b[0;32m----> 4\u001b[0;31m                                     impurity='variance', maxDepth=maxDepth, maxBins=maxBins)\n\u001b[0m\u001b[1;32m      5\u001b[0m     \u001b[0mpreds\u001b[0m\u001b[0;34m=\u001b[0m\u001b[0mmodel\u001b[0m\u001b[0;34m.\u001b[0m\u001b[0mpredict\u001b[0m\u001b[0;34m(\u001b[0m\u001b[0mtest\u001b[0m\u001b[0;34m.\u001b[0m\u001b[0mmap\u001b[0m\u001b[0;34m(\u001b[0m\u001b[0;32mlambda\u001b[0m \u001b[0mp\u001b[0m\u001b[0;34m:\u001b[0m\u001b[0mp\u001b[0m\u001b[0;34m.\u001b[0m\u001b[0mfeatures\u001b[0m\u001b[0;34m)\u001b[0m\u001b[0;34m)\u001b[0m\u001b[0;34m\u001b[0m\u001b[0m\n\u001b[1;32m      6\u001b[0m     \u001b[0mactual\u001b[0m\u001b[0;34m=\u001b[0m\u001b[0mtest\u001b[0m\u001b[0;34m.\u001b[0m\u001b[0mmap\u001b[0m\u001b[0;34m(\u001b[0m\u001b[0;32mlambda\u001b[0m \u001b[0mp\u001b[0m\u001b[0;34m:\u001b[0m\u001b[0mp\u001b[0m\u001b[0;34m.\u001b[0m\u001b[0mlabel\u001b[0m\u001b[0;34m)\u001b[0m\u001b[0;34m\u001b[0m\u001b[0m\n",
      "\u001b[0;32m/usr/local/spark/python/pyspark/mllib/tree.py\u001b[0m in \u001b[0;36mtrainRegressor\u001b[0;34m(cls, data, categoricalFeaturesInfo, numTrees, featureSubsetStrategy, impurity, maxDepth, maxBins, seed)\u001b[0m\n\u001b[1;32m    473\u001b[0m         \"\"\"\n\u001b[1;32m    474\u001b[0m         return cls._train(data, \"regression\", 0, categoricalFeaturesInfo, numTrees,\n\u001b[0;32m--> 475\u001b[0;31m                           featureSubsetStrategy, impurity, maxDepth, maxBins, seed)\n\u001b[0m\u001b[1;32m    476\u001b[0m \u001b[0;34m\u001b[0m\u001b[0m\n\u001b[1;32m    477\u001b[0m \u001b[0;34m\u001b[0m\u001b[0m\n",
      "\u001b[0;32m/usr/local/spark/python/pyspark/mllib/tree.py\u001b[0m in \u001b[0;36m_train\u001b[0;34m(cls, data, algo, numClasses, categoricalFeaturesInfo, numTrees, featureSubsetStrategy, impurity, maxDepth, maxBins, seed)\u001b[0m\n\u001b[1;32m    311\u001b[0m         model = callMLlibFunc(\"trainRandomForestModel\", data, algo, numClasses,\n\u001b[1;32m    312\u001b[0m                               \u001b[0mcategoricalFeaturesInfo\u001b[0m\u001b[0;34m,\u001b[0m \u001b[0mnumTrees\u001b[0m\u001b[0;34m,\u001b[0m \u001b[0mfeatureSubsetStrategy\u001b[0m\u001b[0;34m,\u001b[0m \u001b[0mimpurity\u001b[0m\u001b[0;34m,\u001b[0m\u001b[0;34m\u001b[0m\u001b[0m\n\u001b[0;32m--> 313\u001b[0;31m                               maxDepth, maxBins, seed)\n\u001b[0m\u001b[1;32m    314\u001b[0m         \u001b[0;32mreturn\u001b[0m \u001b[0mRandomForestModel\u001b[0m\u001b[0;34m(\u001b[0m\u001b[0mmodel\u001b[0m\u001b[0;34m)\u001b[0m\u001b[0;34m\u001b[0m\u001b[0m\n\u001b[1;32m    315\u001b[0m \u001b[0;34m\u001b[0m\u001b[0m\n",
      "\u001b[0;32m/usr/local/spark/python/pyspark/mllib/common.py\u001b[0m in \u001b[0;36mcallMLlibFunc\u001b[0;34m(name, *args)\u001b[0m\n\u001b[1;32m    128\u001b[0m     \u001b[0msc\u001b[0m \u001b[0;34m=\u001b[0m \u001b[0mSparkContext\u001b[0m\u001b[0;34m.\u001b[0m\u001b[0mgetOrCreate\u001b[0m\u001b[0;34m(\u001b[0m\u001b[0;34m)\u001b[0m\u001b[0;34m\u001b[0m\u001b[0m\n\u001b[1;32m    129\u001b[0m     \u001b[0mapi\u001b[0m \u001b[0;34m=\u001b[0m \u001b[0mgetattr\u001b[0m\u001b[0;34m(\u001b[0m\u001b[0msc\u001b[0m\u001b[0;34m.\u001b[0m\u001b[0m_jvm\u001b[0m\u001b[0;34m.\u001b[0m\u001b[0mPythonMLLibAPI\u001b[0m\u001b[0;34m(\u001b[0m\u001b[0;34m)\u001b[0m\u001b[0;34m,\u001b[0m \u001b[0mname\u001b[0m\u001b[0;34m)\u001b[0m\u001b[0;34m\u001b[0m\u001b[0m\n\u001b[0;32m--> 130\u001b[0;31m     \u001b[0;32mreturn\u001b[0m \u001b[0mcallJavaFunc\u001b[0m\u001b[0;34m(\u001b[0m\u001b[0msc\u001b[0m\u001b[0;34m,\u001b[0m \u001b[0mapi\u001b[0m\u001b[0;34m,\u001b[0m \u001b[0;34m*\u001b[0m\u001b[0margs\u001b[0m\u001b[0;34m)\u001b[0m\u001b[0;34m\u001b[0m\u001b[0m\n\u001b[0m\u001b[1;32m    131\u001b[0m \u001b[0;34m\u001b[0m\u001b[0m\n\u001b[1;32m    132\u001b[0m \u001b[0;34m\u001b[0m\u001b[0m\n",
      "\u001b[0;32m/usr/local/spark/python/pyspark/mllib/common.py\u001b[0m in \u001b[0;36mcallJavaFunc\u001b[0;34m(sc, func, *args)\u001b[0m\n\u001b[1;32m    121\u001b[0m     \u001b[0;34m\"\"\" Call Java Function \"\"\"\u001b[0m\u001b[0;34m\u001b[0m\u001b[0m\n\u001b[1;32m    122\u001b[0m     \u001b[0margs\u001b[0m \u001b[0;34m=\u001b[0m \u001b[0;34m[\u001b[0m\u001b[0m_py2java\u001b[0m\u001b[0;34m(\u001b[0m\u001b[0msc\u001b[0m\u001b[0;34m,\u001b[0m \u001b[0ma\u001b[0m\u001b[0;34m)\u001b[0m \u001b[0;32mfor\u001b[0m \u001b[0ma\u001b[0m \u001b[0;32min\u001b[0m \u001b[0margs\u001b[0m\u001b[0;34m]\u001b[0m\u001b[0;34m\u001b[0m\u001b[0m\n\u001b[0;32m--> 123\u001b[0;31m     \u001b[0;32mreturn\u001b[0m \u001b[0m_java2py\u001b[0m\u001b[0;34m(\u001b[0m\u001b[0msc\u001b[0m\u001b[0;34m,\u001b[0m \u001b[0mfunc\u001b[0m\u001b[0;34m(\u001b[0m\u001b[0;34m*\u001b[0m\u001b[0margs\u001b[0m\u001b[0;34m)\u001b[0m\u001b[0;34m)\u001b[0m\u001b[0;34m\u001b[0m\u001b[0m\n\u001b[0m\u001b[1;32m    124\u001b[0m \u001b[0;34m\u001b[0m\u001b[0m\n\u001b[1;32m    125\u001b[0m \u001b[0;34m\u001b[0m\u001b[0m\n",
      "\u001b[0;32m/usr/local/spark/python/lib/py4j-0.10.3-src.zip/py4j/java_gateway.py\u001b[0m in \u001b[0;36m__call__\u001b[0;34m(self, *args)\u001b[0m\n\u001b[1;32m   1131\u001b[0m         \u001b[0manswer\u001b[0m \u001b[0;34m=\u001b[0m \u001b[0mself\u001b[0m\u001b[0;34m.\u001b[0m\u001b[0mgateway_client\u001b[0m\u001b[0;34m.\u001b[0m\u001b[0msend_command\u001b[0m\u001b[0;34m(\u001b[0m\u001b[0mcommand\u001b[0m\u001b[0;34m)\u001b[0m\u001b[0;34m\u001b[0m\u001b[0m\n\u001b[1;32m   1132\u001b[0m         return_value = get_return_value(\n\u001b[0;32m-> 1133\u001b[0;31m             answer, self.gateway_client, self.target_id, self.name)\n\u001b[0m\u001b[1;32m   1134\u001b[0m \u001b[0;34m\u001b[0m\u001b[0m\n\u001b[1;32m   1135\u001b[0m         \u001b[0;32mfor\u001b[0m \u001b[0mtemp_arg\u001b[0m \u001b[0;32min\u001b[0m \u001b[0mtemp_args\u001b[0m\u001b[0;34m:\u001b[0m\u001b[0;34m\u001b[0m\u001b[0m\n",
      "\u001b[0;32m/usr/local/spark/python/pyspark/sql/utils.py\u001b[0m in \u001b[0;36mdeco\u001b[0;34m(*a, **kw)\u001b[0m\n\u001b[1;32m     61\u001b[0m     \u001b[0;32mdef\u001b[0m \u001b[0mdeco\u001b[0m\u001b[0;34m(\u001b[0m\u001b[0;34m*\u001b[0m\u001b[0ma\u001b[0m\u001b[0;34m,\u001b[0m \u001b[0;34m**\u001b[0m\u001b[0mkw\u001b[0m\u001b[0;34m)\u001b[0m\u001b[0;34m:\u001b[0m\u001b[0;34m\u001b[0m\u001b[0m\n\u001b[1;32m     62\u001b[0m         \u001b[0;32mtry\u001b[0m\u001b[0;34m:\u001b[0m\u001b[0;34m\u001b[0m\u001b[0m\n\u001b[0;32m---> 63\u001b[0;31m             \u001b[0;32mreturn\u001b[0m \u001b[0mf\u001b[0m\u001b[0;34m(\u001b[0m\u001b[0;34m*\u001b[0m\u001b[0ma\u001b[0m\u001b[0;34m,\u001b[0m \u001b[0;34m**\u001b[0m\u001b[0mkw\u001b[0m\u001b[0;34m)\u001b[0m\u001b[0;34m\u001b[0m\u001b[0m\n\u001b[0m\u001b[1;32m     64\u001b[0m         \u001b[0;32mexcept\u001b[0m \u001b[0mpy4j\u001b[0m\u001b[0;34m.\u001b[0m\u001b[0mprotocol\u001b[0m\u001b[0;34m.\u001b[0m\u001b[0mPy4JJavaError\u001b[0m \u001b[0;32mas\u001b[0m \u001b[0me\u001b[0m\u001b[0;34m:\u001b[0m\u001b[0;34m\u001b[0m\u001b[0m\n\u001b[1;32m     65\u001b[0m             \u001b[0ms\u001b[0m \u001b[0;34m=\u001b[0m \u001b[0me\u001b[0m\u001b[0;34m.\u001b[0m\u001b[0mjava_exception\u001b[0m\u001b[0;34m.\u001b[0m\u001b[0mtoString\u001b[0m\u001b[0;34m(\u001b[0m\u001b[0;34m)\u001b[0m\u001b[0;34m\u001b[0m\u001b[0m\n",
      "\u001b[0;32m/usr/local/spark/python/lib/py4j-0.10.3-src.zip/py4j/protocol.py\u001b[0m in \u001b[0;36mget_return_value\u001b[0;34m(answer, gateway_client, target_id, name)\u001b[0m\n\u001b[1;32m    317\u001b[0m                 raise Py4JJavaError(\n\u001b[1;32m    318\u001b[0m                     \u001b[0;34m\"An error occurred while calling {0}{1}{2}.\\n\"\u001b[0m\u001b[0;34m.\u001b[0m\u001b[0;34m\u001b[0m\u001b[0m\n\u001b[0;32m--> 319\u001b[0;31m                     format(target_id, \".\", name), value)\n\u001b[0m\u001b[1;32m    320\u001b[0m             \u001b[0;32melse\u001b[0m\u001b[0;34m:\u001b[0m\u001b[0;34m\u001b[0m\u001b[0m\n\u001b[1;32m    321\u001b[0m                 raise Py4JError(\n",
      "\u001b[0;31mPy4JJavaError\u001b[0m: An error occurred while calling o544.trainRandomForestModel.\n: org.apache.spark.SparkException: Job aborted due to stage failure: Task 1 in stage 371.0 failed 1 times, most recent failure: Lost task 1.0 in stage 371.0 (TID 719, localhost): ExecutorLostFailure (executor driver exited caused by one of the running tasks) Reason: Executor heartbeat timed out after 234804 ms\nDriver stacktrace:\n\tat org.apache.spark.scheduler.DAGScheduler.org$apache$spark$scheduler$DAGScheduler$$failJobAndIndependentStages(DAGScheduler.scala:1454)\n\tat org.apache.spark.scheduler.DAGScheduler$$anonfun$abortStage$1.apply(DAGScheduler.scala:1442)\n\tat org.apache.spark.scheduler.DAGScheduler$$anonfun$abortStage$1.apply(DAGScheduler.scala:1441)\n\tat scala.collection.mutable.ResizableArray$class.foreach(ResizableArray.scala:59)\n\tat scala.collection.mutable.ArrayBuffer.foreach(ArrayBuffer.scala:48)\n\tat org.apache.spark.scheduler.DAGScheduler.abortStage(DAGScheduler.scala:1441)\n\tat org.apache.spark.scheduler.DAGScheduler$$anonfun$handleTaskSetFailed$1.apply(DAGScheduler.scala:811)\n\tat org.apache.spark.scheduler.DAGScheduler$$anonfun$handleTaskSetFailed$1.apply(DAGScheduler.scala:811)\n\tat scala.Option.foreach(Option.scala:257)\n\tat org.apache.spark.scheduler.DAGScheduler.handleTaskSetFailed(DAGScheduler.scala:811)\n\tat org.apache.spark.scheduler.DAGSchedulerEventProcessLoop.doOnReceive(DAGScheduler.scala:1667)\n\tat org.apache.spark.scheduler.DAGSchedulerEventProcessLoop.onReceive(DAGScheduler.scala:1622)\n\tat org.apache.spark.scheduler.DAGSchedulerEventProcessLoop.onReceive(DAGScheduler.scala:1611)\n\tat org.apache.spark.util.EventLoop$$anon$1.run(EventLoop.scala:48)\n\tat org.apache.spark.scheduler.DAGScheduler.runJob(DAGScheduler.scala:632)\n\tat org.apache.spark.SparkContext.runJob(SparkContext.scala:1890)\n\tat org.apache.spark.SparkContext.runJob(SparkContext.scala:1903)\n\tat org.apache.spark.SparkContext.runJob(SparkContext.scala:1916)\n\tat org.apache.spark.SparkContext.runJob(SparkContext.scala:1930)\n\tat org.apache.spark.rdd.RDD$$anonfun$collect$1.apply(RDD.scala:912)\n\tat org.apache.spark.rdd.RDDOperationScope$.withScope(RDDOperationScope.scala:151)\n\tat org.apache.spark.rdd.RDDOperationScope$.withScope(RDDOperationScope.scala:112)\n\tat org.apache.spark.rdd.RDD.withScope(RDD.scala:358)\n\tat org.apache.spark.rdd.RDD.collect(RDD.scala:911)\n\tat org.apache.spark.rdd.PairRDDFunctions$$anonfun$collectAsMap$1.apply(PairRDDFunctions.scala:745)\n\tat org.apache.spark.rdd.PairRDDFunctions$$anonfun$collectAsMap$1.apply(PairRDDFunctions.scala:744)\n\tat org.apache.spark.rdd.RDDOperationScope$.withScope(RDDOperationScope.scala:151)\n\tat org.apache.spark.rdd.RDDOperationScope$.withScope(RDDOperationScope.scala:112)\n\tat org.apache.spark.rdd.RDD.withScope(RDD.scala:358)\n\tat org.apache.spark.rdd.PairRDDFunctions.collectAsMap(PairRDDFunctions.scala:744)\n\tat org.apache.spark.ml.tree.impl.RandomForest$.findBestSplits(RandomForest.scala:550)\n\tat org.apache.spark.ml.tree.impl.RandomForest$.run(RandomForest.scala:187)\n\tat org.apache.spark.mllib.tree.RandomForest.run(RandomForest.scala:93)\n\tat org.apache.spark.mllib.tree.RandomForest$.trainRegressor(RandomForest.scala:217)\n\tat org.apache.spark.mllib.api.python.PythonMLLibAPI.trainRandomForestModel(PythonMLLibAPI.scala:770)\n\tat sun.reflect.NativeMethodAccessorImpl.invoke0(Native Method)\n\tat sun.reflect.NativeMethodAccessorImpl.invoke(NativeMethodAccessorImpl.java:62)\n\tat sun.reflect.DelegatingMethodAccessorImpl.invoke(DelegatingMethodAccessorImpl.java:43)\n\tat java.lang.reflect.Method.invoke(Method.java:498)\n\tat py4j.reflection.MethodInvoker.invoke(MethodInvoker.java:237)\n\tat py4j.reflection.ReflectionEngine.invoke(ReflectionEngine.java:357)\n\tat py4j.Gateway.invoke(Gateway.java:280)\n\tat py4j.commands.AbstractCommand.invokeMethod(AbstractCommand.java:132)\n\tat py4j.commands.CallCommand.execute(CallCommand.java:79)\n\tat py4j.GatewayConnection.run(GatewayConnection.java:214)\n\tat java.lang.Thread.run(Thread.java:745)\n"
     ]
    }
   ],
   "source": [
    "#maxBins에 대한 관계 확인하기, maxDepth=30\n",
    "\n",
    "params=[20,32, 50, 64, 128]\n",
    "metrics=[evaluate_rf(train_data_dt, test_data_dt, 10, 30, param) for param in params]\n",
    "print(params)\n",
    "print(metrics)\n",
    "plot(params, metrics)\n",
    "fig=matplotlib.pyplot.gcf()"
   ]
  },
  {
   "cell_type": "markdown",
   "metadata": {
    "deletable": true,
    "editable": true
   },
   "source": [
    "##### Optimized Value 'maxBins' is not Found(Error Occured)"
   ]
  },
  {
   "cell_type": "code",
   "execution_count": 7,
   "metadata": {
    "collapsed": false
   },
   "outputs": [
    {
     "name": "stdout",
     "output_type": "stream",
     "text": [
      "[20, 32, 50, 64, 128]\n",
      "[2524.8027386041699, 2563.318053344542, 2444.3609179200726, 2541.6968116124999, 2385.7165986236892]\n"
     ]
    },
    {
     "data": {
      "image/png": "[encoded data removed]",
      "text/plain": [
       "<matplotlib.figure.Figure at 0x7f4b1df09400>"
      ]
     },
     "metadata": {},
     "output_type": "display_data"
    }
   ],
   "source": [
    "#maxBins에 대한 관계 확인하기, maxDepth=10\n",
    "\n",
    "params=[20,32, 50, 64, 128]\n",
    "metrics=[evaluate_rf(train_data_dt, test_data_dt, 10, 10, param) for param in params]\n",
    "print(params)\n",
    "print(metrics)\n",
    "plot(params, metrics)\n",
    "fig=matplotlib.pyplot.gcf()"
   ]
  },
  {
   "cell_type": "markdown",
   "metadata": {},
   "source": [
    "##### ∴ Optimized Value 'maxBins' is 50"
   ]
  },
  {
   "cell_type": "code",
   "execution_count": 8,
   "metadata": {
    "collapsed": false
   },
   "outputs": [
    {
     "name": "stdout",
     "output_type": "stream",
     "text": [
      "[32, 64, 128, 256, 512]\n",
      "[2457.5741828526507, 2401.7893627451276, 2390.9083207682506, 2361.6863409373686, 2452.4507841243135]\n"
     ]
    },
    {
     "data": {
      "image/png": "[encoded data removed]",
      "text/plain": [
       "<matplotlib.figure.Figure at 0x7f4b1de392b0>"
      ]
     },
     "metadata": {},
     "output_type": "display_data"
    }
   ],
   "source": [
    "#maxBins에 대한 관계 확인하기, maxDepth=10, more test\n",
    "\n",
    "params=[32, 64, 128, 256, 512]\n",
    "metrics=[evaluate_rf(train_data_dt, test_data_dt, 10, 10, param) for param in params]\n",
    "print(params)\n",
    "print(metrics)\n",
    "plot(params, metrics)\n",
    "fig=matplotlib.pyplot.gcf()"
   ]
  },
  {
   "cell_type": "markdown",
   "metadata": {},
   "source": [
    "##### ∴ Optimized Value 'maxBins' is 256"
   ]
  },
  {
   "cell_type": "code",
   "execution_count": null,
   "metadata": {
    "collapsed": true
   },
   "outputs": [],
   "source": [
    "#optimized Model using Random Forest\n",
    "optimized_model_rf=RandomForest.trainRegressor(train, categoricalFeaturesInfo={}, numTrees=10, featureSubsetStrategy=\"auto\",\n",
    "                                    impurity='variance', maxDepth=10, maxBins=256)"
   ]
  },
  {
   "cell_type": "markdown",
   "metadata": {
    "deletable": true,
    "editable": true
   },
   "source": [
    "## 2) Gradient Boosted Tree\n",
    "- DecisionTree를 반복적으로 Training\n",
    "- 각 Instance값과 값을 계속 비교하면서, 오차를 줄여나감\n",
    "- 'max-depth' 또는 'max_leaf_nodes'로 Tree estimator의 강도를 결정\n",
    "- Boosting은 약한 estimator로 천천히 학습을 함이 좋으므로 depth가 4이하, leaf-node 수가 15가 넘는 경우는 드뭄\n",
    "- (하지만 큰 tree를 그냥 제외시키지 말고 5 level 이상 깊이의 tree도 데이터 복잡도에 따라 시험해 보도록)\n",
    "- learning_rate가 크면 빨리 오류를 보정하지만 overfitting 가능성도 큼\n",
    "- learning_rate를 작게 하고 n_estimators를 크게 하면 overfitting 않고 차분히 학습하여 좋지만 training 시간이 많이 걸리는 것이 단점.\n",
    "\n",
    "#### Boosting\n",
    "- Bagging과 유사하게, 초기 샘플 데이터를 조작하여 다수의 분류기를 생성하는 기법중 하나\n",
    "- 순차적(sequencial)한 방법\n",
    "- 이전 분류기의 학습을 토대로 다음 분류기의 학습 데이터 샘플 가중치를 조정해 학습\n",
    "    (bagging의 경우 분류기들이 학습시에 상호 영향을 주지 않고, 마지막에 그 결과를 종합하는 방법)\n",
    "- 타 앙상블(ensemble)모형과 같이 분류결과에 대한 해석이 불가능함\n",
    "\n",
    "\n",
    "- [참고] 꿈쟁이 http://blog.naver.com/gksshdk8003/220911836024\n",
    "- [참고] spark http://spark.apache.org/docs/latest/api/python/pyspark.mllib.html#pyspark.mllib.tree.GradientBoostedTrees\n",
    "- [참고] https://nbviewer.jupyter.org/github/hyunblee/ISLR-with-Python/blob/master/Ch8-Tree%20based%20Methods/Ch8_Tree_based_Methods.ipynb"
   ]
  },
  {
   "cell_type": "markdown",
   "metadata": {
    "deletable": true,
    "editable": true
   },
   "source": [
    "##### trainRegressor(data, categoricalFeaturesInfo, loss='leastSquaresError', numIterations=100, learningRate=0.1, maxDepth=3, maxBins=32)\n",
    "\n",
    "\n",
    "###### Parameters:\t\n",
    "* data – Training dataset: RDD of LabeledPoint. Labels are real numbers.\n",
    "* categoricalFeaturesInfo – Map storing arity of categorical features. An entry (n -> k) indicates that feature n is categorical with k categories indexed from 0: {0, 1, ..., k-1}.\n",
    "* loss – Loss function used for minimization during gradient boosting. Supported values: “logLoss”, “leastSquaresError”, “leastAbsoluteError”. (default: “leastSquaresError”)\n",
    "* numIterations – Number of iterations of boosting. (default: 100)\n",
    "* learningRate – Learning rate for shrinking the contribution of each estimator. The learning rate should be between in the interval (0, 1]. (default: 0.1)\n",
    "* maxDepth – Maximum depth of tree (e.g. depth 0 means 1 leaf node, depth 1 means 1 internal node + 2 leaf nodes). (default: 3)\n",
    "* maxBins – Maximum number of bins used for splitting features. DecisionTree requires maxBins >= max categories. (default: 32)"
   ]
  },
  {
   "cell_type": "code",
   "execution_count": null,
   "metadata": {
    "collapsed": true,
    "deletable": true,
    "editable": true
   },
   "outputs": [],
   "source": [
    "from pyspark.mllib.tree import GradientBoostedTrees, GradientBoostedTreesModel\n",
    "#from pyspark.mllib.util import MLUtils\n",
    "\n",
    "# Load and parse the data file.\n",
    "data = MLUtils.loadLibSVMFile(sc, \"data/mllib/sample_libsvm_data.txt\")\n",
    "# Split the data into training and test sets (30% held out for testing)\n",
    "(trainingData, testData) = data.randomSplit([0.7, 0.3])\n",
    "\n",
    "# Train a GradientBoostedTrees model.\n",
    "#  Notes: (a) Empty categoricalFeaturesInfo indicates all features are continuous.\n",
    "#         (b) Use more iterations in practice.\n",
    "model = GradientBoostedTrees.trainClassifier(trainingData,\n",
    "                                             categoricalFeaturesInfo={}, numIterations=3)\n",
    "\n",
    "# Evaluate model on test instances and compute test error\n",
    "predictions = model.predict(testData.map(lambda x: x.features))\n",
    "labelsAndPredictions = testData.map(lambda lp: lp.label).zip(predictions)\n",
    "testErr = labelsAndPredictions.filter(lambda (v, p): v != p).count() / float(testData.count())\n",
    "print('Test Error = ' + str(testErr))\n",
    "print('Learned classification GBT model:')\n",
    "print(model.toDebugString())\n",
    "\n",
    "# Save and load model\n",
    "model.save(sc, \"target/tmp/myGradientBoostingClassificationModel\")\n",
    "sameModel = GradientBoostedTreesModel.load(sc,\n",
    "                                           \"target/tmp/myGradientBoostingClassificationModel\")"
   ]
  },
  {
   "cell_type": "code",
   "execution_count": 3,
   "metadata": {
    "collapsed": true,
    "deletable": true,
    "editable": true
   },
   "outputs": [],
   "source": [
    "# Gradient Boosted Tree 테스트 메소드\n",
    "def evaluate_gb(train, test, loss, numIterations, learningRate, maxDepth, maxBins):\n",
    "    model=GradientBoostedTrees.trainRegressor(train, categoricalFeaturesInfo={}, loss=loss, numIterations=numIterations,learningRate=learningRate, maxDepth=maxDepth, maxBins=maxBins)\n",
    "    preds=model.predict(test.map(lambda p:p.features))\n",
    "    actual=test.map(lambda p:p.label)\n",
    "    tp=actual.zip(preds)\n",
    "    rmse=np.sqrt(tp.map(lambda p:squared_error(p[0], p[1])).mean())\n",
    "    return rmse"
   ]
  },
  {
   "cell_type": "code",
   "execution_count": null,
   "metadata": {
    "collapsed": false
   },
   "outputs": [],
   "source": [
    "#numIterations, 나머지 값들은 default값과 동일하게 설정한다.\n",
    "params=[25, 50, 100, 150, 200] # iterations 값을 500으로 했더니 에러 발생\n",
    "metrics=[evaluate_gb(train_data_dt, test_data_dt, loss='leastSquaresError',\n",
    "                     numIterations=param, learningRate=0.1, maxDepth=3, maxBins=32) for param in params]\n",
    "print(params)\n",
    "print(metrics)\n",
    "plot(params, metrics)\n",
    "fig=matplotlib.pyplot.gcf()\n",
    "fig.set_size_inches(16,10)"
   ]
  },
  {
   "cell_type": "markdown",
   "metadata": {},
   "source": [
    "##### ∴ Optimized Value 'numIterations' is 200 \n",
    "하지만 실행기간이 너무 오래 걸리므로, 최적화 모델에서만 200으로 값을 설정하기로"
   ]
  },
  {
   "cell_type": "code",
   "execution_count": 26,
   "metadata": {
    "collapsed": false
   },
   "outputs": [
    {
     "name": "stdout",
     "output_type": "stream",
     "text": [
      "['logLoss', 'leastSquaresError', 'leastAbsoluteError']\n",
      "[2664.5750880977794, 2106.1613560149626, 2664.2259952362701]\n"
     ]
    },
    {
     "data": {
      "image/png": "[encoded data removed]",
      "text/plain": [
       "<matplotlib.figure.Figure at 0x7f60ed185dd8>"
      ]
     },
     "metadata": {},
     "output_type": "display_data"
    }
   ],
   "source": [
    "#loss method\n",
    "params=[\"logLoss\", \"leastSquaresError\", \"leastAbsoluteError\"]\n",
    "metrics=[evaluate_gb(train_data_dt, test_data_dt, loss=param,\n",
    "                     numIterations=100, learningRate=0.1, maxDepth=3, maxBins=32) for param in params]\n",
    "print(params)\n",
    "print(metrics)\n",
    "#plot(params, metrics) # 막대 실행 구문을 변경해야함\n",
    "x_axis=np.array(params)\n",
    "y_axis=np.array(metrics)\n",
    "pos=np.arange(len(x_axis))\n",
    "width=1.0\n",
    "\n",
    "ax=plt.axes()\n",
    "ax.set_xticks(pos+width-1)\n",
    "ax.set_xticklabels(x_axis)\n",
    "plt.bar(pos, y_axis, width, color='lightblue')\n",
    "#plt.xticks(rotation=30)\n",
    "fig=matplotlib.pyplot.gcf()\n",
    "fig.set_size_inches(16,10)"
   ]
  },
  {
   "cell_type": "markdown",
   "metadata": {},
   "source": [
    "##### ∴ Optimized 'loss' Method is leastSquaresError(default value)"
   ]
  },
  {
   "cell_type": "code",
   "execution_count": 28,
   "metadata": {
    "collapsed": false
   },
   "outputs": [
    {
     "name": "stdout",
     "output_type": "stream",
     "text": [
      "[0.001, 0.005, 0.01, 0.05, 0.1, 0.5]\n",
      "[2648.54691827631, 2591.0700456545765, 2524.6140192277758, 2269.4032484672853, 2106.1613560149626, 1758.7970911259115]\n"
     ]
    },
    {
     "data": {
      "image/png": "[encoded data removed]",
      "text/plain": [
       "<matplotlib.figure.Figure at 0x7f60ed23fd30>"
      ]
     },
     "metadata": {},
     "output_type": "display_data"
    }
   ],
   "source": [
    "#learning Rate\n",
    "params=[0.001, 0.005, 0.01, 0.05, 0.1, 0.5]\n",
    "metrics=[evaluate_gb(train_data_dt, test_data_dt, loss=\"leastSquaresError\",\n",
    "                     numIterations=100, learningRate=param, maxDepth=3, maxBins=32) for param in params]\n",
    "print(params)\n",
    "print(metrics)\n",
    "plot(params, metrics)\n",
    "fig=matplotlib.pyplot.gcf()\n",
    "fig.set_size_inches(16,10)"
   ]
  },
  {
   "cell_type": "markdown",
   "metadata": {},
   "source": [
    "##### ∴ Optimized 'Learning Rate' is 0.1\n",
    "실상 Learning Rate는 numIterations와 Tradeoff되는 경향이 있으므로, 나중에 다시 확인할 것"
   ]
  },
  {
   "cell_type": "code",
   "execution_count": null,
   "metadata": {
    "collapsed": true
   },
   "outputs": [],
   "source": [
    "#maxDepth\n",
    "params=[1,2,3,4,5]\n",
    "metrics=[evaluate_gb(train_data_dt, test_data_dt, loss=###,\n",
    "                     numIterations=###, learningRate=###, maxDepth=param, maxBins=32) for param in params]\n",
    "print(params)\n",
    "print(metrics)\n",
    "plot(params, metrics)\n",
    "fig=matplotlib.pyplot.gcf()"
   ]
  },
  {
   "cell_type": "markdown",
   "metadata": {},
   "source": [
    "##### ∴ Optimized 'maxDepth' is "
   ]
  },
  {
   "cell_type": "code",
   "execution_count": null,
   "metadata": {
    "collapsed": true
   },
   "outputs": [],
   "source": [
    "#maxBins\n",
    "params=[8, 16, 32, 64, 128, 256, 512]\n",
    "metrics=[evaluate_gb(train_data_dt, test_data_dt, loss=###,\n",
    "                     numIterations=###, learningRate=###, maxDepth=###, maxBins=###) for param in params]\n",
    "print(params)\n",
    "print(metrics)\n",
    "plot(params, metrics)\n",
    "fig=matplotlib.pyplot.gcf()"
   ]
  },
  {
   "cell_type": "markdown",
   "metadata": {},
   "source": [
    "##### ∴ Optimized 'maxBins' is "
   ]
  },
  {
   "cell_type": "code",
   "execution_count": null,
   "metadata": {
    "collapsed": true
   },
   "outputs": [],
   "source": []
  }
 ],
 "metadata": {
  "kernelspec": {
   "display_name": "Python 3",
   "language": "python",
   "name": "python3"
  },
  "language_info": {
   "codemirror_mode": {
    "name": "ipython",
    "version": 3
   },
   "file_extension": ".py",
   "mimetype": "text/x-python",
   "name": "python",
   "nbconvert_exporter": "python",
   "pygments_lexer": "ipython3",
   "version": "3.5.2"
  }
 },
 "nbformat": 4,
 "nbformat_minor": 2
}
