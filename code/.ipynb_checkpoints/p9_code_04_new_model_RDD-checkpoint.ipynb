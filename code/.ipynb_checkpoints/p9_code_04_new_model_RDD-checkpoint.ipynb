{
 "cells": [
  {
   "cell_type": "markdown",
   "metadata": {
    "deletable": true,
    "editable": true
   },
   "source": [
    "# Regression Model on RDD(v2)\n",
    "### 1) RandomForest\n",
    "### 2) Gradient-Boosted Tree\n",
    "### 3) NaiveBays\n",
    "### 4) Isotonic Regression"
   ]
  },
  {
   "cell_type": "markdown",
   "metadata": {},
   "source": [
    "### 0) Previous Settings"
   ]
  },
  {
   "cell_type": "code",
   "execution_count": 13,
   "metadata": {
    "collapsed": false,
    "deletable": true,
    "editable": true
   },
   "outputs": [
    {
     "name": "stdout",
     "output_type": "stream",
     "text": [
      "Populating the interactive namespace from numpy and matplotlib\n"
     ]
    }
   ],
   "source": [
    "%pylab inline\n",
    "\n",
    "import numpy as np\n",
    "from pyspark.mllib.regression import LabeledPoint\n",
    "from pyspark.mllib.linalg import Vectors\n",
    "\n",
    "raw_data=sc.textFile(\"/home/csxion/Desktop/project/data/p9_data_11_16_1q_sed.csv\")\n",
    "records=raw_data.map(lambda line:line.split(\",\"))\n",
    "records.first()\n",
    "\n",
    "subway_dict=records.map(lambda r:r[0]).distinct().zipWithIndex().collectAsMap() # distinct 꼭 사용할 것\n",
    "time_dict=records.map(lambda r:r[2]).distinct().zipWithIndex().collectAsMap()\n",
    "#date_dict=records.map(lambda r:r[1]).distinct().zipWithIndex().collectAsMap()\n",
    "\n",
    "# r[0] : subway station name // Category feature => binary vector\n",
    "# r[1] : Date(Not used)\n",
    "# r[2] : Time(5~23) # Category feature => binary vector\n",
    "\n",
    "def check_error_float(data, econd, subt): #data가 equal_cond와 같을때, subt로 치환한다.\n",
    "    if(data==econd):\n",
    "        return subt\n",
    "    else:\n",
    "        return float(data)\n",
    "\n",
    "def extract_features_linear(r): #line별\n",
    "    name_vec=np.zeros(len(subway_dict)) # 역 이름에 대하여 카테고리 특징을 바이너리 벡터 형태로 변환한다.\n",
    "    name_vec[subway_dict[r[0]]]=1\n",
    "    time_vec=np.zeros(len(time_dict)) # 시간 데이터에 대하여(5~23) 카테고리 특징을 바이너리 벡터 형태로 변환한다.\n",
    "    time_vec[time_dict[r[2]]]=1\n",
    "    #numbers=np.array([float(r[i]) for i in range(3,len(r)-1)])\n",
    "    #numbers=np.array([float(e) for e in r[3:]])\n",
    "    for i in range(3,len(r)-1):\n",
    "        r[i]=check_error_float(r[i], \"#N/A\", 0.0)\n",
    "    numbers=np.array([float(d) for d in r[3:len(r)-1]])\n",
    "    return np.concatenate((name_vec, time_vec, numbers)) # 역 + 시간 + 특징벡터 값으로 구성되는 numpy.array를 반환한다.\n",
    "#flatMap을 사용할 필요가 없음\n",
    "\n",
    "def extract_label(r):\n",
    "    return float(r[len(r)-1]) # int는 소문자로 지정해야 함\n",
    "#float\n",
    "\n",
    "def extract_features_dt(r): # dt모델에 적용할 특징벡터를 추출하는 함수. 여기서는 바이너리 벡터를 생성하지 않는다.\n",
    "    name=float(subway_dict[r[0]])\n",
    "    time=float(time_dict[r[2]])\n",
    "    for i in range(3,len(r)-1):\n",
    "        r[i]=check_error_float(r[i], \"#N/A\", 0.0)\n",
    "    numbers=np.array([float(d) for d in r[3:len(r)-1]])\n",
    "    return np.concatenate((np.array([name, time]), numbers))\n",
    "\n",
    "# np.concatenate 함수는 꼭 이중괄호를 해주어야 index 에러가 나지 않는다.\n",
    "# extract_label 함수의 경우 linearRegression Model과 DecisionTree 모두 동일하게 사용한다\n",
    "\n",
    "def squared_error(actual, pred):\n",
    "    return (actual-pred)**2\n",
    "def abs_error(actual,pred):\n",
    "    return np.abs(actual-pred)\n",
    "def squared_log_error(actual, pred):\n",
    "    return (np.log(pred+1)-np.log(actual+1))**2"
   ]
  },
  {
   "cell_type": "code",
   "execution_count": 19,
   "metadata": {
    "collapsed": false,
    "deletable": true,
    "editable": true
   },
   "outputs": [
    {
     "data": {
      "text/plain": [
       "<bound method RDD.cache of PythonRDD[613] at RDD at PythonRDD.scala:48>"
      ]
     },
     "execution_count": 19,
     "metadata": {},
     "output_type": "execute_result"
    }
   ],
   "source": [
    "data=records.map(lambda r:LabeledPoint(extract_label(r), Vectors.dense(np.array(extract_features_linear(r)))))\n",
    "data.cache\n",
    "\n",
    "(train_data, test_data) = data.randomSplit([0.7, 0.3]) #training Data와 Test Data를 7 : 3의 비율로 나눈다\n",
    "train_data.cache\n",
    "test_data.cache"
   ]
  },
  {
   "cell_type": "code",
   "execution_count": 15,
   "metadata": {
    "collapsed": false,
    "deletable": true,
    "editable": true
   },
   "outputs": [
    {
     "data": {
      "text/plain": [
       "LabeledPoint(78.0, [0.0,0.0,0.0,0.0,0.0,0.0,0.0,0.0,0.0,0.0,0.0,0.0,0.0,0.0,0.0,0.0,0.0,0.0,0.0,0.0,0.0,0.0,0.0,0.0,0.0,0.0,0.0,0.0,0.0,0.0,0.0,0.0,0.0,0.0,0.0,0.0,0.0,0.0,0.0,1.0,0.0,0.0,0.0,0.0,0.0,0.0,0.0,0.0,0.0,0.0,0.0,0.0,0.0,0.0,0.0,0.0,0.0,0.0,0.0,0.0,0.0,0.0,0.0,0.0,0.0,0.0,0.0,0.0,0.0,0.0,0.0,0.0,0.0,0.0,0.0,0.0,0.0,0.0,0.0,0.0,0.0,0.0,0.0,0.0,0.0,0.0,0.0,0.0,0.0,0.0,0.0,0.0,0.0,0.0,0.0,0.0,0.0,0.0,0.0,0.0,0.0,0.0,0.0,0.0,0.0,0.0,0.0,0.0,0.0,0.0,0.0,0.0,0.0,0.0,0.0,0.0,0.0,0.0,0.0,0.0,0.0,0.0,1.0,0.0,0.0,0.0,0.0,0.0,0.0,0.077606673,0.420556606,0.414592146,0.820293973,0.553426589,0.549782942,0.99369488])"
      ]
     },
     "execution_count": 15,
     "metadata": {},
     "output_type": "execute_result"
    }
   ],
   "source": [
    "data.first()"
   ]
  },
  {
   "cell_type": "code",
   "execution_count": 16,
   "metadata": {
    "collapsed": false,
    "deletable": true,
    "editable": true
   },
   "outputs": [
    {
     "data": {
      "text/plain": [
       "'\\ndef evaluate(train, test, iterations, step, regParam, regType, intercept):\\n    model=LinearRegressionWithSGD.train(train, iterations, step, regParam=regParam, regType=regType, intercept=intercept)\\n    tp=test.map(lambda p:(p.label, model.predict(p.features)))\\n    rmsle=np.sqrt(tp.map(lambda p:squared_log_error(p[0], p[1])).mean())\\n    return rmsle\\n'"
      ]
     },
     "execution_count": 16,
     "metadata": {},
     "output_type": "execute_result"
    }
   ],
   "source": [
    "#LinearRegression 모델 테스트 메소드\n",
    "\"\"\"\n",
    "def evaluate(train, test, iterations, step, regParam, regType, intercept):\n",
    "    model=LinearRegressionWithSGD.train(train, iterations, step, regParam=regParam, regType=regType, intercept=intercept)\n",
    "    tp=test.map(lambda p:(p.label, model.predict(p.features)))\n",
    "    rmsle=np.sqrt(tp.map(lambda p:squared_log_error(p[0], p[1])).mean())\n",
    "    return rmsle\n",
    "\"\"\""
   ]
  },
  {
   "cell_type": "markdown",
   "metadata": {
    "deletable": true,
    "editable": true
   },
   "source": [
    "## 1) RandomForest Model based RDD\n",
    "- 임의성(randomness)에 의해 서로 조금씩 다른 특성을 갖는 트리들로 구성\n",
    "- 부트스트랩 샘플에 임의성을 더함\n",
    "- 랜덤포레스트를 사용하게 되면 더 이상 어떤 과정을 통해 예측이 이뤄지는 지 알 수 없음(DT에서는 확인 가능)\n",
    "- 여러 개의 의사결정트리를 만들고, 투표를 시켜 다수결로 결과를 확인\n",
    "\n",
    "##### Bagging(Bootstrap Aggregation)\n",
    "- Bagging은 Bias-Variance trade off 를 해결하기 위한 방법\n",
    "- 전체 데이터를 전부 이용해서 학습시키는 것이 아니라 샘플의 결과물을 각 트리의 입력 값으로 넣어 학습\n",
    "- (Bias : 예측의 정확도, Variance : 예측의 정확도가 들쭉날쭉하는 정도. 한쪽이 높아지면 한쪽이 낮아지는 관계)\n",
    "- 데이터셋에서 랜덤하게 부분데이터를 뽑아 여러개의 데이터 subset으로 bias를 decision tree의 평균값으로 유지하면서도 variance를 줄이는 방법\n",
    "\n",
    "##### Variable Randomize(Ensemble Learning)\n",
    "- 파티션을 나눌 때 변수에 랜덤성을 부여\n",
    "- 남아있는 모든 변수 중에서 최적의 변수를 선택하는 것이 아니라 변수 중 일부만 선택하고 그 일부 중에서 최적의 변수를 선택\n",
    "\n",
    "\n",
    "\n",
    "[참고] Mycloud http://swalloow.tistory.com/92\n",
    "[참고] 위키백과 https://ko.wikipedia.org/wiki/%EB%9E%9C%EB%8D%A4_%ED%8F%AC%EB%A0%88%EC%8A%A4%ED%8A%B8"
   ]
  },
  {
   "cell_type": "markdown",
   "metadata": {
    "deletable": true,
    "editable": true
   },
   "source": [
    "##### .trainRegressor(data, categoricalFeaturesInfo, numTrees, featureSubsetStrategy='auto', impurity='variance', maxDepth=4, maxBins=32, seed=None)[source]\n",
    "##### Parameters:\t\n",
    "* data – Training dataset: RDD of LabeledPoint. Labels are real numbers.\n",
    "* categoricalFeaturesInfo – Map storing arity of categorical features. An entry (n -> k) indicates that feature n is categorical with k categories indexed from 0: {0, 1, ..., k-1}.\n",
    "* numTrees – Number of trees in the random forest.\n",
    "* featureSubsetStrategy – Number of features to consider for splits at each node. Supported values: “auto”, “all”, “sqrt”, “log2”, “onethird”. If “auto” is set, this parameter is set based on numTrees: if numTrees == 1, set to “all”; if numTrees > 1 (forest) set to “onethird” for regression. (default: “auto”)\n",
    "* impurity – Criterion used for information gain calculation. The only supported value for regression is “variance”. (default: “variance”)\n",
    "* maxDepth – Maximum depth of tree (e.g. depth 0 means 1 leaf node, depth 1 means 1 internal node + 2 leaf nodes). (default: 4)\n",
    "* maxBins – Maximum number of bins used for splitting features. (default: 32)\n",
    "* seed – Random seed for bootstrapping and choosing feature subsets. Set as None to generate seed based on system time. (default: None)"
   ]
  },
  {
   "cell_type": "markdown",
   "metadata": {},
   "source": [
    "### 1-1) RandomForest Test code"
   ]
  },
  {
   "cell_type": "code",
   "execution_count": 17,
   "metadata": {
    "collapsed": true,
    "deletable": true,
    "editable": true
   },
   "outputs": [
    {
     "name": "stdout",
     "output_type": "stream",
     "text": [
      "Test Mean Squared Error = 6671220.357082351\n",
      "Learned regression forest model:\n",
      "TreeEnsembleModel regressor with 3 trees\n",
      "\n",
      "  Tree 0:\n",
      "    If (feature 44 <= 0.0)\n",
      "     If (feature 121 <= 0.0)\n",
      "      If (feature 122 <= 0.0)\n",
      "       If (feature 58 <= 0.0)\n",
      "        Predict: 2693.6871696873786\n",
      "       Else (feature 58 > 0.0)\n",
      "        Predict: 7738.7865771812085\n",
      "      Else (feature 122 > 0.0)\n",
      "       If (feature 15 <= 0.0)\n",
      "        Predict: 334.51809742359444\n",
      "       Else (feature 15 > 0.0)\n",
      "        Predict: 1624.6451612903227\n",
      "     Else (feature 121 > 0.0)\n",
      "      If (feature 53 <= 0.0)\n",
      "       If (feature 58 <= 0.0)\n",
      "        Predict: 4768.405135951662\n",
      "       Else (feature 58 > 0.0)\n",
      "        Predict: 15172.569892473119\n",
      "      Else (feature 53 > 0.0)\n",
      "       If (feature 132 <= 0.817630849)\n",
      "        Predict: 20259.38\n",
      "       Else (feature 132 > 0.817630849)\n",
      "        Predict: 10309.25\n",
      "    Else (feature 44 > 0.0)\n",
      "     If (feature 122 <= 0.0)\n",
      "      If (feature 127 <= 0.0)\n",
      "       If (feature 123 <= 0.0)\n",
      "        Predict: 9319.033678756477\n",
      "       Else (feature 123 > 0.0)\n",
      "        Predict: 3508.5421686746986\n",
      "      Else (feature 127 > 0.0)\n",
      "       If (feature 133 <= 0.515705252)\n",
      "        Predict: 3614.8155339805826\n",
      "       Else (feature 133 > 0.515705252)\n",
      "        Predict: 1398.75\n",
      "     Else (feature 122 > 0.0)\n",
      "      If (feature 132 <= 0.110127756)\n",
      "       If (feature 134 <= 0.033534765)\n",
      "        Predict: 838.8\n",
      "       Else (feature 134 > 0.033534765)\n",
      "        Predict: 735.2647058823529\n",
      "      Else (feature 132 > 0.110127756)\n",
      "       If (feature 134 <= 0.084540655)\n",
      "        Predict: 336.0\n",
      "       Else (feature 134 > 0.084540655)\n",
      "        Predict: 648.5272727272727\n",
      "  Tree 1:\n",
      "    If (feature 58 <= 0.0)\n",
      "     If (feature 122 <= 0.0)\n",
      "      If (feature 53 <= 0.0)\n",
      "       If (feature 49 <= 0.0)\n",
      "        Predict: 2739.62866955831\n",
      "       Else (feature 49 > 0.0)\n",
      "        Predict: 8180.4490543014035\n",
      "      Else (feature 53 > 0.0)\n",
      "       If (feature 127 <= 0.0)\n",
      "        Predict: 11660.01811125485\n",
      "       Else (feature 127 > 0.0)\n",
      "        Predict: 2843.181818181818\n",
      "     Else (feature 122 > 0.0)\n",
      "      If (feature 13 <= 0.0)\n",
      "       If (feature 15 <= 0.0)\n",
      "        Predict: 325.6370754525117\n",
      "       Else (feature 15 > 0.0)\n",
      "        Predict: 1654.0235294117647\n",
      "      Else (feature 13 > 0.0)\n",
      "       If (feature 131 <= 0.307631893)\n",
      "        Predict: 1676.1041666666667\n",
      "       Else (feature 131 > 0.307631893)\n",
      "        Predict: 1384.2\n",
      "    Else (feature 58 > 0.0)\n",
      "     If (feature 127 <= 0.0)\n",
      "      If (feature 122 <= 0.0)\n",
      "       If (feature 123 <= 0.0)\n",
      "        Predict: 8921.01171605789\n",
      "       Else (feature 123 > 0.0)\n",
      "        Predict: 3013.5714285714284\n",
      "      Else (feature 122 > 0.0)\n",
      "       If (feature 132 <= 0.101593689)\n",
      "        Predict: 916.9333333333333\n",
      "       Else (feature 132 > 0.101593689)\n",
      "        Predict: 766.9347826086956\n",
      "     Else (feature 127 > 0.0)\n",
      "      If (feature 130 <= 0.420556606)\n",
      "       If (feature 133 <= 0.515705252)\n",
      "        Predict: 2776.730769230769\n",
      "       Else (feature 133 > 0.515705252)\n",
      "        Predict: 1769.0\n",
      "      Else (feature 130 > 0.420556606)\n",
      "       If (feature 132 <= 0.110127756)\n",
      "        Predict: 1965.5\n",
      "       Else (feature 132 > 0.110127756)\n",
      "        Predict: 1256.0\n",
      "  Tree 2:\n",
      "    If (feature 22 <= 0.0)\n",
      "     If (feature 9 <= 0.0)\n",
      "      If (feature 49 <= 0.0)\n",
      "       If (feature 44 <= 0.0)\n",
      "        Predict: 2606.9728227941378\n",
      "       Else (feature 44 > 0.0)\n",
      "        Predict: 8224.612810155799\n",
      "      Else (feature 49 > 0.0)\n",
      "       If (feature 122 <= 0.0)\n",
      "        Predict: 8177.437463641652\n",
      "       Else (feature 122 > 0.0)\n",
      "        Predict: 928.0405405405405\n",
      "     Else (feature 9 > 0.0)\n",
      "      If (feature 118 <= 0.0)\n",
      "       If (feature 133 <= 0.515705252)\n",
      "        Predict: 6146.481222151496\n",
      "       Else (feature 133 > 0.515705252)\n",
      "        Predict: 2984.4897959183672\n",
      "      Else (feature 118 > 0.0)\n",
      "       If (feature 134 <= 0.527654039)\n",
      "        Predict: 16078.066666666668\n",
      "       Else (feature 134 > 0.527654039)\n",
      "        Predict: 2044.0\n",
      "    Else (feature 22 > 0.0)\n",
      "     If (feature 121 <= 0.0)\n",
      "      If (feature 122 <= 0.0)\n",
      "       If (feature 127 <= 0.0)\n",
      "        Predict: 8447.050881953866\n",
      "       Else (feature 127 > 0.0)\n",
      "        Predict: 1835.3068181818182\n",
      "      Else (feature 122 > 0.0)\n",
      "       If (feature 132 <= 0.817630849)\n",
      "        Predict: 1392.3406593406594\n",
      "       Else (feature 132 > 0.817630849)\n",
      "        Predict: 3195.3333333333335\n",
      "     Else (feature 121 > 0.0)\n",
      "      If (feature 133 <= 0.092798879)\n",
      "       If (feature 132 <= 0.034993393)\n",
      "        Predict: 13227.0\n",
      "       Else (feature 132 > 0.034993393)\n",
      "        Predict: 16553.242424242424\n",
      "      Else (feature 133 > 0.092798879)\n",
      "       If (feature 129 <= 0.137022617)\n",
      "        Predict: 15312.307692307691\n",
      "       Else (feature 129 > 0.137022617)\n",
      "        Predict: 12008.666666666666\n",
      "\n"
     ]
    }
   ],
   "source": [
    "# http://spark.apache.org/docs/latest/api/python/pyspark.mllib.html#pyspark.mllib.tree.RandomForest\n",
    "from pyspark.mllib.tree import RandomForest, RandomForestModel\n",
    "\n",
    "# Train a RandomForest model.\n",
    "#  Empty categoricalFeaturesInfo indicates all features are continuous.\n",
    "#  Note: Use larger numTrees in practice.\n",
    "#  Setting featureSubsetStrategy=\"auto\" lets the algorithm choose.\n",
    "model = RandomForest.trainRegressor(data, categoricalFeaturesInfo={},\n",
    "                                    numTrees=3, featureSubsetStrategy=\"auto\",\n",
    "                                    impurity='variance', maxDepth=4, maxBins=32)\n",
    "\n",
    "# Evaluate model on test instances and compute test error\n",
    "predictions = model.predict(data.map(lambda x: x.features))\n",
    "labelsAndPredictions = data.map(lambda lp: lp.label).zip(predictions)\n",
    "testMSE = labelsAndPredictions.map(lambda p: (p[0] - p[1]) * (p[0] - p[1])).sum() /\\\n",
    "float(data.count())\n",
    "print('Test Mean Squared Error = ' + str(testMSE))\n",
    "print('Learned regression forest model:')\n",
    "print(model.toDebugString()) # 새로운걸 확인할 수 있었음\n",
    "\n",
    "# Save and load model\n",
    "##model.save(sc, \"target/tmp/myRandomForestRegressionModel\")\n",
    "##sameModel = RandomForestModel.load(sc, \"target/tmp/myRandomForestRegressionModel\")\n"
   ]
  },
  {
   "cell_type": "markdown",
   "metadata": {},
   "source": [
    "### 1-2) Optimization of RandomForest Model"
   ]
  },
  {
   "cell_type": "code",
   "execution_count": 11,
   "metadata": {
    "collapsed": true,
    "deletable": true,
    "editable": true
   },
   "outputs": [],
   "source": [
    "# RandomForest 모델 테스트 메소드\n",
    "def evaluate_rf(train, test, numTrees, maxDepth, maxBins):\n",
    "    model=RandomForest.trainRegressor(train, categoricalFeaturesInfo={}, numTrees=numTrees, featureSubsetStrategy=\"auto\",\n",
    "                                    impurity='variance', maxDepth=maxDepth, maxBins=maxBins)\n",
    "    preds=model.predict(test.map(lambda p:p.features))\n",
    "    actual=test.map(lambda p:p.label)\n",
    "    tp=actual.zip(preds)\n",
    "    rmse=np.sqrt(tp.map(lambda p:squared_error(p[0], p[1])).mean())\n",
    "    return rmse"
   ]
  },
  {
   "cell_type": "code",
   "execution_count": 12,
   "metadata": {
    "collapsed": false
   },
   "outputs": [
    {
     "name": "stdout",
     "output_type": "stream",
     "text": [
      "[3, 5, 10, 20, 30]\n",
      "[2576.4460503793557, 2561.0866061589068, 2546.4990816391605, 2544.9902701382844, 2559.6917544991202]\n"
     ]
    },
    {
     "data": {
      "image/png": "[encoded data removed]",
      "text/plain": [
       "<matplotlib.figure.Figure at 0x7fde3bf56198>"
      ]
     },
     "metadata": {},
     "output_type": "display_data"
    }
   ],
   "source": [
    "#numTree에 대한 관계 예측하기\n",
    "params=[3,5,10,20,30]\n",
    "metrics=[evaluate_rf(train_data, test_data, param, 4, 32) for param in params]\n",
    "print(params)\n",
    "print(metrics)\n",
    "plot(params, metrics)\n",
    "fig=matplotlib.pyplot.gcf()"
   ]
  },
  {
   "cell_type": "markdown",
   "metadata": {},
   "source": [
    "##### ∴ Optimized Value 'numTree' is 20"
   ]
  },
  {
   "cell_type": "code",
   "execution_count": 21,
   "metadata": {
    "collapsed": false
   },
   "outputs": [
    {
     "name": "stdout",
     "output_type": "stream",
     "text": [
      "[2, 4, 5, 10, 20, 30]\n",
      "[2690.6890808213907, 2526.0046028768757, 2461.6895994291103, 2199.8200254446247, 1868.1283889465003, 1610.2498602416445]\n"
     ]
    },
    {
     "data": {
      "image/png": "[encoded data removed]",
      "text/plain": [
       "<matplotlib.figure.Figure at 0x7fde38dc4f60>"
      ]
     },
     "metadata": {},
     "output_type": "display_data"
    }
   ],
   "source": [
    "#maxDepth에 대한 관계 확인하기\n",
    "\n",
    "params=[2,4,5,10,20,30] # 계속 줄어드는 그래프, 반등이 일어나지 않음. 값을 키우도록 한다.\n",
    "##params=[10, 20,50, 100, 200]\n",
    "##requirement failed: DecisionTree currently only supports maxDepth <= 30\n",
    "\n",
    "metrics=[evaluate_rf(train_data, test_data, 20, param, 32) for param in params]\n",
    "print(params)\n",
    "print(metrics)\n",
    "plot(params, metrics)\n",
    "fig=matplotlib.pyplot.gcf()"
   ]
  },
  {
   "cell_type": "markdown",
   "metadata": {},
   "source": [
    "##### ∴ Optimized Value 'maxDepth' is 30"
   ]
  },
  {
   "cell_type": "code",
   "execution_count": 22,
   "metadata": {
    "collapsed": false
   },
   "outputs": [
    {
     "name": "stdout",
     "output_type": "stream",
     "text": [
      "[20, 32, 50, 64, 128]\n",
      "[1629.1428057410033, 1606.0959420448023, 1600.1497591654818, 1614.1738114843665, 1603.1584202737743]\n"
     ]
    },
    {
     "data": {
      "image/png": "[encoded data removed]",
      "text/plain": [
       "<matplotlib.figure.Figure at 0x7fde38d5e748>"
      ]
     },
     "metadata": {},
     "output_type": "display_data"
    }
   ],
   "source": [
    "#maxBins에 대한 관계 확인하기\n",
    "\n",
    "params=[20,32, 50, 64, 128]\n",
    "metrics=[evaluate_rf(train_data, test_data, 20, 30, param) for param in params]\n",
    "print(params)\n",
    "print(metrics)\n",
    "plot(params, metrics)\n",
    "fig=matplotlib.pyplot.gcf()"
   ]
  },
  {
   "cell_type": "markdown",
   "metadata": {},
   "source": [
    "##### ∴ Optimized Value 'maxBins' is 50"
   ]
  },
  {
   "cell_type": "markdown",
   "metadata": {},
   "source": [
    "[참고] : http://spark.apache.org/docs/latest/api/python/pyspark.mllib.html#pyspark.mllib.tree.GradientBoostedTrees\n",
    "        \n",
    "## 2) Gradient Boosted Tree\n",
    "- DecisionTree를 반복적으로 Training\n",
    "- 각 Instance값과 값을 계속 비교하면서, 오차를 줄여나감\n",
    "- "
   ]
  },
  {
   "cell_type": "markdown",
   "metadata": {},
   "source": [
    "##### trainRegressor(data, categoricalFeaturesInfo, loss='leastSquaresError', numIterations=100, learningRate=0.1, maxDepth=3, maxBins=32)\n",
    "\n",
    "\n",
    "###### Parameters:\t\n",
    "* data – Training dataset: RDD of LabeledPoint. Labels are real numbers.\n",
    "* categoricalFeaturesInfo – Map storing arity of categorical features. An entry (n -> k) indicates that feature n is categorical with k categories indexed from 0: {0, 1, ..., k-1}.\n",
    "* loss – Loss function used for minimization during gradient boosting. Supported values: “logLoss”, “leastSquaresError”, “leastAbsoluteError”. (default: “leastSquaresError”)\n",
    "* numIterations – Number of iterations of boosting. (default: 100)\n",
    "* learningRate – Learning rate for shrinking the contribution of each estimator. The learning rate should be between in the interval (0, 1]. (default: 0.1)\n",
    "* maxDepth – Maximum depth of tree (e.g. depth 0 means 1 leaf node, depth 1 means 1 internal node + 2 leaf nodes). (default: 3)\n",
    "* maxBins – Maximum number of bins used for splitting features. DecisionTree requires maxBins >= max categories. (default: 32)"
   ]
  },
  {
   "cell_type": "code",
   "execution_count": null,
   "metadata": {
    "collapsed": true
   },
   "outputs": [],
   "source": [
    "from pyspark.mllib.tree import GradientBoostedTrees, GradientBoostedTreesModel\n",
    "#from pyspark.mllib.util import MLUtils\n",
    "\n",
    "# Load and parse the data file.\n",
    "data = MLUtils.loadLibSVMFile(sc, \"data/mllib/sample_libsvm_data.txt\")\n",
    "# Split the data into training and test sets (30% held out for testing)\n",
    "(trainingData, testData) = data.randomSplit([0.7, 0.3])\n",
    "\n",
    "# Train a GradientBoostedTrees model.\n",
    "#  Notes: (a) Empty categoricalFeaturesInfo indicates all features are continuous.\n",
    "#         (b) Use more iterations in practice.\n",
    "model = GradientBoostedTrees.trainClassifier(trainingData,\n",
    "                                             categoricalFeaturesInfo={}, numIterations=3)\n",
    "\n",
    "# Evaluate model on test instances and compute test error\n",
    "predictions = model.predict(testData.map(lambda x: x.features))\n",
    "labelsAndPredictions = testData.map(lambda lp: lp.label).zip(predictions)\n",
    "testErr = labelsAndPredictions.filter(lambda (v, p): v != p).count() / float(testData.count())\n",
    "print('Test Error = ' + str(testErr))\n",
    "print('Learned classification GBT model:')\n",
    "print(model.toDebugString())\n",
    "\n",
    "# Save and load model\n",
    "model.save(sc, \"target/tmp/myGradientBoostingClassificationModel\")\n",
    "sameModel = GradientBoostedTreesModel.load(sc,\n",
    "                                           \"target/tmp/myGradientBoostingClassificationModel\")"
   ]
  },
  {
   "cell_type": "code",
   "execution_count": null,
   "metadata": {
    "collapsed": true
   },
   "outputs": [],
   "source": [
    "# Gradient Boosted Tree 테스트 메소드\n",
    "def evaluate_rf(train, test, numTrees, maxDepth, maxBins):\n",
    "    model=RandomForest.trainRegressor(train, categoricalFeaturesInfo={}, numTrees=numTrees, featureSubsetStrategy=\"auto\",\n",
    "                                    impurity='variance', maxDepth=maxDepth, maxBins=maxBins)\n",
    "    preds=model.predict(test.map(lambda p:p.features))\n",
    "    actual=test.map(lambda p:p.label)\n",
    "    tp=actual.zip(preds)\n",
    "    rmse=np.sqrt(tp.map(lambda p:squared_error(p[0], p[1])).mean())\n",
    "    return rmse"
   ]
  }
 ],
 "metadata": {
  "kernelspec": {
   "display_name": "Python 3",
   "language": "python",
   "name": "python3"
  },
  "language_info": {
   "codemirror_mode": {
    "name": "ipython",
    "version": 3
   },
   "file_extension": ".py",
   "mimetype": "text/x-python",
   "name": "python",
   "nbconvert_exporter": "python",
   "pygments_lexer": "ipython3",
   "version": "3.5.2"
  }
 },
 "nbformat": 4,
 "nbformat_minor": 2
}
